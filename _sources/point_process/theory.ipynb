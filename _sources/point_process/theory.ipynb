{
 "cells": [
  {
   "cell_type": "code",
   "execution_count": null,
   "metadata": {
    "tags": [
     "remove-cell"
    ]
   },
   "outputs": [],
   "source": [
    "import numpy as np\n",
    "import matplotlib.pyplot as plt\n",
    "import scipy.stats as stats\n",
    "from myst_nb import glue\n",
    "%config InlineBackend.figure_formats = ['svg']\n",
    "plt.rcParams.update({\n",
    "    \"text.usetex\": True,\n",
    "    \"font.family\": \"Helvetica\"\n",
    "})\n",
    "np.random.seed(12345)"
   ]
  },
  {
   "attachments": {},
   "cell_type": "markdown",
   "metadata": {},
   "source": [
    "# A little point process theory"
   ]
  },
  {
   "attachments": {},
   "cell_type": "markdown",
   "metadata": {},
   "source": [
    "At its most basic, a point process is a statistical distribution whose samples are _collections of points_. This is somewhat more abstract than distribution that\n",
    "produces real numbers (like the normal distribution) or integers (like the binomial distribution). In most examples we care about, the points are the times of events\n",
    "like action potentials or lever presses, though they could also be collections of points in two or more dimensions (locations of cell bodies or foraging sites). \n",
    "\n",
    "In this chapter, we will concentrate exclusively on a single kind of very special point process: the Poisson process. This is partly because the Poisson process\n",
    "is in some senses the _simplest_ type of point process, but it is also a very good approximation to many phenomena we care about. To define the point process, we \n",
    "will assume we know a single positive parameter $\\lambda > 0$ called the _intensity_ or _rate_ of the process. We will also assume (for the moment) that this \n",
    "parameter is a constant, and we will work in one dimension, so that events can be ordered along a line.\n",
    "\n",
    "Now, here's the definition: Take an interval of time of length $T$. For a Poisson process, the _number_ of events in this time interval is given by a Poisson _distribution_ with parameter $\\lambda T$:\n",
    "\n",
    "$$\n",
    "p(n) = \\frac{e^{-\\lambda T}(\\lambda T)^n}{n!},\n",
    "$$\n",
    "\n",
    "where $n$ is the number of events we observe and $n! = n \\cdot (n - 1) \\cdot \\ldots 1$ is the factorial function that accounts for the fact that the events are _exchangeable_ (it doesn't matter how we label them) and so we need to divide by the number of possible labelings.\n",
    "\n",
    "Two points to note about this definition:\n",
    "1. The mean of this distribution is $\\lambda T$. That is, the longer the time interval we observe, the more events we expect to see.\n",
    "1. The rate $\\lambda$ is an _intensity_. That is, it has units of \"events per unit time.\""
   ]
  },
  {
   "cell_type": "code",
   "execution_count": null,
   "metadata": {
    "tags": [
     "remove-cell"
    ]
   },
   "outputs": [],
   "source": [
    "nrealizations = 5\n",
    "glue(\"nrealizations\", nrealizations)\n",
    "rate = 8 \n",
    "glue(\"example_rate\", rate)\n",
    "samples = stats.poisson.rvs(rate, size=nrealizations)\n",
    "times = []\n",
    "indices = []\n",
    "for idx, s in enumerate(samples):\n",
    "    isi = stats.expon.rvs(scale=1/rate, size=s) \n",
    "    times.extend(np.cumsum(isi)) \n",
    "    indices.extend(idx * np.ones_like(isi))\n",
    "\n",
    "fig = plt.figure(figsize=(6, 2))\n",
    "plt.scatter(times, indices)\n",
    "plt.xlabel(r\"$\\mathrm{time}$\")\n",
    "ax = plt.gca()\n",
    "ax.spines[['right', 'top', 'left']].set_visible(False)\n",
    "ax.get_yaxis().set_visible(False)\n",
    "for idx in range(nrealizations):\n",
    "    plt.axhline(idx, color=\"#DDDDDD\", zorder=-3)\n",
    "glue(\"poisson_realizations\", fig, display=False);"
   ]
  },
  {
   "attachments": {},
   "cell_type": "markdown",
   "metadata": {},
   "source": [
    "```{glue:figure} poisson_realizations\n",
    ":name: \"poisson-examples\"\n",
    "\n",
    "Five example realizations (one per line) of a Poisson process with rate $\\lambda = 8$ per unit time. Each event time is marked with a dot.\n",
    "```"
   ]
  },
  {
   "attachments": {},
   "cell_type": "markdown",
   "metadata": {},
   "source": [
    "{numref}`poisson-examples` shows a few example realizations from this process. Note that the number of events in each realization is variable, and that the times between events (what we would call the inter-spike intervals in electrophysiology data) are highly variable. That is, Poisson processes often look clumpier than we might naively expect."
   ]
  },
  {
   "attachments": {},
   "cell_type": "markdown",
   "metadata": {},
   "source": [
    "Of course, the other ingredient we needed to generate {numref}`poisson-examples` was some way of randomly drawing times _between_ events. In fact, we can derive an expression for this using a key fact about Poisson processes: for disjoint intervals (periods of time that don't overlap), the numbers of events in each are _independent_. As a result, we can consider breaking an interval of size $T$ into very small intervals $\\Delta t$ such that $T = N \\Delta t$. We can then calculate the probability that there are no events for a time $T$:\n",
    "\n",
    "$$\n",
    "p(\\text{no events}) = \\prod_{i = 1}^N e^{-\\lambda \\Delta t} = e^{-\\lambda T}\n",
    "$$\n",
    "\n",
    "where we have used the fact that probabilities of independent events multiply and that the probability of drawing no events from a Poisson distribution in time $\\Delta t$ is $p(0) = e^{\\lambda \\Delta t}$. Of course, this is the same result that we would have gotten if we had simply asked for the probability of no events from the Poisson in time $T$.\n",
    "\n",
    "Now, the above expression shows that the probability of no events goes down exponentially fast in $T$. In fact, if we want to turn this into a probability distribution in $T$, we only have to normalize it:\n",
    "\n",
    "$$\n",
    "p(T) = \\lambda e^{-\\lambda T}\n",
    "$$\n",
    "\n",
    "which is an exponential random variable with parameter $\\lambda$. In other words, we can generate sample event times like those in {numref}`poisson-examples` by choosing inter-event times from an exponential distribution with the same rate parameter."
   ]
  },
  {
   "attachments": {},
   "cell_type": "markdown",
   "metadata": {},
   "source": [
    "```{seealso}\n",
    "Indeed, it's possible to _define_ a Poisson process in one dimension as a set of events with exponentially-distributed arrival times. See, e.g., Proposition 4.2.1 in {cite:p}`resnick1992adventures`.\n",
    "```\n",
    "\n",
    "```{bibliography}\n",
    ":style: unsrt\n",
    "```"
   ]
  }
 ],
 "metadata": {
  "kernelspec": {
   "display_name": "book",
   "language": "python",
   "name": "python3"
  },
  "language_info": {
   "codemirror_mode": {
    "name": "ipython",
    "version": 3
   },
   "file_extension": ".py",
   "mimetype": "text/x-python",
   "name": "python",
   "nbconvert_exporter": "python",
   "pygments_lexer": "ipython3",
   "version": "3.11.0 | packaged by conda-forge | (main, Oct 25 2022, 06:24:51) [Clang 14.0.4 ]"
  },
  "orig_nbformat": 4,
  "vscode": {
   "interpreter": {
    "hash": "a97c0be00662db3bed8fe12bace3dd68dcba4f9aa04406cb661d7504ba5e85ce"
   }
  }
 },
 "nbformat": 4,
 "nbformat_minor": 2
}
