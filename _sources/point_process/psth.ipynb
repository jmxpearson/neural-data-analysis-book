{
 "cells": [
  {
   "cell_type": "code",
   "execution_count": null,
   "metadata": {
    "tags": [
     "remove-cell"
    ]
   },
   "outputs": [],
   "source": [
    "import scipy.stats as stats\n",
    "from myst_nb import glue\n",
    "import scipy.stats as stats\n",
    "%config InlineBackend.figure_formats = ['svg']"
   ]
  },
  {
   "attachments": {},
   "cell_type": "markdown",
   "metadata": {},
   "source": [
    "(psth-section)=\n",
    "# The peri-stimulus time histogram\n",
    "\n",
    "\n",
    "The peri-stimulus (or peri-event) time histogram (PSTH/PETH) is one of the most prevalent analyses in systems neuroscience. Its original usage was in identifying responses of single neurons to specific events in time (where the events were action potentials), but it can also be used to analyze time series of specific behaviors, estimate connected cell pairs, and analyze any number of other ways in which streams of events might relate to other events in time.\n",
    "\n",
    "Here, we're going to work through the process of creating a simple PSTH using Python, noting along the way how various parameter choices capture relevant statistical assumptions and tradeoffs as well as affecting the look and feel of the resulting plots.\n",
    "\n",
    "We'll start with some sample data, shown in the raster plot below:"
   ]
  },
  {
   "cell_type": "code",
   "execution_count": null,
   "metadata": {
    "tags": [
     "remove-cell"
    ]
   },
   "outputs": [],
   "source": [
    "import numpy as np\n",
    "import matplotlib.pyplot as plt\n",
    "\n",
    "#set random seed\n",
    "np.random.seed(12345)"
   ]
  },
  {
   "cell_type": "code",
   "execution_count": null,
   "metadata": {
    "tags": [
     "remove-cell"
    ]
   },
   "outputs": [],
   "source": [
    "# time axis: \n",
    "dt = 0.001\n",
    "taxis = np.arange(-0.5, 1.5, dt)\n",
    "rate = dt * np.ones_like(taxis)\n",
    "\n",
    "# in [0, 1] rate is 10Hz\n",
    "up_rate = 10 * dt\n",
    "rate[(0 < taxis) & (taxis < 1)] = up_rate\n",
    "\n",
    "# generate counts\n",
    "ntrials = 50\n",
    "counts = stats.poisson.rvs(rate, size=(ntrials, len(rate)))\n",
    "\n",
    "# convert to event times\n",
    "trials, time_inds = counts.nonzero()\n",
    "times = taxis[time_inds]"
   ]
  },
  {
   "cell_type": "code",
   "execution_count": null,
   "metadata": {
    "tags": [
     "remove-input"
    ]
   },
   "outputs": [],
   "source": [
    "# raster plot\n",
    "plt.scatter(times, trials, s=10, color='k')\n",
    "plt.ylabel('trial')\n",
    "plt.xlabel('time (s)');"
   ]
  },
  {
   "attachments": {},
   "cell_type": "markdown",
   "metadata": {},
   "source": [
    "It should be obvious from this representation of the data that the firing rate goes up around 0 and down around 1 second later. In fact, these are artificial data generated from the methods of the last section by assuming that the firing rate is 1 Hz at baseline, increases to 10 Hz at 0.0, and falls again to baseline at 1.0 s. This highly contrived example &mdash; real data rarely look this clean &mdash; will allow us to examine the tradeoffs endemic in constructing the PSTH in a case where we know the ground truth."
   ]
  },
  {
   "cell_type": "markdown",
   "metadata": {},
   "source": [
    "## Binning"
   ]
  },
  {
   "attachments": {},
   "cell_type": "markdown",
   "metadata": {},
   "source": [
    "In the following sections, we'll assume we have our data in the form of two vectors, `times`, which contains the times of all the spikes, and `trials`, a vector of the same length that indicates the trial to which each spike belongs. \n",
    "\n",
    "```{admonition} Question\n",
    "It is more typical that data would be given as a list of lists, with each sub-list containing the spike times for that trial. How would you convert those data into the form we assume here?\n",
    "\n",
    "What if the times were given relative to a wall clock time (not trial onset), but you were given the start time of each trial?\n",
    "```"
   ]
  },
  {
   "attachments": {},
   "cell_type": "markdown",
   "metadata": {},
   "source": [
    "Given these data, we want to construct a histogram, in which the heights of histogram bars indicate _counts_. But in order to turn spike times into counts, we need to decide what time intervals will define our discrete bins. There are two ways to get these counts: \n",
    "1. We can use [`np.histogram`](https://numpy.org/doc/stable/reference/generated/numpy.histogram.html) to get them, specifying either the number of bins (as an integer) or the bin edges (as a vector).\n",
    "1. We can use [`plt.hist`](https://matplotlib.org/stable/gallery/statistics/hist.html#histograms) to make a bar plot of the result (which calls `np.histogram` under the hood).\n",
    "\n",
    "Here, we'll use the slightly more cumbersome method of specifying bin edges, since in neural data analysis we are typically more interested in specifying bin size than the number of bins."
   ]
  },
  {
   "cell_type": "code",
   "execution_count": null,
   "metadata": {},
   "outputs": [],
   "source": [
    "#specify a set of bin sizes (in s)\n",
    "bin_sizes = [0.005, 0.01, 0.02, 0.05] \n",
    "\n",
    "# make a 2 x 2 grid of plots\n",
    "fig, axes = plt.subplots(2, 2, sharey=True, sharex=True, tight_layout=True)\n",
    "\n",
    "# loop over bin sizes\n",
    "# make a PSTH for each one\n",
    "# zip pairs up the lists of bin sizes and axes\n",
    "for b, ax in zip(bin_sizes, axes.flatten()):\n",
    "    # make bins spaced b apart\n",
    "    bin_edges = np.arange(-0.5, 1.5, b)\n",
    "    ax.hist(times, bins=bin_edges)\n",
    "    ax.set_title(f\"Bin size = {b * 1000:.0f} ms\")\n",
    "    ax.set_ylabel(\"Count\")\n"
   ]
  },
  {
   "attachments": {},
   "cell_type": "markdown",
   "metadata": {},
   "source": [
    "A few things should stick out to you about the effects bin size has on the PSTH:\n",
    "- The small the bins, the fewer events in each bin. As a result, smaller bins lead to less (visually) apparent increases in firing.\n",
    "- Smaller bins result in \"spikier\" estimates of firing rate during the 1 s period of elevated firing. This is true despite the fact that we know that the firing rate during this period is _constant_. Conversely, larger bin sizes lead to _relatively_ less variance in bin counts. (The absolute variance is higher, since the Poisson distribution has a variance that scales as its mean.)\n",
    "- If we were concerned with estimating the onset and offset times of the elevated firing rate, larger bins would make this harder to estimate, since we would only be able to localize this event to within a time comparable to the bin size. That is, as we'll more clearly below, larger bins act as _smoothers_ of firing rate estimates.\n",
    "\n",
    "In effect, each of these phenomena are a result of the same concept, known in statistics as the **bias-variance tradeoff**: attempts to reduce the variance of an estimate (e.g., by using a larger bin size), often come at the cost of less accurate estimates (e.g., less precise onset times). Here, we know that firing rates in the middle 1 s period are constant, but if they were changing, smaller bins would allow us to better track those small changes. But the (relative) variance of those estimates would be much higher than if we used larger bins."
   ]
  },
  {
   "attachments": {},
   "cell_type": "markdown",
   "metadata": {},
   "source": [
    "## Firing rates and smoothing\n",
    "\n",
    "What we have constructed above is the classic PSTH: a histogram of spike counts across all trials. It is what you will see in many older physiology papers. It does, however, have a couple of shortcomings:\n",
    "- The quantity plotted on the y axis is spike counts, which depends on the number of trials we observe; it's not really a biological quantity of interest.\n",
    "- The estimates of firing rate are specific to each bin, but if we believe firing rates vary smoothly, we might want to lower the variance in these estimates by \"sharing\" some statistical power across bins.\n",
    "\n",
    "In response to these concerns, we will introduce two additional steps our analysis that are common features of more \"modern\" PSTHs:\n",
    "- Instead of summing across trials to get counts, we will _average_ them to get estimates of _firing rate_ as in [](psth_estimator).\n",
    "- We will then _smooth_ these firing rate estimates in time to trade temporal precision for a reduction in the variance of our estimates."
   ]
  },
  {
   "cell_type": "code",
   "execution_count": null,
   "metadata": {
    "tags": [
     "remove-cell"
    ]
   },
   "outputs": [],
   "source": [
    "fig, axes = plt.subplots(1, 2, sharey=True, tight_layout=True,\n",
    "                figsize=(10, 3))\n",
    "\n",
    "spk_times = np.array([0.1, 0.11, .120, .122])\n",
    "xmin = 0\n",
    "xmax = .15\n",
    "t_axis = np.arange(xmin, xmax, dt)\n",
    "ymin = 0\n",
    "ymax = 1.1\n",
    "spk_bin = np.histogram(spk_times, bins=t_axis)[0]\n",
    "\n",
    "plt.ylim(ymin, ymax)\n",
    "plt.yticks([])\n",
    "axes[0].set_xlim(-11, 11)\n",
    "axes[1].set_xlim(0.09, 0.14)\n",
    "axes[0].set_xlabel('time (ms)')\n",
    "filter_len = 100\n",
    "mini_t_axis = np.arange(-filter_len/2 + 0.5, filter_len/2 + 0.5, 1)\n",
    "spk_filter = np.zeros(filter_len)\n",
    "spk_filter[filter_len//2 - 1] = 1\n",
    "axes[0].stem(0, 1, markerfmt='none')\n",
    "axes[1].stem(spk_times + dt, np.ones_like(spk_times), markerfmt='none')\n",
    "\n",
    "# hacky: advance the color cycle\n",
    "axes[0].plot([], [])\n",
    "axes[1].plot([], [])\n",
    "\n",
    "plt.xticks([])\n",
    "wid = 20  # width in ms\n",
    "pad = 40\n",
    "boxcar_filter = np.pad(np.ones(wid)/wid, (pad, pad))\n",
    "axes[0].plot(mini_t_axis, boxcar_filter, label='boxcar')\n",
    "axes[1].plot(t_axis[1:], np.convolve(spk_bin, boxcar_filter, 'same'))\n",
    "\n",
    "gaussian_filter = stats.norm.pdf(np.arange(-.05, .05, dt), scale=.005)\n",
    "gaussian_filter /= np.sum(gaussian_filter)\n",
    "axes[0].plot(mini_t_axis - 0.5, gaussian_filter, label='Gaussian')\n",
    "axes[1].plot(t_axis[1:], np.convolve(spk_bin, gaussian_filter, 'same'))\n",
    "\n",
    "exponential_filter = stats.expon.pdf(np.arange(0, 0.05, dt), scale=0.002)\n",
    "exponential_filter /= np.sum(exponential_filter)\n",
    "exponential_filter = np.flip(exponential_filter)\n",
    "exponential_filter = np.pad(exponential_filter, (0, len(exponential_filter)))\n",
    "axes[0].plot(mini_t_axis + 0.5, exponential_filter, label='exponential')\n",
    "axes[1].plot(t_axis[1:], np.convolve(spk_bin, exponential_filter, 'same'))\n",
    "\n",
    "axes[0].legend();\n",
    "\n",
    "glue(\"filter_illustration\", fig, display=False);\n"
   ]
  },
  {
   "attachments": {},
   "cell_type": "markdown",
   "metadata": {},
   "source": [
    "```{glue:figure} filter_illustration\n",
    ":name: \"filter-illustration\"\n",
    "\n",
    "Effects of filter shape and width on spike rate estimation. **(Left)** A single spike (blue) and the same spike as smoothed (convolved) with a boxcar (orange), Gaussian (green), and causal exponential (red) filter. **(Right)** An example spike train smoothed using the same filters. Note that a trial-averaged PSTH is comparable to a boxcar filter with width equal to the bin width, and that the boxcar and Gaussian filters spread the influence of a spike into the both the past and the future.\n",
    "```"
   ]
  },
  {
   "attachments": {},
   "cell_type": "markdown",
   "metadata": {},
   "source": [
    "{numref}`filter-illustration` illustrates this smoothing strategy on a simple example data set of four spikes. In each case, we have replaced a single spike with the filter itself (equivalent to a [convolution](https://en.wikipedia.org/wiki/Convolution) operation). This operation spreads the influence of the single spike in time, increasing firing rate estimates nearby while lowering them at the time of the spike itself. Note also that, except for the case of the exponential filter, this smoothing spreads firing rate estimates into the future, which means that estimated firing rates will increase _before_ the first spikes actually arrive. Thus, for cases in which latencies and onsets are important, causal filters (which only spread into the past) should always be used."
   ]
  },
  {
   "attachments": {},
   "cell_type": "markdown",
   "metadata": {},
   "source": [
    "## Estimating trial-averaged firing\n",
    "\n",
    "So let's return to our example data set and try using what we've learned to estimate firing as a function of time in trial. As with the PSTH, our first step will be to bin the data, but this time, since we'll want access to the counts, not just the plot, we'll use the `np.histogram` function. Since we're eventually going to smooth with filters of various widths, we can start by using a very fine bin size of 1 ms."
   ]
  },
  {
   "cell_type": "code",
   "execution_count": 192,
   "metadata": {},
   "outputs": [],
   "source": [
    "bin_size = 0.001 \n",
    "\n",
    "edges = np.arange(-0.5, 1.5, bin_size)\n",
    "\n",
    "# histogram returns a tuple (counts, edges), so take \n",
    "# only the first of these\n",
    "counts = np.histogram(times, bins=edges)[0]"
   ]
  },
  {
   "attachments": {},
   "cell_type": "markdown",
   "metadata": {},
   "source": [
    "The next step is to smooth the counts using a filter. For this example, we'll use a Gaussian filter, though the principles remain the same for other shapes. Our strategy will be to first define a filter that has a Gaussian shape (using the Gaussian probability density function in `scipy.stats`) and then to normalize that filter so that its sum is 1."
   ]
  },
  {
   "cell_type": "code",
   "execution_count": 223,
   "metadata": {},
   "outputs": [],
   "source": [
    "import scipy.stats as stats\n",
    "\n",
    "# standard deviation of smoothing filter\n",
    "smooth_widths = [0.02, 0.050, 0.100, 0.2]\n",
    "\n",
    "filters = []\n",
    "# now for each bin size\n",
    "for s in smooth_widths:\n",
    "    # make a time axis for the filter (3 std before and after)\n",
    "    t_axis = np.arange(-3 * s, 3 * s, bin_size)\n",
    "\n",
    "    # make Gaussian filter \n",
    "    gaussian_filter = stats.norm.pdf(t_axis, scale=s)\n",
    "\n",
    "    # normalize its sum to 1\n",
    "    gaussian_filter /= np.sum(gaussian_filter)\n",
    "\n",
    "    filters.append(gaussian_filter)"
   ]
  },
  {
   "attachments": {},
   "cell_type": "markdown",
   "metadata": {},
   "source": [
    "Now, just as we did with our four-spike data set, we're going to use convolution to smooth the data. You can read more [here](https://en.wikipedia.org/wiki/Convolution#Visual_explanation), but the basic idea is that convolution moves the filter along the data, creating a summary of the nearby data at each stop. That is, it replaces the data value at a particular point with a weighted sum of data in the local neighborhood. In our case, we can create a plot that illustrates the effects of smoothing width on our firing rate estimate:"
   ]
  },
  {
   "cell_type": "code",
   "execution_count": 226,
   "metadata": {},
   "outputs": [
    {
     "data": {
      "image/svg+xml": "<?xml version=\"1.0\" encoding=\"utf-8\" standalone=\"no\"?>\n<!DOCTYPE svg PUBLIC \"-//W3C//DTD SVG 1.1//EN\"\n  \"http://www.w3.org/Graphics/SVG/1.1/DTD/svg11.dtd\">\n<svg xmlns:xlink=\"http://www.w3.org/1999/xlink\" width=\"404.923125pt\" height=\"310.86825pt\" viewBox=\"0 0 404.923125 310.86825\" xmlns=\"http://www.w3.org/2000/svg\" version=\"1.1\">\n <metadata>\n  <rdf:RDF xmlns:dc=\"http://purl.org/dc/elements/1.1/\" xmlns:cc=\"http://creativecommons.org/ns#\" xmlns:rdf=\"http://www.w3.org/1999/02/22-rdf-syntax-ns#\">\n   <cc:Work>\n    <dc:type rdf:resource=\"http://purl.org/dc/dcmitype/StillImage\"/>\n    <dc:date>2023-01-25T20:27:06.209191</dc:date>\n    <dc:format>image/svg+xml</dc:format>\n    <dc:creator>\n     <cc:Agent>\n      <dc:title>Matplotlib v3.5.3, https://matplotlib.org/</dc:title>\n     </cc:Agent>\n    </dc:creator>\n   </cc:Work>\n  </rdf:RDF>\n </metadata>\n <defs>\n  <style type=\"text/css\">*{stroke-linejoin: round; stroke-linecap: butt}</style>\n </defs>\n <g id=\"figure_1\">\n  <g id=\"patch_1\">\n   <path d=\"M 0 310.86825 \nL 404.923125 310.86825 \nL 404.923125 0 \nL 0 0 \nz\n\" style=\"fill: #ffffff\"/>\n  </g>\n  <g id=\"axes_1\">\n   <g id=\"patch_2\">\n    <path d=\"M 40.603125 273.312 \nL 397.723125 273.312 \nL 397.723125 7.2 \nL 40.603125 7.2 \nz\n\" style=\"fill: #ffffff\"/>\n   </g>\n   <g id=\"matplotlib.axis_1\">\n    <g id=\"xtick_1\">\n     <g id=\"line2d_1\">\n      <defs>\n       <path id=\"m6f83c5421b\" d=\"M 0 0 \nL 0 3.5 \n\" style=\"stroke: #000000; stroke-width: 0.8\"/>\n      </defs>\n      <g>\n       <use xlink:href=\"#m6f83c5421b\" x=\"56.835852\" y=\"273.312\" style=\"stroke: #000000; stroke-width: 0.8\"/>\n      </g>\n     </g>\n     <g id=\"text_1\">\n      <!-- −0.50 -->\n      <g transform=\"translate(41.513196 287.910437)scale(0.1 -0.1)\">\n       <defs>\n        <path id=\"DejaVuSans-2212\" d=\"M 678 2272 \nL 4684 2272 \nL 4684 1741 \nL 678 1741 \nL 678 2272 \nz\n\" transform=\"scale(0.015625)\"/>\n        <path id=\"DejaVuSans-30\" d=\"M 2034 4250 \nQ 1547 4250 1301 3770 \nQ 1056 3291 1056 2328 \nQ 1056 1369 1301 889 \nQ 1547 409 2034 409 \nQ 2525 409 2770 889 \nQ 3016 1369 3016 2328 \nQ 3016 3291 2770 3770 \nQ 2525 4250 2034 4250 \nz\nM 2034 4750 \nQ 2819 4750 3233 4129 \nQ 3647 3509 3647 2328 \nQ 3647 1150 3233 529 \nQ 2819 -91 2034 -91 \nQ 1250 -91 836 529 \nQ 422 1150 422 2328 \nQ 422 3509 836 4129 \nQ 1250 4750 2034 4750 \nz\n\" transform=\"scale(0.015625)\"/>\n        <path id=\"DejaVuSans-2e\" d=\"M 684 794 \nL 1344 794 \nL 1344 0 \nL 684 0 \nL 684 794 \nz\n\" transform=\"scale(0.015625)\"/>\n        <path id=\"DejaVuSans-35\" d=\"M 691 4666 \nL 3169 4666 \nL 3169 4134 \nL 1269 4134 \nL 1269 2991 \nQ 1406 3038 1543 3061 \nQ 1681 3084 1819 3084 \nQ 2600 3084 3056 2656 \nQ 3513 2228 3513 1497 \nQ 3513 744 3044 326 \nQ 2575 -91 1722 -91 \nQ 1428 -91 1123 -41 \nQ 819 9 494 109 \nL 494 744 \nQ 775 591 1075 516 \nQ 1375 441 1709 441 \nQ 2250 441 2565 725 \nQ 2881 1009 2881 1497 \nQ 2881 1984 2565 2268 \nQ 2250 2553 1709 2553 \nQ 1456 2553 1204 2497 \nQ 953 2441 691 2322 \nL 691 4666 \nz\n\" transform=\"scale(0.015625)\"/>\n       </defs>\n       <use xlink:href=\"#DejaVuSans-2212\"/>\n       <use xlink:href=\"#DejaVuSans-30\" x=\"83.789062\"/>\n       <use xlink:href=\"#DejaVuSans-2e\" x=\"147.412109\"/>\n       <use xlink:href=\"#DejaVuSans-35\" x=\"179.199219\"/>\n       <use xlink:href=\"#DejaVuSans-30\" x=\"242.822266\"/>\n      </g>\n     </g>\n    </g>\n    <g id=\"xtick_2\">\n     <g id=\"line2d_2\">\n      <g>\n       <use xlink:href=\"#m6f83c5421b\" x=\"97.437972\" y=\"273.312\" style=\"stroke: #000000; stroke-width: 0.8\"/>\n      </g>\n     </g>\n     <g id=\"text_2\">\n      <!-- −0.25 -->\n      <g transform=\"translate(82.115315 287.910437)scale(0.1 -0.1)\">\n       <defs>\n        <path id=\"DejaVuSans-32\" d=\"M 1228 531 \nL 3431 531 \nL 3431 0 \nL 469 0 \nL 469 531 \nQ 828 903 1448 1529 \nQ 2069 2156 2228 2338 \nQ 2531 2678 2651 2914 \nQ 2772 3150 2772 3378 \nQ 2772 3750 2511 3984 \nQ 2250 4219 1831 4219 \nQ 1534 4219 1204 4116 \nQ 875 4013 500 3803 \nL 500 4441 \nQ 881 4594 1212 4672 \nQ 1544 4750 1819 4750 \nQ 2544 4750 2975 4387 \nQ 3406 4025 3406 3419 \nQ 3406 3131 3298 2873 \nQ 3191 2616 2906 2266 \nQ 2828 2175 2409 1742 \nQ 1991 1309 1228 531 \nz\n\" transform=\"scale(0.015625)\"/>\n       </defs>\n       <use xlink:href=\"#DejaVuSans-2212\"/>\n       <use xlink:href=\"#DejaVuSans-30\" x=\"83.789062\"/>\n       <use xlink:href=\"#DejaVuSans-2e\" x=\"147.412109\"/>\n       <use xlink:href=\"#DejaVuSans-32\" x=\"179.199219\"/>\n       <use xlink:href=\"#DejaVuSans-35\" x=\"242.822266\"/>\n      </g>\n     </g>\n    </g>\n    <g id=\"xtick_3\">\n     <g id=\"line2d_3\">\n      <g>\n       <use xlink:href=\"#m6f83c5421b\" x=\"138.040091\" y=\"273.312\" style=\"stroke: #000000; stroke-width: 0.8\"/>\n      </g>\n     </g>\n     <g id=\"text_3\">\n      <!-- 0.00 -->\n      <g transform=\"translate(126.907278 287.910437)scale(0.1 -0.1)\">\n       <use xlink:href=\"#DejaVuSans-30\"/>\n       <use xlink:href=\"#DejaVuSans-2e\" x=\"63.623047\"/>\n       <use xlink:href=\"#DejaVuSans-30\" x=\"95.410156\"/>\n       <use xlink:href=\"#DejaVuSans-30\" x=\"159.033203\"/>\n      </g>\n     </g>\n    </g>\n    <g id=\"xtick_4\">\n     <g id=\"line2d_4\">\n      <g>\n       <use xlink:href=\"#m6f83c5421b\" x=\"178.64221\" y=\"273.312\" style=\"stroke: #000000; stroke-width: 0.8\"/>\n      </g>\n     </g>\n     <g id=\"text_4\">\n      <!-- 0.25 -->\n      <g transform=\"translate(167.509397 287.910437)scale(0.1 -0.1)\">\n       <use xlink:href=\"#DejaVuSans-30\"/>\n       <use xlink:href=\"#DejaVuSans-2e\" x=\"63.623047\"/>\n       <use xlink:href=\"#DejaVuSans-32\" x=\"95.410156\"/>\n       <use xlink:href=\"#DejaVuSans-35\" x=\"159.033203\"/>\n      </g>\n     </g>\n    </g>\n    <g id=\"xtick_5\">\n     <g id=\"line2d_5\">\n      <g>\n       <use xlink:href=\"#m6f83c5421b\" x=\"219.244329\" y=\"273.312\" style=\"stroke: #000000; stroke-width: 0.8\"/>\n      </g>\n     </g>\n     <g id=\"text_5\">\n      <!-- 0.50 -->\n      <g transform=\"translate(208.111517 287.910437)scale(0.1 -0.1)\">\n       <use xlink:href=\"#DejaVuSans-30\"/>\n       <use xlink:href=\"#DejaVuSans-2e\" x=\"63.623047\"/>\n       <use xlink:href=\"#DejaVuSans-35\" x=\"95.410156\"/>\n       <use xlink:href=\"#DejaVuSans-30\" x=\"159.033203\"/>\n      </g>\n     </g>\n    </g>\n    <g id=\"xtick_6\">\n     <g id=\"line2d_6\">\n      <g>\n       <use xlink:href=\"#m6f83c5421b\" x=\"259.846448\" y=\"273.312\" style=\"stroke: #000000; stroke-width: 0.8\"/>\n      </g>\n     </g>\n     <g id=\"text_6\">\n      <!-- 0.75 -->\n      <g transform=\"translate(248.713636 287.910437)scale(0.1 -0.1)\">\n       <defs>\n        <path id=\"DejaVuSans-37\" d=\"M 525 4666 \nL 3525 4666 \nL 3525 4397 \nL 1831 0 \nL 1172 0 \nL 2766 4134 \nL 525 4134 \nL 525 4666 \nz\n\" transform=\"scale(0.015625)\"/>\n       </defs>\n       <use xlink:href=\"#DejaVuSans-30\"/>\n       <use xlink:href=\"#DejaVuSans-2e\" x=\"63.623047\"/>\n       <use xlink:href=\"#DejaVuSans-37\" x=\"95.410156\"/>\n       <use xlink:href=\"#DejaVuSans-35\" x=\"159.033203\"/>\n      </g>\n     </g>\n    </g>\n    <g id=\"xtick_7\">\n     <g id=\"line2d_7\">\n      <g>\n       <use xlink:href=\"#m6f83c5421b\" x=\"300.448568\" y=\"273.312\" style=\"stroke: #000000; stroke-width: 0.8\"/>\n      </g>\n     </g>\n     <g id=\"text_7\">\n      <!-- 1.00 -->\n      <g transform=\"translate(289.315755 287.910437)scale(0.1 -0.1)\">\n       <defs>\n        <path id=\"DejaVuSans-31\" d=\"M 794 531 \nL 1825 531 \nL 1825 4091 \nL 703 3866 \nL 703 4441 \nL 1819 4666 \nL 2450 4666 \nL 2450 531 \nL 3481 531 \nL 3481 0 \nL 794 0 \nL 794 531 \nz\n\" transform=\"scale(0.015625)\"/>\n       </defs>\n       <use xlink:href=\"#DejaVuSans-31\"/>\n       <use xlink:href=\"#DejaVuSans-2e\" x=\"63.623047\"/>\n       <use xlink:href=\"#DejaVuSans-30\" x=\"95.410156\"/>\n       <use xlink:href=\"#DejaVuSans-30\" x=\"159.033203\"/>\n      </g>\n     </g>\n    </g>\n    <g id=\"xtick_8\">\n     <g id=\"line2d_8\">\n      <g>\n       <use xlink:href=\"#m6f83c5421b\" x=\"341.050687\" y=\"273.312\" style=\"stroke: #000000; stroke-width: 0.8\"/>\n      </g>\n     </g>\n     <g id=\"text_8\">\n      <!-- 1.25 -->\n      <g transform=\"translate(329.917874 287.910437)scale(0.1 -0.1)\">\n       <use xlink:href=\"#DejaVuSans-31\"/>\n       <use xlink:href=\"#DejaVuSans-2e\" x=\"63.623047\"/>\n       <use xlink:href=\"#DejaVuSans-32\" x=\"95.410156\"/>\n       <use xlink:href=\"#DejaVuSans-35\" x=\"159.033203\"/>\n      </g>\n     </g>\n    </g>\n    <g id=\"xtick_9\">\n     <g id=\"line2d_9\">\n      <g>\n       <use xlink:href=\"#m6f83c5421b\" x=\"381.652806\" y=\"273.312\" style=\"stroke: #000000; stroke-width: 0.8\"/>\n      </g>\n     </g>\n     <g id=\"text_9\">\n      <!-- 1.50 -->\n      <g transform=\"translate(370.519994 287.910437)scale(0.1 -0.1)\">\n       <use xlink:href=\"#DejaVuSans-31\"/>\n       <use xlink:href=\"#DejaVuSans-2e\" x=\"63.623047\"/>\n       <use xlink:href=\"#DejaVuSans-35\" x=\"95.410156\"/>\n       <use xlink:href=\"#DejaVuSans-30\" x=\"159.033203\"/>\n      </g>\n     </g>\n    </g>\n    <g id=\"text_10\">\n     <!-- time (s) -->\n     <g transform=\"translate(199.771719 301.588562)scale(0.1 -0.1)\">\n      <defs>\n       <path id=\"DejaVuSans-74\" d=\"M 1172 4494 \nL 1172 3500 \nL 2356 3500 \nL 2356 3053 \nL 1172 3053 \nL 1172 1153 \nQ 1172 725 1289 603 \nQ 1406 481 1766 481 \nL 2356 481 \nL 2356 0 \nL 1766 0 \nQ 1100 0 847 248 \nQ 594 497 594 1153 \nL 594 3053 \nL 172 3053 \nL 172 3500 \nL 594 3500 \nL 594 4494 \nL 1172 4494 \nz\n\" transform=\"scale(0.015625)\"/>\n       <path id=\"DejaVuSans-69\" d=\"M 603 3500 \nL 1178 3500 \nL 1178 0 \nL 603 0 \nL 603 3500 \nz\nM 603 4863 \nL 1178 4863 \nL 1178 4134 \nL 603 4134 \nL 603 4863 \nz\n\" transform=\"scale(0.015625)\"/>\n       <path id=\"DejaVuSans-6d\" d=\"M 3328 2828 \nQ 3544 3216 3844 3400 \nQ 4144 3584 4550 3584 \nQ 5097 3584 5394 3201 \nQ 5691 2819 5691 2113 \nL 5691 0 \nL 5113 0 \nL 5113 2094 \nQ 5113 2597 4934 2840 \nQ 4756 3084 4391 3084 \nQ 3944 3084 3684 2787 \nQ 3425 2491 3425 1978 \nL 3425 0 \nL 2847 0 \nL 2847 2094 \nQ 2847 2600 2669 2842 \nQ 2491 3084 2119 3084 \nQ 1678 3084 1418 2786 \nQ 1159 2488 1159 1978 \nL 1159 0 \nL 581 0 \nL 581 3500 \nL 1159 3500 \nL 1159 2956 \nQ 1356 3278 1631 3431 \nQ 1906 3584 2284 3584 \nQ 2666 3584 2933 3390 \nQ 3200 3197 3328 2828 \nz\n\" transform=\"scale(0.015625)\"/>\n       <path id=\"DejaVuSans-65\" d=\"M 3597 1894 \nL 3597 1613 \nL 953 1613 \nQ 991 1019 1311 708 \nQ 1631 397 2203 397 \nQ 2534 397 2845 478 \nQ 3156 559 3463 722 \nL 3463 178 \nQ 3153 47 2828 -22 \nQ 2503 -91 2169 -91 \nQ 1331 -91 842 396 \nQ 353 884 353 1716 \nQ 353 2575 817 3079 \nQ 1281 3584 2069 3584 \nQ 2775 3584 3186 3129 \nQ 3597 2675 3597 1894 \nz\nM 3022 2063 \nQ 3016 2534 2758 2815 \nQ 2500 3097 2075 3097 \nQ 1594 3097 1305 2825 \nQ 1016 2553 972 2059 \nL 3022 2063 \nz\n\" transform=\"scale(0.015625)\"/>\n       <path id=\"DejaVuSans-20\" transform=\"scale(0.015625)\"/>\n       <path id=\"DejaVuSans-28\" d=\"M 1984 4856 \nQ 1566 4138 1362 3434 \nQ 1159 2731 1159 2009 \nQ 1159 1288 1364 580 \nQ 1569 -128 1984 -844 \nL 1484 -844 \nQ 1016 -109 783 600 \nQ 550 1309 550 2009 \nQ 550 2706 781 3412 \nQ 1013 4119 1484 4856 \nL 1984 4856 \nz\n\" transform=\"scale(0.015625)\"/>\n       <path id=\"DejaVuSans-73\" d=\"M 2834 3397 \nL 2834 2853 \nQ 2591 2978 2328 3040 \nQ 2066 3103 1784 3103 \nQ 1356 3103 1142 2972 \nQ 928 2841 928 2578 \nQ 928 2378 1081 2264 \nQ 1234 2150 1697 2047 \nL 1894 2003 \nQ 2506 1872 2764 1633 \nQ 3022 1394 3022 966 \nQ 3022 478 2636 193 \nQ 2250 -91 1575 -91 \nQ 1294 -91 989 -36 \nQ 684 19 347 128 \nL 347 722 \nQ 666 556 975 473 \nQ 1284 391 1588 391 \nQ 1994 391 2212 530 \nQ 2431 669 2431 922 \nQ 2431 1156 2273 1281 \nQ 2116 1406 1581 1522 \nL 1381 1569 \nQ 847 1681 609 1914 \nQ 372 2147 372 2553 \nQ 372 3047 722 3315 \nQ 1072 3584 1716 3584 \nQ 2034 3584 2315 3537 \nQ 2597 3491 2834 3397 \nz\n\" transform=\"scale(0.015625)\"/>\n       <path id=\"DejaVuSans-29\" d=\"M 513 4856 \nL 1013 4856 \nQ 1481 4119 1714 3412 \nQ 1947 2706 1947 2009 \nQ 1947 1309 1714 600 \nQ 1481 -109 1013 -844 \nL 513 -844 \nQ 928 -128 1133 580 \nQ 1338 1288 1338 2009 \nQ 1338 2731 1133 3434 \nQ 928 4138 513 4856 \nz\n\" transform=\"scale(0.015625)\"/>\n      </defs>\n      <use xlink:href=\"#DejaVuSans-74\"/>\n      <use xlink:href=\"#DejaVuSans-69\" x=\"39.208984\"/>\n      <use xlink:href=\"#DejaVuSans-6d\" x=\"66.992188\"/>\n      <use xlink:href=\"#DejaVuSans-65\" x=\"164.404297\"/>\n      <use xlink:href=\"#DejaVuSans-20\" x=\"225.927734\"/>\n      <use xlink:href=\"#DejaVuSans-28\" x=\"257.714844\"/>\n      <use xlink:href=\"#DejaVuSans-73\" x=\"296.728516\"/>\n      <use xlink:href=\"#DejaVuSans-29\" x=\"348.828125\"/>\n     </g>\n    </g>\n   </g>\n   <g id=\"matplotlib.axis_2\">\n    <g id=\"ytick_1\">\n     <g id=\"line2d_10\">\n      <defs>\n       <path id=\"m2c869c424e\" d=\"M 0 0 \nL -3.5 0 \n\" style=\"stroke: #000000; stroke-width: 0.8\"/>\n      </defs>\n      <g>\n       <use xlink:href=\"#m2c869c424e\" x=\"40.603125\" y=\"261.540935\" style=\"stroke: #000000; stroke-width: 0.8\"/>\n      </g>\n     </g>\n     <g id=\"text_11\">\n      <!-- 0 -->\n      <g transform=\"translate(27.240625 265.340154)scale(0.1 -0.1)\">\n       <use xlink:href=\"#DejaVuSans-30\"/>\n      </g>\n     </g>\n    </g>\n    <g id=\"ytick_2\">\n     <g id=\"line2d_11\">\n      <g>\n       <use xlink:href=\"#m2c869c424e\" x=\"40.603125\" y=\"224.56579\" style=\"stroke: #000000; stroke-width: 0.8\"/>\n      </g>\n     </g>\n     <g id=\"text_12\">\n      <!-- 2 -->\n      <g transform=\"translate(27.240625 228.365009)scale(0.1 -0.1)\">\n       <use xlink:href=\"#DejaVuSans-32\"/>\n      </g>\n     </g>\n    </g>\n    <g id=\"ytick_3\">\n     <g id=\"line2d_12\">\n      <g>\n       <use xlink:href=\"#m2c869c424e\" x=\"40.603125\" y=\"187.590646\" style=\"stroke: #000000; stroke-width: 0.8\"/>\n      </g>\n     </g>\n     <g id=\"text_13\">\n      <!-- 4 -->\n      <g transform=\"translate(27.240625 191.389864)scale(0.1 -0.1)\">\n       <defs>\n        <path id=\"DejaVuSans-34\" d=\"M 2419 4116 \nL 825 1625 \nL 2419 1625 \nL 2419 4116 \nz\nM 2253 4666 \nL 3047 4666 \nL 3047 1625 \nL 3713 1625 \nL 3713 1100 \nL 3047 1100 \nL 3047 0 \nL 2419 0 \nL 2419 1100 \nL 313 1100 \nL 313 1709 \nL 2253 4666 \nz\n\" transform=\"scale(0.015625)\"/>\n       </defs>\n       <use xlink:href=\"#DejaVuSans-34\"/>\n      </g>\n     </g>\n    </g>\n    <g id=\"ytick_4\">\n     <g id=\"line2d_13\">\n      <g>\n       <use xlink:href=\"#m2c869c424e\" x=\"40.603125\" y=\"150.615501\" style=\"stroke: #000000; stroke-width: 0.8\"/>\n      </g>\n     </g>\n     <g id=\"text_14\">\n      <!-- 6 -->\n      <g transform=\"translate(27.240625 154.41472)scale(0.1 -0.1)\">\n       <defs>\n        <path id=\"DejaVuSans-36\" d=\"M 2113 2584 \nQ 1688 2584 1439 2293 \nQ 1191 2003 1191 1497 \nQ 1191 994 1439 701 \nQ 1688 409 2113 409 \nQ 2538 409 2786 701 \nQ 3034 994 3034 1497 \nQ 3034 2003 2786 2293 \nQ 2538 2584 2113 2584 \nz\nM 3366 4563 \nL 3366 3988 \nQ 3128 4100 2886 4159 \nQ 2644 4219 2406 4219 \nQ 1781 4219 1451 3797 \nQ 1122 3375 1075 2522 \nQ 1259 2794 1537 2939 \nQ 1816 3084 2150 3084 \nQ 2853 3084 3261 2657 \nQ 3669 2231 3669 1497 \nQ 3669 778 3244 343 \nQ 2819 -91 2113 -91 \nQ 1303 -91 875 529 \nQ 447 1150 447 2328 \nQ 447 3434 972 4092 \nQ 1497 4750 2381 4750 \nQ 2619 4750 2861 4703 \nQ 3103 4656 3366 4563 \nz\n\" transform=\"scale(0.015625)\"/>\n       </defs>\n       <use xlink:href=\"#DejaVuSans-36\"/>\n      </g>\n     </g>\n    </g>\n    <g id=\"ytick_5\">\n     <g id=\"line2d_14\">\n      <g>\n       <use xlink:href=\"#m2c869c424e\" x=\"40.603125\" y=\"113.640356\" style=\"stroke: #000000; stroke-width: 0.8\"/>\n      </g>\n     </g>\n     <g id=\"text_15\">\n      <!-- 8 -->\n      <g transform=\"translate(27.240625 117.439575)scale(0.1 -0.1)\">\n       <defs>\n        <path id=\"DejaVuSans-38\" d=\"M 2034 2216 \nQ 1584 2216 1326 1975 \nQ 1069 1734 1069 1313 \nQ 1069 891 1326 650 \nQ 1584 409 2034 409 \nQ 2484 409 2743 651 \nQ 3003 894 3003 1313 \nQ 3003 1734 2745 1975 \nQ 2488 2216 2034 2216 \nz\nM 1403 2484 \nQ 997 2584 770 2862 \nQ 544 3141 544 3541 \nQ 544 4100 942 4425 \nQ 1341 4750 2034 4750 \nQ 2731 4750 3128 4425 \nQ 3525 4100 3525 3541 \nQ 3525 3141 3298 2862 \nQ 3072 2584 2669 2484 \nQ 3125 2378 3379 2068 \nQ 3634 1759 3634 1313 \nQ 3634 634 3220 271 \nQ 2806 -91 2034 -91 \nQ 1263 -91 848 271 \nQ 434 634 434 1313 \nQ 434 1759 690 2068 \nQ 947 2378 1403 2484 \nz\nM 1172 3481 \nQ 1172 3119 1398 2916 \nQ 1625 2713 2034 2713 \nQ 2441 2713 2670 2916 \nQ 2900 3119 2900 3481 \nQ 2900 3844 2670 4047 \nQ 2441 4250 2034 4250 \nQ 1625 4250 1398 4047 \nQ 1172 3844 1172 3481 \nz\n\" transform=\"scale(0.015625)\"/>\n       </defs>\n       <use xlink:href=\"#DejaVuSans-38\"/>\n      </g>\n     </g>\n    </g>\n    <g id=\"ytick_6\">\n     <g id=\"line2d_15\">\n      <g>\n       <use xlink:href=\"#m2c869c424e\" x=\"40.603125\" y=\"76.665212\" style=\"stroke: #000000; stroke-width: 0.8\"/>\n      </g>\n     </g>\n     <g id=\"text_16\">\n      <!-- 10 -->\n      <g transform=\"translate(20.878125 80.464431)scale(0.1 -0.1)\">\n       <use xlink:href=\"#DejaVuSans-31\"/>\n       <use xlink:href=\"#DejaVuSans-30\" x=\"63.623047\"/>\n      </g>\n     </g>\n    </g>\n    <g id=\"ytick_7\">\n     <g id=\"line2d_16\">\n      <g>\n       <use xlink:href=\"#m2c869c424e\" x=\"40.603125\" y=\"39.690067\" style=\"stroke: #000000; stroke-width: 0.8\"/>\n      </g>\n     </g>\n     <g id=\"text_17\">\n      <!-- 12 -->\n      <g transform=\"translate(20.878125 43.489286)scale(0.1 -0.1)\">\n       <use xlink:href=\"#DejaVuSans-31\"/>\n       <use xlink:href=\"#DejaVuSans-32\" x=\"63.623047\"/>\n      </g>\n     </g>\n    </g>\n    <g id=\"text_18\">\n     <!-- firing rate (spks/s) -->\n     <g transform=\"translate(14.798438 185.996625)rotate(-90)scale(0.1 -0.1)\">\n      <defs>\n       <path id=\"DejaVuSans-66\" d=\"M 2375 4863 \nL 2375 4384 \nL 1825 4384 \nQ 1516 4384 1395 4259 \nQ 1275 4134 1275 3809 \nL 1275 3500 \nL 2222 3500 \nL 2222 3053 \nL 1275 3053 \nL 1275 0 \nL 697 0 \nL 697 3053 \nL 147 3053 \nL 147 3500 \nL 697 3500 \nL 697 3744 \nQ 697 4328 969 4595 \nQ 1241 4863 1831 4863 \nL 2375 4863 \nz\n\" transform=\"scale(0.015625)\"/>\n       <path id=\"DejaVuSans-72\" d=\"M 2631 2963 \nQ 2534 3019 2420 3045 \nQ 2306 3072 2169 3072 \nQ 1681 3072 1420 2755 \nQ 1159 2438 1159 1844 \nL 1159 0 \nL 581 0 \nL 581 3500 \nL 1159 3500 \nL 1159 2956 \nQ 1341 3275 1631 3429 \nQ 1922 3584 2338 3584 \nQ 2397 3584 2469 3576 \nQ 2541 3569 2628 3553 \nL 2631 2963 \nz\n\" transform=\"scale(0.015625)\"/>\n       <path id=\"DejaVuSans-6e\" d=\"M 3513 2113 \nL 3513 0 \nL 2938 0 \nL 2938 2094 \nQ 2938 2591 2744 2837 \nQ 2550 3084 2163 3084 \nQ 1697 3084 1428 2787 \nQ 1159 2491 1159 1978 \nL 1159 0 \nL 581 0 \nL 581 3500 \nL 1159 3500 \nL 1159 2956 \nQ 1366 3272 1645 3428 \nQ 1925 3584 2291 3584 \nQ 2894 3584 3203 3211 \nQ 3513 2838 3513 2113 \nz\n\" transform=\"scale(0.015625)\"/>\n       <path id=\"DejaVuSans-67\" d=\"M 2906 1791 \nQ 2906 2416 2648 2759 \nQ 2391 3103 1925 3103 \nQ 1463 3103 1205 2759 \nQ 947 2416 947 1791 \nQ 947 1169 1205 825 \nQ 1463 481 1925 481 \nQ 2391 481 2648 825 \nQ 2906 1169 2906 1791 \nz\nM 3481 434 \nQ 3481 -459 3084 -895 \nQ 2688 -1331 1869 -1331 \nQ 1566 -1331 1297 -1286 \nQ 1028 -1241 775 -1147 \nL 775 -588 \nQ 1028 -725 1275 -790 \nQ 1522 -856 1778 -856 \nQ 2344 -856 2625 -561 \nQ 2906 -266 2906 331 \nL 2906 616 \nQ 2728 306 2450 153 \nQ 2172 0 1784 0 \nQ 1141 0 747 490 \nQ 353 981 353 1791 \nQ 353 2603 747 3093 \nQ 1141 3584 1784 3584 \nQ 2172 3584 2450 3431 \nQ 2728 3278 2906 2969 \nL 2906 3500 \nL 3481 3500 \nL 3481 434 \nz\n\" transform=\"scale(0.015625)\"/>\n       <path id=\"DejaVuSans-61\" d=\"M 2194 1759 \nQ 1497 1759 1228 1600 \nQ 959 1441 959 1056 \nQ 959 750 1161 570 \nQ 1363 391 1709 391 \nQ 2188 391 2477 730 \nQ 2766 1069 2766 1631 \nL 2766 1759 \nL 2194 1759 \nz\nM 3341 1997 \nL 3341 0 \nL 2766 0 \nL 2766 531 \nQ 2569 213 2275 61 \nQ 1981 -91 1556 -91 \nQ 1019 -91 701 211 \nQ 384 513 384 1019 \nQ 384 1609 779 1909 \nQ 1175 2209 1959 2209 \nL 2766 2209 \nL 2766 2266 \nQ 2766 2663 2505 2880 \nQ 2244 3097 1772 3097 \nQ 1472 3097 1187 3025 \nQ 903 2953 641 2809 \nL 641 3341 \nQ 956 3463 1253 3523 \nQ 1550 3584 1831 3584 \nQ 2591 3584 2966 3190 \nQ 3341 2797 3341 1997 \nz\n\" transform=\"scale(0.015625)\"/>\n       <path id=\"DejaVuSans-70\" d=\"M 1159 525 \nL 1159 -1331 \nL 581 -1331 \nL 581 3500 \nL 1159 3500 \nL 1159 2969 \nQ 1341 3281 1617 3432 \nQ 1894 3584 2278 3584 \nQ 2916 3584 3314 3078 \nQ 3713 2572 3713 1747 \nQ 3713 922 3314 415 \nQ 2916 -91 2278 -91 \nQ 1894 -91 1617 61 \nQ 1341 213 1159 525 \nz\nM 3116 1747 \nQ 3116 2381 2855 2742 \nQ 2594 3103 2138 3103 \nQ 1681 3103 1420 2742 \nQ 1159 2381 1159 1747 \nQ 1159 1113 1420 752 \nQ 1681 391 2138 391 \nQ 2594 391 2855 752 \nQ 3116 1113 3116 1747 \nz\n\" transform=\"scale(0.015625)\"/>\n       <path id=\"DejaVuSans-6b\" d=\"M 581 4863 \nL 1159 4863 \nL 1159 1991 \nL 2875 3500 \nL 3609 3500 \nL 1753 1863 \nL 3688 0 \nL 2938 0 \nL 1159 1709 \nL 1159 0 \nL 581 0 \nL 581 4863 \nz\n\" transform=\"scale(0.015625)\"/>\n       <path id=\"DejaVuSans-2f\" d=\"M 1625 4666 \nL 2156 4666 \nL 531 -594 \nL 0 -594 \nL 1625 4666 \nz\n\" transform=\"scale(0.015625)\"/>\n      </defs>\n      <use xlink:href=\"#DejaVuSans-66\"/>\n      <use xlink:href=\"#DejaVuSans-69\" x=\"35.205078\"/>\n      <use xlink:href=\"#DejaVuSans-72\" x=\"62.988281\"/>\n      <use xlink:href=\"#DejaVuSans-69\" x=\"104.101562\"/>\n      <use xlink:href=\"#DejaVuSans-6e\" x=\"131.884766\"/>\n      <use xlink:href=\"#DejaVuSans-67\" x=\"195.263672\"/>\n      <use xlink:href=\"#DejaVuSans-20\" x=\"258.740234\"/>\n      <use xlink:href=\"#DejaVuSans-72\" x=\"290.527344\"/>\n      <use xlink:href=\"#DejaVuSans-61\" x=\"331.640625\"/>\n      <use xlink:href=\"#DejaVuSans-74\" x=\"392.919922\"/>\n      <use xlink:href=\"#DejaVuSans-65\" x=\"432.128906\"/>\n      <use xlink:href=\"#DejaVuSans-20\" x=\"493.652344\"/>\n      <use xlink:href=\"#DejaVuSans-28\" x=\"525.439453\"/>\n      <use xlink:href=\"#DejaVuSans-73\" x=\"564.453125\"/>\n      <use xlink:href=\"#DejaVuSans-70\" x=\"616.552734\"/>\n      <use xlink:href=\"#DejaVuSans-6b\" x=\"680.029297\"/>\n      <use xlink:href=\"#DejaVuSans-73\" x=\"737.939453\"/>\n      <use xlink:href=\"#DejaVuSans-2f\" x=\"790.039062\"/>\n      <use xlink:href=\"#DejaVuSans-73\" x=\"823.730469\"/>\n      <use xlink:href=\"#DejaVuSans-29\" x=\"875.830078\"/>\n     </g>\n    </g>\n   </g>\n   <g id=\"line2d_17\">\n    <path d=\"M 56.835852 243.053362 \nL 137.877682 243.053362 \nL 138.040091 76.665212 \nL 300.286159 76.665212 \nL 300.448568 243.053362 \nL 381.490398 243.053362 \nL 381.490398 243.053362 \n\" clip-path=\"url(#p5faea30ae9)\" style=\"fill: none; stroke: #1f77b4; stroke-width: 1.5; stroke-linecap: square\"/>\n   </g>\n   <g id=\"line2d_18\">\n    <path d=\"M 56.998261 257.058617 \nL 61.870515 249.602803 \nL 63.169783 247.705637 \nL 64.631459 245.201303 \nL 68.366854 238.496567 \nL 69.178897 237.665403 \nL 69.990939 237.11597 \nL 70.315756 237.090001 \nL 70.96539 237.05273 \nL 71.777432 237.276975 \nL 72.427066 237.755768 \nL 73.401517 238.814611 \nL 76.487278 242.53256 \nL 77.461729 243.121476 \nL 79.085814 243.760379 \nL 79.410631 243.832078 \nL 80.060264 244.233659 \nL 80.385081 244.573819 \nL 80.709898 244.77693 \nL 83.146026 246.950532 \nL 83.633251 246.997864 \nL 84.120476 246.770086 \nL 84.607702 246.30457 \nL 85.094927 245.292884 \nL 85.582153 243.927725 \nL 86.394195 241.077273 \nL 89.155139 230.239873 \nL 90.12959 228.301239 \nL 90.616815 227.904732 \nL 90.779224 227.86426 \nL 91.753675 228.456292 \nL 92.403309 229.4419 \nL 93.215351 231.282586 \nL 94.677027 235.328972 \nL 95.976295 238.714789 \nL 96.625929 239.994325 \nL 97.275563 240.974216 \nL 97.60038 241.30657 \nL 97.925197 241.335603 \nL 98.412422 241.347263 \nL 98.737239 241.34284 \nL 99.224465 240.807608 \nL 100.036507 239.445386 \nL 101.010958 237.004925 \nL 103.771902 229.095598 \nL 104.421536 227.988333 \nL 104.908761 227.419362 \nL 105.720804 227.364062 \nL 106.045621 227.640186 \nL 106.532846 228.429347 \nL 107.020072 229.663899 \nL 107.832114 232.504291 \nL 108.968973 237.771036 \nL 110.755467 246.308186 \nL 111.567509 249.177651 \nL 112.054734 250.397386 \nL 112.54196 251.127306 \nL 113.029185 251.463594 \nL 113.354002 251.481956 \nL 113.841228 251.236737 \nL 114.328453 250.724119 \nL 115.302904 249.293229 \nL 116.277355 247.809402 \nL 117.089397 246.88834 \nL 117.251806 246.957225 \nL 117.739031 246.785965 \nL 118.226257 246.902956 \nL 118.713482 247.286553 \nL 119.363116 248.138738 \nL 120.499975 250.155048 \nL 121.799243 252.333001 \nL 122.611285 253.22457 \nL 123.260919 253.614287 \nL 123.910553 253.755972 \nL 124.23537 253.676765 \nL 125.37223 253.419993 \nL 125.697047 253.245315 \nL 126.671497 252.998355 \nL 126.996314 253.015442 \nL 128.620399 252.671354 \nL 129.270033 251.905109 \nL 130.244484 250.140021 \nL 131.543752 245.318916 \nL 132.355794 240.4424 \nL 133.167836 233.751528 \nL 134.304696 220.990016 \nL 135.279147 207.295021 \nL 136.903231 179.467174 \nL 138.852133 144.841996 \nL 139.826584 131.031237 \nL 140.476218 123.885293 \nL 141.125852 118.516057 \nL 141.775486 115.13057 \nL 142.262711 113.268828 \nL 142.912345 111.918504 \nL 144.374021 109.980041 \nL 145.023655 108.487982 \nL 145.673289 105.974003 \nL 146.322923 102.446837 \nL 147.459782 94.521878 \nL 148.109416 89.850154 \nL 148.921459 84.947066 \nL 149.571093 82.079206 \nL 149.89591 81.500816 \nL 150.220727 81.070826 \nL 150.545543 81.159202 \nL 150.87036 81.666619 \nL 151.519994 83.922235 \nL 152.656854 88.949289 \nL 153.144079 91.08138 \nL 153.793713 92.748222 \nL 154.11853 93.085293 \nL 154.443347 93.075126 \nL 154.605755 92.936914 \nL 155.092981 91.797503 \nL 155.580206 89.885746 \nL 156.554657 85.073195 \nL 157.041883 82.005848 \nL 157.853925 78.37413 \nL 158.34115 77.053863 \nL 158.828376 76.555825 \nL 159.153193 76.490217 \nL 159.315601 76.626387 \nL 160.290052 78.86905 \nL 160.777278 80.694763 \nL 161.426911 83.235198 \nL 161.751728 84.286338 \nL 162.401362 85.88923 \nL 162.888588 86.682612 \nL 163.213405 86.986314 \nL 164.025447 87.018687 \nL 164.512673 86.870121 \nL 165.324715 86.754879 \nL 166.461574 87.685322 \nL 166.786391 88.314765 \nL 166.9488 88.620187 \nL 167.273617 89.490134 \nL 167.598434 90.128235 \nL 168.572884 93.360916 \nL 170.034561 97.63815 \nL 170.846603 99.440825 \nL 171.658645 100.884973 \nL 172.145871 101.644436 \nL 172.470688 101.880357 \nL 172.633096 101.933306 \nL 172.795505 102.186631 \nL 173.120322 102.19653 \nL 173.28273 102.223604 \nL 173.607547 102.059404 \nL 173.932364 101.902457 \nL 174.744407 100.993032 \nL 175.718857 98.792655 \nL 176.693308 95.658935 \nL 177.992576 88.94009 \nL 179.616661 78.861897 \nL 182.215196 62.843733 \nL 182.702422 60.692127 \nL 183.352056 58.948966 \nL 184.164098 58.722546 \nL 184.488915 59.249848 \nL 184.813732 60.167025 \nL 185.300958 62.036317 \nL 186.275408 68.170019 \nL 187.087451 74.406329 \nL 189.036353 88.158368 \nL 189.523578 90.389497 \nL 190.010803 91.792856 \nL 190.498029 92.750936 \nL 190.822846 92.857742 \nL 190.985254 92.740013 \nL 191.634888 91.170901 \nL 192.284522 88.732935 \nL 192.609339 87.079174 \nL 196.182326 61.566136 \nL 196.831959 58.643093 \nL 197.481593 56.720986 \nL 197.80641 56.084956 \nL 198.293636 55.696735 \nL 198.456044 55.716631 \nL 198.618453 55.604335 \nL 198.94327 55.953598 \nL 199.105678 55.923273 \nL 200.242537 56.820684 \nL 200.892171 57.022265 \nL 201.216988 56.831565 \nL 202.029031 55.464131 \nL 202.841073 52.544617 \nL 204.627566 44.708902 \nL 205.2772 42.20265 \nL 205.764426 41.370713 \nL 206.089243 41.137227 \nL 206.251651 41.295435 \nL 206.41406 41.294931 \nL 206.576468 41.480641 \nL 207.063693 42.708356 \nL 207.713327 45.872413 \nL 208.687778 53.923227 \nL 209.662229 64.338251 \nL 212.260765 94.413565 \nL 212.910399 99.479247 \nL 213.397624 101.466636 \nL 213.884849 102.684955 \nL 214.209666 102.488518 \nL 214.372075 102.289885 \nL 215.021709 100.058553 \nL 215.346526 98.390152 \nL 215.833751 94.893343 \nL 216.970611 84.362481 \nL 218.919512 64.939094 \nL 219.569146 59.846543 \nL 220.21878 55.986513 \nL 220.868414 53.416698 \nL 221.355639 52.323463 \nL 221.680456 51.935231 \nL 222.167682 52.11641 \nL 222.817316 53.356587 \nL 223.46695 55.785422 \nL 224.116584 59.646463 \nL 225.903077 74.619345 \nL 228.014387 94.003104 \nL 228.826429 99.89044 \nL 229.638472 103.902428 \nL 230.125697 105.509699 \nL 230.775331 106.588374 \nL 230.93774 106.671616 \nL 231.100148 106.934851 \nL 231.424965 106.738656 \nL 231.587373 106.714988 \nL 231.91219 106.330803 \nL 232.886641 104.144232 \nL 233.698684 100.928592 \nL 236.459628 84.817723 \nL 237.758896 78.883965 \nL 238.570938 76.840043 \nL 239.058163 76.350694 \nL 239.220572 76.330771 \nL 239.38298 76.149877 \nL 239.707797 76.45524 \nL 240.032614 77.082867 \nL 240.844657 79.829317 \nL 241.819108 84.703156 \nL 243.930418 97.682565 \nL 244.74246 101.347769 \nL 245.392094 103.068274 \nL 245.879319 103.547017 \nL 246.041728 103.684208 \nL 246.691362 102.729988 \nL 247.016179 101.906638 \nL 247.665813 99.227828 \nL 248.153038 96.903391 \nL 248.965081 92.081241 \nL 250.913982 81.927843 \nL 251.401208 80.19508 \nL 252.21325 78.837625 \nL 253.187701 78.898658 \nL 253.512518 79.33742 \nL 253.837335 79.520987 \nL 254.974194 81.010254 \nL 255.623828 81.131689 \nL 255.948645 80.981883 \nL 256.43587 80.015787 \nL 257.57273 76.204658 \nL 258.384772 71.81495 \nL 259.68404 62.341686 \nL 260.983308 52.79892 \nL 262.607393 42.934347 \nL 263.419435 40.142623 \nL 264.069069 38.301499 \nL 264.393886 37.822255 \nL 265.205928 37.406781 \nL 265.530745 37.724203 \nL 266.180379 39.255693 \nL 266.667605 41.085296 \nL 267.642055 46.43472 \nL 269.590957 64.201094 \nL 273.163944 102.173797 \nL 273.813577 106.343281 \nL 274.300803 108.714091 \nL 274.788028 110.227669 \nL 275.112845 110.67571 \nL 275.600071 110.942582 \nL 275.762479 110.899764 \nL 276.249705 110.166491 \nL 277.224156 106.975754 \nL 280.147508 96.632435 \nL 280.95955 95.112167 \nL 282.421227 92.676696 \nL 283.233269 90.524493 \nL 283.720495 88.555502 \nL 284.694945 81.967939 \nL 285.669396 72.006434 \nL 286.643847 59.581225 \nL 289.079974 28.220184 \nL 289.729608 22.765534 \nL 290.216834 20.220649 \nL 290.541651 19.420052 \nL 290.866468 19.296 \nL 291.028876 19.436315 \nL 291.353693 20.265969 \nL 291.67851 21.983506 \nL 292.165735 25.696842 \nL 292.815369 32.594038 \nL 293.627412 44.48529 \nL 294.601863 62.11535 \nL 296.875581 107.641582 \nL 298.337258 135.651958 \nL 300.448568 172.525444 \nL 302.884695 210.550852 \nL 304.183963 226.794765 \nL 304.833597 233.44613 \nL 305.970456 241.726695 \nL 306.62009 244.957486 \nL 307.269724 247.20159 \nL 307.919358 248.598291 \nL 308.244175 249.134682 \nL 309.218625 250.049222 \nL 309.543442 250.089543 \nL 310.517893 249.757311 \nL 311.654753 248.892212 \nL 311.97957 248.602147 \nL 312.141978 248.616545 \nL 313.766063 247.012145 \nL 314.578105 246.51607 \nL 315.227739 246.407232 \nL 315.714965 246.539233 \nL 316.20219 246.874284 \nL 316.851824 247.642401 \nL 317.663866 249.072883 \nL 318.800726 251.687292 \nL 321.074444 257.050286 \nL 322.048895 258.72786 \nL 322.860938 259.752444 \nL 323.67298 260.467868 \nL 324.485022 260.93366 \nL 325.459473 261.095957 \nL 326.433924 261.015445 \nL 327.408375 260.725579 \nL 328.058009 260.197162 \nL 328.870051 259.393379 \nL 329.682094 258.29784 \nL 331.955812 253.389211 \nL 332.930263 250.689676 \nL 333.904714 247.827953 \nL 337.315292 238.414626 \nL 338.939377 234.646542 \nL 340.238645 232.272472 \nL 340.888278 231.566311 \nL 341.375504 231.299215 \nL 342.025138 231.253222 \nL 342.512363 231.537606 \nL 343.161997 232.261489 \nL 343.811631 233.287032 \nL 344.461265 234.520355 \nL 345.598124 236.339235 \nL 346.247758 237.050951 \nL 346.572575 237.272281 \nL 346.897392 237.303834 \nL 347.222209 237.377928 \nL 347.709435 237.1871 \nL 348.359068 236.696574 \nL 349.658336 235.347663 \nL 350.632787 234.471686 \nL 351.282421 234.141158 \nL 351.607238 234.057135 \nL 351.932055 234.094303 \nL 352.41928 234.101952 \nL 352.744097 234.231223 \nL 353.068914 234.211375 \nL 353.55614 234.338341 \nL 353.880957 234.519636 \nL 356.317084 235.410574 \nL 358.428394 236.495244 \nL 358.915619 236.536476 \nL 359.727662 236.587662 \nL 360.377296 236.160341 \nL 361.02693 235.47375 \nL 362.00138 234.073883 \nL 364.112691 230.590261 \nL 364.762325 230.007286 \nL 365.087142 229.951627 \nL 365.574367 229.931415 \nL 366.061592 230.195685 \nL 367.198452 231.917043 \nL 368.010494 233.886745 \nL 369.147353 237.397822 \nL 371.908298 245.965324 \nL 373.532382 250.100555 \nL 375.806101 255.065674 \nL 377.267777 257.662247 \nL 378.567045 259.484715 \nL 379.541496 260.324567 \nL 380.515947 260.883317 \nL 381.490398 261.216 \nL 381.490398 261.216 \n\" clip-path=\"url(#p5faea30ae9)\" style=\"fill: none; stroke: #ff7f0e; stroke-width: 1.5; stroke-linecap: square\"/>\n   </g>\n   <g id=\"line2d_19\">\n    <path d=\"M 56.998261 254.248125 \nL 59.921613 251.369337 \nL 63.981825 247.378751 \nL 67.067586 244.743915 \nL 68.691671 243.725615 \nL 70.478164 242.862041 \nL 72.589475 242.165599 \nL 74.700785 241.784394 \nL 80.54749 240.911967 \nL 81.521941 240.609549 \nL 82.983617 240.095844 \nL 85.90697 238.925879 \nL 89.804773 237.261383 \nL 90.454407 237.052761 \nL 92.2409 236.504075 \nL 92.728126 236.379424 \nL 94.839436 235.976246 \nL 96.788338 235.812624 \nL 97.437972 235.835658 \nL 99.062056 235.932785 \nL 99.874099 236.073033 \nL 101.498183 236.439198 \nL 103.447085 237.111098 \nL 105.07117 237.954988 \nL 106.695255 239.003768 \nL 108.644156 240.479679 \nL 113.029185 244.200335 \nL 113.841228 244.906295 \nL 116.602172 246.482988 \nL 118.388665 246.856471 \nL 118.87589 246.79905 \nL 119.850341 246.682992 \nL 120.662384 246.366278 \nL 121.636835 245.776437 \nL 122.936102 244.395386 \nL 124.722596 241.263913 \nL 125.534638 239.380063 \nL 126.34668 237.1041 \nL 127.158723 234.452098 \nL 128.945216 227.25079 \nL 130.406892 220.208824 \nL 131.868569 211.964271 \nL 133.330245 202.474423 \nL 136.740823 177.449956 \nL 141.937894 139.057404 \nL 143.886796 126.75711 \nL 145.673289 116.995692 \nL 147.134965 110.278343 \nL 148.75905 103.92005 \nL 150.220727 99.329515 \nL 151.519994 96.056641 \nL 152.981671 93.072204 \nL 154.280938 91.140683 \nL 155.255389 89.916036 \nL 156.717066 88.682905 \nL 158.178742 87.988579 \nL 158.503559 87.95425 \nL 158.828376 87.842958 \nL 161.264503 87.70061 \nL 163.70063 88.385301 \nL 168.085659 89.805966 \nL 168.572884 89.867783 \nL 169.222518 89.892811 \nL 169.547335 89.868957 \nL 170.359378 89.768172 \nL 170.846603 89.702572 \nL 171.17142 89.670832 \nL 173.607547 88.483381 \nL 177.342942 85.129918 \nL 178.479802 83.750789 \nL 179.129435 82.977209 \nL 182.86483 79.129113 \nL 184.164098 78.026271 \nL 184.813732 77.364394 \nL 185.950591 76.32437 \nL 186.275408 76.13784 \nL 190.33562 72.893392 \nL 190.660437 72.635714 \nL 190.822846 72.613036 \nL 193.58379 69.846775 \nL 194.071015 69.273388 \nL 194.558241 68.743508 \nL 196.019917 67.006658 \nL 197.644002 65.415017 \nL 200.080129 63.248176 \nL 202.029031 62.590713 \nL 203.16589 62.49248 \nL 204.952383 63.169801 \nL 207.38851 65.100334 \nL 207.875736 65.618242 \nL 208.362961 66.152218 \nL 209.012595 66.894893 \nL 213.884849 71.957526 \nL 214.8593 72.674393 \nL 215.833751 73.3394 \nL 217.620244 74.432356 \nL 218.10747 74.690491 \nL 218.919512 75.187501 \nL 219.244329 75.344252 \nL 219.731555 75.666537 \nL 220.056372 75.835537 \nL 221.355639 76.772003 \nL 225.253443 80.421926 \nL 230.612923 86.104569 \nL 233.373867 88.388152 \nL 233.861092 88.545308 \nL 234.997952 88.992368 \nL 235.322768 89.101606 \nL 235.972402 89.3237 \nL 236.784445 89.470516 \nL 237.921304 89.572033 \nL 238.895755 89.582937 \nL 239.870206 89.497925 \nL 240.844657 89.333512 \nL 241.331882 89.269771 \nL 241.819108 89.079075 \nL 242.63115 88.998035 \nL 243.280784 88.849911 \nL 244.092826 88.464261 \nL 247.178587 86.157311 \nL 248.965081 84.387092 \nL 253.025292 78.169836 \nL 254.811786 74.917177 \nL 256.111054 72.636714 \nL 257.085504 70.983134 \nL 259.034406 68.013391 \nL 259.846448 67.175946 \nL 260.820899 66.312989 \nL 261.79535 65.737108 \nL 262.444984 65.607496 \nL 263.257026 65.653111 \nL 263.90666 65.875747 \nL 265.855562 67.317675 \nL 267.15483 69.015385 \nL 267.804464 70.032773 \nL 268.454098 71.141152 \nL 269.590957 73.199939 \nL 272.51431 78.580889 \nL 273.975986 80.850233 \nL 274.788028 81.772494 \nL 276.412113 82.86969 \nL 277.224156 82.992737 \nL 277.873789 83.024282 \nL 278.523423 82.826548 \nL 279.660283 82.022757 \nL 281.121959 80.495908 \nL 283.558086 77.624612 \nL 283.882903 77.341867 \nL 285.344579 76.130796 \nL 286.31903 75.878657 \nL 286.643847 75.91909 \nL 287.45589 76.342071 \nL 288.105523 77.086187 \nL 288.917566 78.454362 \nL 289.5672 79.975198 \nL 290.541651 83.05217 \nL 291.840918 88.5328 \nL 292.815369 93.895981 \nL 293.78982 100.11893 \nL 295.576313 113.661149 \nL 297.200398 127.82336 \nL 299.636525 151.132339 \nL 303.37192 186.299383 \nL 304.996005 199.736073 \nL 306.457681 210.483579 \nL 307.756949 218.727628 \nL 308.893809 224.951939 \nL 310.030668 230.384452 \nL 311.492344 236.166855 \nL 312.304387 238.915836 \nL 313.928471 243.491566 \nL 315.065331 246.006067 \nL 316.689415 248.800823 \nL 318.475909 251.08665 \nL 320.099993 252.43924 \nL 320.912036 252.984491 \nL 322.373712 253.571307 \nL 324.160205 253.967287 \nL 325.134656 253.850454 \nL 326.596333 253.347293 \nL 326.921149 253.258345 \nL 328.058009 252.559749 \nL 329.519685 251.44512 \nL 330.981361 250.048371 \nL 332.767855 248.069561 \nL 339.589011 240.343197 \nL 341.700321 238.531283 \nL 343.486814 237.349885 \nL 345.435716 236.400319 \nL 347.222209 235.838338 \nL 349.658336 235.354881 \nL 352.256872 235.116462 \nL 355.180224 235.063793 \nL 357.616352 235.22287 \nL 359.402845 235.547106 \nL 361.02693 236.005917 \nL 362.488606 236.647918 \nL 363.787874 237.378244 \nL 365.087142 238.324393 \nL 366.386409 239.471914 \nL 367.848086 240.969505 \nL 369.634579 243.069785 \nL 372.070706 246.258032 \nL 377.267777 253.158536 \nL 379.379088 255.458657 \nL 381.327989 257.255977 \nL 381.490398 257.382643 \nL 381.490398 257.382643 \n\" clip-path=\"url(#p5faea30ae9)\" style=\"fill: none; stroke: #2ca02c; stroke-width: 1.5; stroke-linecap: square\"/>\n   </g>\n   <g id=\"line2d_20\">\n    <path d=\"M 56.998261 252.664169 \nL 58.784754 251.697149 \nL 70.96539 245.434298 \nL 75.025602 243.663636 \nL 78.923405 242.205653 \nL 82.333983 241.180356 \nL 85.744561 240.390719 \nL 89.155139 239.859648 \nL 91.104041 239.554219 \nL 91.753675 239.467689 \nL 94.514619 239.150923 \nL 95.813887 239.052796 \nL 99.386873 238.796147 \nL 104.096719 237.987717 \nL 106.532846 237.416982 \nL 107.832114 236.96044 \nL 108.644156 236.537478 \nL 109.618607 236.008821 \nL 111.892326 234.456208 \nL 113.191594 233.356166 \nL 114.490862 232.058717 \nL 115.790129 230.568061 \nL 117.739031 227.815977 \nL 120.01275 223.967596 \nL 121.474426 221.069431 \nL 122.936102 217.85288 \nL 127.321131 206.11705 \nL 130.082075 197.345266 \nL 134.95433 179.776924 \nL 145.186064 140.853824 \nL 148.596642 129.245063 \nL 151.519994 120.413391 \nL 154.11853 113.528122 \nL 155.417798 110.419606 \nL 158.016333 104.855172 \nL 159.640418 101.798175 \nL 162.238954 97.539452 \nL 164.675081 94.220965 \nL 166.9488 91.62592 \nL 170.684195 87.902766 \nL 175.881266 83.670572 \nL 183.027239 78.786456 \nL 188.711536 75.485052 \nL 189.361169 75.169858 \nL 193.421381 73.263426 \nL 196.507142 72.15606 \nL 201.05458 71.406061 \nL 202.191439 71.341926 \nL 203.003482 71.242461 \nL 205.926834 71.358901 \nL 206.41406 71.474421 \nL 207.713327 71.786291 \nL 209.175004 72.143157 \nL 209.824638 72.291325 \nL 210.961497 72.617183 \nL 212.423173 73.140424 \nL 213.397624 73.515659 \nL 218.269878 75.645453 \nL 219.406738 76.209369 \nL 220.21878 76.564201 \nL 221.193231 77.040289 \nL 222.492499 77.684789 \nL 227.202345 79.827864 \nL 228.014387 80.187835 \nL 230.450514 81.01063 \nL 233.373867 81.812485 \nL 236.622036 82.316849 \nL 238.895755 82.33114 \nL 239.707797 82.292371 \nL 241.331882 82.107792 \nL 247.178587 80.704251 \nL 248.640264 80.27493 \nL 254.32456 78.420514 \nL 259.034406 77.40515 \nL 262.769801 77.148982 \nL 265.855562 77.614058 \nL 266.992421 77.980791 \nL 269.428549 79.098479 \nL 270.727816 79.884213 \nL 271.702267 80.582042 \nL 273.001535 81.771887 \nL 275.275254 84.092297 \nL 276.412113 85.544624 \nL 277.711381 87.370335 \nL 279.9851 91.129048 \nL 283.070861 97.526903 \nL 285.344579 103.26856 \nL 287.618298 109.8491 \nL 290.054425 117.866042 \nL 292.165735 125.488469 \nL 296.875581 144.490873 \nL 300.123751 158.724839 \nL 303.209512 172.372028 \nL 306.295273 185.609457 \nL 310.680302 202.914114 \nL 313.441246 212.42485 \nL 315.227739 217.889136 \nL 317.339049 223.502627 \nL 318.638317 226.591073 \nL 319.937585 229.301505 \nL 321.886487 232.812168 \nL 323.67298 235.471381 \nL 325.134656 237.198595 \nL 326.921149 238.965071 \nL 328.707643 240.270937 \nL 330.818953 241.33339 \nL 331.793404 241.642326 \nL 333.904714 242.043051 \nL 336.665658 242.109075 \nL 342.025138 241.487477 \nL 343.649223 241.194413 \nL 344.298857 241.066268 \nL 346.734984 240.59163 \nL 348.19666 240.415332 \nL 350.30797 240.178628 \nL 352.41928 240.106047 \nL 354.692999 240.199129 \nL 356.966718 240.514941 \nL 359.078028 241.018231 \nL 361.514155 241.803011 \nL 363.950282 242.824116 \nL 366.548818 244.116261 \nL 369.796987 245.948444 \nL 374.669242 248.988775 \nL 381.490398 253.21829 \nL 381.490398 253.21829 \n\" clip-path=\"url(#p5faea30ae9)\" style=\"fill: none; stroke: #d62728; stroke-width: 1.5; stroke-linecap: square\"/>\n   </g>\n   <g id=\"line2d_21\">\n    <path d=\"M 56.998261 250.921538 \nL 60.408839 249.721484 \nL 63.169783 248.664053 \nL 66.905178 247.187869 \nL 74.700785 243.620738 \nL 81.684349 239.820526 \nL 86.881421 236.448614 \nL 91.753675 232.791128 \nL 94.35221 230.631123 \nL 101.173366 224.025205 \nL 103.934311 220.990731 \nL 106.370438 218.08717 \nL 108.806565 215.000156 \nL 114.978087 206.278745 \nL 120.01275 198.366303 \nL 124.885004 189.956475 \nL 127.808357 184.594361 \nL 135.279147 170.321249 \nL 141.613077 157.801791 \nL 144.861247 151.355691 \nL 149.408684 142.506648 \nL 156.22984 129.7977 \nL 161.102094 121.421234 \nL 164.187856 116.453245 \nL 167.273617 111.759974 \nL 171.658645 105.643638 \nL 175.39404 101.014167 \nL 177.018125 99.142901 \nL 180.428703 95.554792 \nL 184.00169 92.228139 \nL 187.574676 89.349496 \nL 193.908607 85.186772 \nL 198.293636 82.960906 \nL 200.080129 82.240859 \nL 203.815524 80.961355 \nL 207.063693 80.137109 \nL 210.311863 79.539279 \nL 213.884849 79.113328 \nL 217.457836 78.930039 \nL 221.355639 78.951341 \nL 224.928626 79.195758 \nL 228.664021 79.653224 \nL 232.237007 80.305982 \nL 235.647585 81.126691 \nL 241.169474 83.004758 \nL 244.092826 84.19409 \nL 248.802672 86.590836 \nL 250.913982 87.865028 \nL 253.837335 89.76057 \nL 255.786237 91.244289 \nL 259.68404 94.509435 \nL 263.581843 98.323196 \nL 267.317238 102.535272 \nL 269.753366 105.559442 \nL 273.813577 111.114062 \nL 277.873789 117.330558 \nL 281.934001 124.17522 \nL 286.643847 132.751825 \nL 290.216834 139.642097 \nL 294.277046 147.802154 \nL 311.492344 183.153056 \nL 314.902922 189.714937 \nL 319.937585 198.877431 \nL 324.647431 206.745632 \nL 327.245966 210.723146 \nL 331.14377 216.24835 \nL 335.041573 221.234615 \nL 338.939377 225.696461 \nL 342.83718 229.632643 \nL 346.897392 233.233166 \nL 351.607238 236.890269 \nL 356.317084 239.984226 \nL 362.163789 243.303013 \nL 364.924733 244.677499 \nL 372.557931 248.018317 \nL 381.490398 251.268414 \nL 381.490398 251.268414 \n\" clip-path=\"url(#p5faea30ae9)\" style=\"fill: none; stroke: #9467bd; stroke-width: 1.5; stroke-linecap: square\"/>\n   </g>\n   <g id=\"patch_3\">\n    <path d=\"M 40.603125 273.312 \nL 40.603125 7.2 \n\" style=\"fill: none; stroke: #000000; stroke-width: 0.8; stroke-linejoin: miter; stroke-linecap: square\"/>\n   </g>\n   <g id=\"patch_4\">\n    <path d=\"M 397.723125 273.312 \nL 397.723125 7.2 \n\" style=\"fill: none; stroke: #000000; stroke-width: 0.8; stroke-linejoin: miter; stroke-linecap: square\"/>\n   </g>\n   <g id=\"patch_5\">\n    <path d=\"M 40.603125 273.312 \nL 397.723125 273.312 \n\" style=\"fill: none; stroke: #000000; stroke-width: 0.8; stroke-linejoin: miter; stroke-linecap: square\"/>\n   </g>\n   <g id=\"patch_6\">\n    <path d=\"M 40.603125 7.2 \nL 397.723125 7.2 \n\" style=\"fill: none; stroke: #000000; stroke-width: 0.8; stroke-linejoin: miter; stroke-linecap: square\"/>\n   </g>\n   <g id=\"legend_1\">\n    <g id=\"patch_7\">\n     <path d=\"M 321.5075 88.590625 \nL 390.723125 88.590625 \nQ 392.723125 88.590625 392.723125 86.590625 \nL 392.723125 14.2 \nQ 392.723125 12.2 390.723125 12.2 \nL 321.5075 12.2 \nQ 319.5075 12.2 319.5075 14.2 \nL 319.5075 86.590625 \nQ 319.5075 88.590625 321.5075 88.590625 \nz\n\" style=\"fill: #ffffff; opacity: 0.8; stroke: #cccccc; stroke-linejoin: miter\"/>\n    </g>\n    <g id=\"line2d_22\">\n     <path d=\"M 323.5075 20.298437 \nL 333.5075 20.298437 \nL 343.5075 20.298437 \n\" style=\"fill: none; stroke: #1f77b4; stroke-width: 1.5; stroke-linecap: square\"/>\n    </g>\n    <g id=\"text_19\">\n     <!-- true -->\n     <g transform=\"translate(351.5075 23.798437)scale(0.1 -0.1)\">\n      <defs>\n       <path id=\"DejaVuSans-75\" d=\"M 544 1381 \nL 544 3500 \nL 1119 3500 \nL 1119 1403 \nQ 1119 906 1312 657 \nQ 1506 409 1894 409 \nQ 2359 409 2629 706 \nQ 2900 1003 2900 1516 \nL 2900 3500 \nL 3475 3500 \nL 3475 0 \nL 2900 0 \nL 2900 538 \nQ 2691 219 2414 64 \nQ 2138 -91 1772 -91 \nQ 1169 -91 856 284 \nQ 544 659 544 1381 \nz\nM 1991 3584 \nL 1991 3584 \nz\n\" transform=\"scale(0.015625)\"/>\n      </defs>\n      <use xlink:href=\"#DejaVuSans-74\"/>\n      <use xlink:href=\"#DejaVuSans-72\" x=\"39.208984\"/>\n      <use xlink:href=\"#DejaVuSans-75\" x=\"80.322266\"/>\n      <use xlink:href=\"#DejaVuSans-65\" x=\"143.701172\"/>\n     </g>\n    </g>\n    <g id=\"line2d_23\">\n     <path d=\"M 323.5075 34.976562 \nL 333.5075 34.976562 \nL 343.5075 34.976562 \n\" style=\"fill: none; stroke: #ff7f0e; stroke-width: 1.5; stroke-linecap: square\"/>\n    </g>\n    <g id=\"text_20\">\n     <!-- 20 ms -->\n     <g transform=\"translate(351.5075 38.476562)scale(0.1 -0.1)\">\n      <use xlink:href=\"#DejaVuSans-32\"/>\n      <use xlink:href=\"#DejaVuSans-30\" x=\"63.623047\"/>\n      <use xlink:href=\"#DejaVuSans-20\" x=\"127.246094\"/>\n      <use xlink:href=\"#DejaVuSans-6d\" x=\"159.033203\"/>\n      <use xlink:href=\"#DejaVuSans-73\" x=\"256.445312\"/>\n     </g>\n    </g>\n    <g id=\"line2d_24\">\n     <path d=\"M 323.5075 49.654687 \nL 333.5075 49.654687 \nL 343.5075 49.654687 \n\" style=\"fill: none; stroke: #2ca02c; stroke-width: 1.5; stroke-linecap: square\"/>\n    </g>\n    <g id=\"text_21\">\n     <!-- 50 ms -->\n     <g transform=\"translate(351.5075 53.154687)scale(0.1 -0.1)\">\n      <use xlink:href=\"#DejaVuSans-35\"/>\n      <use xlink:href=\"#DejaVuSans-30\" x=\"63.623047\"/>\n      <use xlink:href=\"#DejaVuSans-20\" x=\"127.246094\"/>\n      <use xlink:href=\"#DejaVuSans-6d\" x=\"159.033203\"/>\n      <use xlink:href=\"#DejaVuSans-73\" x=\"256.445312\"/>\n     </g>\n    </g>\n    <g id=\"line2d_25\">\n     <path d=\"M 323.5075 64.332812 \nL 333.5075 64.332812 \nL 343.5075 64.332812 \n\" style=\"fill: none; stroke: #d62728; stroke-width: 1.5; stroke-linecap: square\"/>\n    </g>\n    <g id=\"text_22\">\n     <!-- 100 ms -->\n     <g transform=\"translate(351.5075 67.832812)scale(0.1 -0.1)\">\n      <use xlink:href=\"#DejaVuSans-31\"/>\n      <use xlink:href=\"#DejaVuSans-30\" x=\"63.623047\"/>\n      <use xlink:href=\"#DejaVuSans-30\" x=\"127.246094\"/>\n      <use xlink:href=\"#DejaVuSans-20\" x=\"190.869141\"/>\n      <use xlink:href=\"#DejaVuSans-6d\" x=\"222.65625\"/>\n      <use xlink:href=\"#DejaVuSans-73\" x=\"320.068359\"/>\n     </g>\n    </g>\n    <g id=\"line2d_26\">\n     <path d=\"M 323.5075 79.010937 \nL 333.5075 79.010937 \nL 343.5075 79.010937 \n\" style=\"fill: none; stroke: #9467bd; stroke-width: 1.5; stroke-linecap: square\"/>\n    </g>\n    <g id=\"text_23\">\n     <!-- 200 ms -->\n     <g transform=\"translate(351.5075 82.510937)scale(0.1 -0.1)\">\n      <use xlink:href=\"#DejaVuSans-32\"/>\n      <use xlink:href=\"#DejaVuSans-30\" x=\"63.623047\"/>\n      <use xlink:href=\"#DejaVuSans-30\" x=\"127.246094\"/>\n      <use xlink:href=\"#DejaVuSans-20\" x=\"190.869141\"/>\n      <use xlink:href=\"#DejaVuSans-6d\" x=\"222.65625\"/>\n      <use xlink:href=\"#DejaVuSans-73\" x=\"320.068359\"/>\n     </g>\n    </g>\n   </g>\n  </g>\n </g>\n <defs>\n  <clipPath id=\"p5faea30ae9\">\n   <rect x=\"40.603125\" y=\"7.2\" width=\"357.12\" height=\"266.112\"/>\n  </clipPath>\n </defs>\n</svg>\n",
      "text/plain": [
       "<Figure size 640x480 with 1 Axes>"
      ]
     },
     "metadata": {},
     "output_type": "display_data"
    }
   ],
   "source": [
    "# include the ground truth rate for plotting\n",
    "true_rate = np.ones_like(edges)\n",
    "# in [0, 1] rate is 10Hz\n",
    "true_rate[(0 < edges) & (edges < 1)] = 10\n",
    "\n",
    "ntrials = 50\n",
    "\n",
    "# plot ground truth rate\n",
    "plt.plot(edges, true_rate, label='true')\n",
    "\n",
    "# enumerate gives us both indices and values in a tuple\n",
    "for idx, s in enumerate(smooth_widths):\n",
    "    # since the smoothed data is an estimate of spikes per bin,\n",
    "    # we need to divide by bin size and number of trials \n",
    "    # to get an estimate of rate\n",
    "    rate_estimate = (counts/bin_size)/ntrials\n",
    "\n",
    "    # convolve to get filtered data\n",
    "    # 'same' returns data of the same length\n",
    "    smoothed_data = np.convolve(rate_estimate, filters[idx], 'same')\n",
    "\n",
    "    # since there are one fewer bins than edges, we use edges[1:]\n",
    "    plt.plot(edges[1:], smoothed_data, label=f\"{s / bin_size:.0f} ms\")\n",
    "\n",
    "plt.xlabel('time (s)')\n",
    "plt.ylabel('firing rate (spks/s)')\n",
    "plt.legend();"
   ]
  },
  {
   "attachments": {},
   "cell_type": "markdown",
   "metadata": {},
   "source": [
    "Note that the smaller-width filters are more variable but still centered around the true data, so our estimates pick up on smaller fluctuations in local spike counts while being less reliable at each point. By contrast, the larger smoothing widths are less variable but are badly biased around firing rate changes. In effect, when smoothing with a filter of width $T$, it is hard to detect changes in firing rate on scales $< T$."
   ]
  },
  {
   "attachments": {},
   "cell_type": "markdown",
   "metadata": {},
   "source": [
    "```{admonition} Question\n",
    "In our above analysis, we binned spikes on a very fine time scale and used smoothing to get firing rate estimates. What would happen if we had used bigger bin sizes to start? Would this have affected our final rate estimates?\n",
    "```"
   ]
  },
  {
   "attachments": {},
   "cell_type": "markdown",
   "metadata": {},
   "source": [
    "## Beyond spikes\n",
    "\n",
    "Though the analyses we've done here are very simple, they apply to many different types of data. For example, many experiments generate time stamps of short behaviors that can be viewed as realizations of a point process, and we are often interested in the (average) rate of such a process around sets of other events. In such cases, the PSTH is often the method of choice. Along different lines, for continuously recorded data, we may also be interested in the average time trace of the data across repetitions of the same experimental condition, again aligned to select moments in time (e.g., trial start, movement or stimulus onset, reward delivery). In this case, the PSTH is also a useful analysis (without the hassle of binning). Implicitly, the PSTH assumes that the data have a characteristic time course of interest, and this pattern repeats around some class of events whose locations we know in time. Aligning the data to these events and then averaging thus produces an estimate of this \"typical\" time course."
   ]
  },
  {
   "cell_type": "markdown",
   "metadata": {},
   "source": []
  }
 ],
 "metadata": {
  "kernelspec": {
   "display_name": "base",
   "language": "python",
   "name": "python3"
  },
  "language_info": {
   "codemirror_mode": {
    "name": "ipython",
    "version": 3
   },
   "file_extension": ".py",
   "mimetype": "text/x-python",
   "name": "python",
   "nbconvert_exporter": "python",
   "pygments_lexer": "ipython3",
   "version": "3.8.10 (default, May 19 2021, 11:01:55) \n[Clang 10.0.0 ]"
  },
  "orig_nbformat": 4,
  "vscode": {
   "interpreter": {
    "hash": "f9e02e0b94c2bdff7abf49239ef598c5e519e47cb46f883733d825e84045e64b"
   }
  }
 },
 "nbformat": 4,
 "nbformat_minor": 2
}
