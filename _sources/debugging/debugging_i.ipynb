{
 "cells": [
  {
   "attachments": {},
   "cell_type": "markdown",
   "metadata": {},
   "source": [
    "# Debugging Practicum I\n",
    "In this class, we'll use all the tools at our disposal to fix some code that isn't working. [The data](https://drive.google.com/file/d/1t2JIa8WYFjHqm4Eg_pjSQQTZ44uH68ni/view?usp=sharing) for this exercise are time series of pupil measurements taken while a participant completed an [\"oddball\" task](https://en.wikipedia.org/wiki/Oddball_paradigm), and the analysis performed is plotting trial-averaged pupil responses to standard and deviant sounds, locked to stimulus presentation. As with most code in the wild, this is only lightly commented. This constitutes what is often called a [minimal working example](https://en.wikipedia.org/wiki/Minimal_Working_Example) (MWE), apart from the fact that it's not quite minimal and not quite working.\n",
    "\n",
    "The complete code, put together as a Jupyter notebook, is available [here](https://colab.research.google.com/drive/1n8rwZZOX7gaHQ33XlH5EEVR5E6VAfVkP?usp=sharing), but is also listed below. Your goal in class, using whatever means you have at your disposal, is to find and remove the bugs.\n",
    "\n",
    "````{admonition} Exercise\n",
    "1. Fix the code. Note that not all bugs generate errors. To find some bugs, you will need to understand what the pieces of the code are trying to accomplish. Using the debugger to help you trace the code may be very helpful.\n",
    "\n",
    "As usual, you can download directly using\n",
    "```\n",
    "!gdown 1t2JIa8WYFjHqm4Eg_pjSQQTZ44uH68ni\n",
    "```\n",
    "````\n",
    "\n"
   ]
  },
  {
   "attachments": {},
   "cell_type": "markdown",
   "metadata": {},
   "source": [
    "## Code listing:"
   ]
  },
  {
   "cell_type": "code",
   "execution_count": 2,
   "metadata": {
    "tags": [
     "remove-cell"
    ]
   },
   "outputs": [
    {
     "name": "stdout",
     "output_type": "stream",
     "text": [
      "Downloading...\n",
      "From: https://drive.google.com/uc?id=1t2JIa8WYFjHqm4Eg_pjSQQTZ44uH68ni\n",
      "To: /Users/jmxp/code/neural-data-analysis-book/introduction_to_neural_data_analysis/debugging/pupil.mat\n",
      "100%|████████████████████████████████████████| 104k/104k [00:00<00:00, 2.04MB/s]\n"
     ]
    }
   ],
   "source": [
    "# download the data\n",
    "!gdown 1t2JIa8WYFjHqm4Eg_pjSQQTZ44uH68ni"
   ]
  },
  {
   "cell_type": "code",
   "execution_count": 3,
   "metadata": {},
   "outputs": [],
   "source": [
    "import numpy as np\n",
    "import pandas as pd\n",
    "from scipy.io import loadmat\n",
    "import matplotlib.pyplot as plt\n",
    "%config InlineBackend.figure_formats = ['svg']\n",
    "import seaborn as sns"
   ]
  },
  {
   "cell_type": "code",
   "execution_count": 5,
   "metadata": {
    "tags": [
     "hide-cell"
    ]
   },
   "outputs": [],
   "source": [
    "dat = loadmat('pupil.mat', struct_as_record=False)\n",
    "\n",
    "# make a dataframe\n",
    "eye_df = pd.DataFrame({'pupil': dat['pupil'].squeeze(), \n",
    "                      }, index=dat['taxis'].squeeze())\n",
    "\n",
    "evt_times = dat['evttimes'].squeeze()\n",
    "was_odd = dat['trialvec'].squeeze() == 1"
   ]
  },
  {
   "attachments": {},
   "cell_type": "markdown",
   "metadata": {},
   "source": [
    "## Solution:"
   ]
  },
  {
   "attachments": {},
   "cell_type": "markdown",
   "metadata": {},
   "source": [
    "```{toggle}\n",
    "1. In cell 4, `dat['pupil']` needs to be `squeeze`d.\n",
    "1. In cell 8, the post-event time is wrong. It should be 8 to match the figure.\n",
    "1. In cell 10, last line: The returned time axis should be a shifted `np.arange(nstart, nend + 1)`.\n",
    "1. In cell 14, the `mean` and `std` should exclude `nan` (i.e., `nanmean`, `nanstd`).\n",
    "1. In cell 15, line 3, the first `+` should be `-`.\n",
    "```"
   ]
  },
  {
   "cell_type": "markdown",
   "metadata": {},
   "source": []
  }
 ],
 "metadata": {
  "kernelspec": {
   "display_name": "book",
   "language": "python",
   "name": "python3"
  },
  "language_info": {
   "codemirror_mode": {
    "name": "ipython",
    "version": 3
   },
   "file_extension": ".py",
   "mimetype": "text/x-python",
   "name": "python",
   "nbconvert_exporter": "python",
   "pygments_lexer": "ipython3",
   "version": "3.10.8"
  },
  "orig_nbformat": 4,
  "vscode": {
   "interpreter": {
    "hash": "a97c0be00662db3bed8fe12bace3dd68dcba4f9aa04406cb661d7504ba5e85ce"
   }
  }
 },
 "nbformat": 4,
 "nbformat_minor": 2
}
