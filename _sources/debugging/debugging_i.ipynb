{
 "cells": [
  {
   "attachments": {},
   "cell_type": "markdown",
   "metadata": {},
   "source": [
    "# Debugging Practicum I\n",
    "In this class, we'll use all the tools at our disposal to fix some code that isn't working. [The data](https://drive.google.com/file/d/1t2JIa8WYFjHqm4Eg_pjSQQTZ44uH68ni/view?usp=sharing) for this exercise are time series of pupil measurements taken while a participant completed an [\"oddball\" task](https://en.wikipedia.org/wiki/Oddball_paradigm), and the analysis performed is plotting trial-averaged pupil responses to standard and deviant sounds, locked to stimulus presentation. As with most code in the wild, this is only lightly commented. This constitutes what is often called a [minimal working example](https://en.wikipedia.org/wiki/Minimal_Working_Example) (MWE), apart from the fact that it's not quite minimal and not quite working.\n",
    "\n",
    "The complete code, put together as a Jupyter notebook, is available [here](https://colab.research.google.com/drive/1n8rwZZOX7gaHQ33XlH5EEVR5E6VAfVkP?usp=sharing), but is also listed below. Your goal in class, using whatever means you have at your disposal, is to find and remove the bugs. The expected output figure from the code is also given below.\n",
    "\n",
    "````{admonition} Exercise\n",
    "Fix the code. Note that not all bugs generate errors. To find some bugs, you will need to understand what the pieces of the code are trying to accomplish. Using the debugger to help you trace the code may be very helpful.\n",
    "\n",
    "As usual, you can download directly using\n",
    "```\n",
    "!gdown 1t2JIa8WYFjHqm4Eg_pjSQQTZ44uH68ni\n",
    "```\n",
    "````\n",
    "\n"
   ]
  },
  {
   "attachments": {},
   "cell_type": "markdown",
   "metadata": {},
   "source": [
    "## Code listing:"
   ]
  },
  {
   "cell_type": "code",
   "execution_count": null,
   "metadata": {
    "tags": [
     "remove-cell"
    ]
   },
   "outputs": [],
   "source": [
    "# download the data\n",
    "!gdown 1t2JIa8WYFjHqm4Eg_pjSQQTZ44uH68ni"
   ]
  },
  {
   "cell_type": "code",
   "execution_count": null,
   "metadata": {},
   "outputs": [],
   "source": [
    "import numpy as np\n",
    "import pandas as pd\n",
    "from scipy.io import loadmat\n",
    "import matplotlib.pyplot as plt\n",
    "%config InlineBackend.figure_formats = ['svg']\n",
    "import seaborn as sns"
   ]
  },
  {
   "cell_type": "code",
   "execution_count": null,
   "metadata": {
    "tags": [
     "raises-exception",
     "remove-output"
    ]
   },
   "outputs": [],
   "source": [
    "dat = loadmat('data/pupil.mat', struct_as_record=False)\n",
    "\n",
    "# make a dataframe\n",
    "eye_df = pd.DataFrame({'pupil': dat['pupil'], \n",
    "                      }, index=dat['taxis'].squeeze())\n",
    "\n",
    "evt_times = dat['evttimes'].squeeze()\n",
    "was_odd = dat['trialvec'].squeeze() == 1\n",
    "\n",
    "sr = 60  # sampling rate (samples/sec)\n",
    "t_pre = -0.3  # time before event to grab (sec)\n",
    "t_post = 0.8  # time after event to grab (sec)\n",
    "norm_type = 'subtract'  # 'subtract' or 'divide'\n",
    "\n",
    "series = eye_df.pupil.values"
   ]
  },
  {
   "cell_type": "code",
   "execution_count": null,
   "metadata": {},
   "outputs": [],
   "source": [
    "def evtsplit(series, events, t_start, t_end, sr=1, t0=0):\n",
    "    # splits a time series around given events\n",
    "    # series: time series to split\n",
    "    # events: times around which to split\n",
    "    # t_start: time before event to grab (< 0 for times before)\n",
    "    # t_end: time after event to grab\n",
    "    # sr: sampling rate\n",
    "    # t0: time at which to begin splitting\n",
    "    #\n",
    "    # returns: \n",
    "    # outdat: split time series, one row per event\n",
    "    # time: time axis relative to event\n",
    "    \n",
    "    num_evt = len(events)  # number of event timestamps\n",
    "    dt = 1/sr  # time bin size\n",
    "    nstart = int(np.ceil(t_start * sr))  # number of bins to grab before\n",
    "    nend = int(np.ceil(t_end * sr))  # number of bins to grab after\n",
    "\n",
    "    evt_rel = events - t0  # relative event time\n",
    "\n",
    "    # preallocate output matrix\n",
    "    outdat = np.empty((num_evt, np.abs(nstart) + np.abs(nend) + 1))  # npre + npost + (0 bin)\n",
    "    outdat[:] = np.nan\n",
    "\n",
    "    for ind in range(num_evt):\n",
    "        bins_to_grab = np.arange(nstart, nend + 1) + int(np.around(evt_rel[ind]/dt));\n",
    "\n",
    "        # now take care of ends of time series\n",
    "        if bins_to_grab[0] < 1:   # if we're at the start of series...\n",
    "            bins_to_grab = bins_to_grab[bins_to_grab >= 1]  # truncate\n",
    "            outdat[ind, -len(bins_to_grab):] = series[bins_to_grab]\n",
    "        elif bins_to_grab[-1] > len(series):\n",
    "            bins_to_grab = bins_to_grab[bins_to_grab < len(series)]\n",
    "            outdat[ind, :len(bins_to_grab)] = series[bins_to_grab]\n",
    "        else:\n",
    "            outdat[ind] = series[bins_to_grab]\n",
    "    \n",
    "    return outdat, np.arange(nstart, nend) * dt\n",
    "\n",
    "\n",
    "def baseline_normalize(series, t_axis, norm_interval, method='subtract'):\n",
    "    # given a numpy array, series, each row of which is a time series\n",
    "    # and a time axis t_axis\n",
    "    # and an interval of times [norm_interval[0], norm_interval[1]) \n",
    "    # over which to normalize, normalize according to a baseline calculated in that interval\n",
    "    # method: \n",
    "    #    'subtract': subtract baseline\n",
    "    #    'divide': divide by baseline\n",
    "    \n",
    "    bool_interval = (t_axis >= norm_interval[0]) & (t_axis < norm_interval[1])\n",
    "    outdata = np.full_like(series, np.nan)\n",
    "    \n",
    "    for row in range(outdata.shape[0]):\n",
    "        if method == 'subtract':\n",
    "            outdata[row] = series[row] - np.mean(series[row, bool_interval])\n",
    "        elif method == 'divide':\n",
    "            outdata[row] = series[row] / np.mean(series[row, bool_interval])\n",
    "        else:\n",
    "            raise ValueError(\"method must be one of {'subtract', 'divide}'\")\n",
    "            \n",
    "    return outdata"
   ]
  },
  {
   "cell_type": "code",
   "execution_count": null,
   "metadata": {
    "tags": [
     "raises-exception",
     "remove-output"
    ]
   },
   "outputs": [],
   "source": [
    "splits, t_axis = evtsplit(series, evt_times, t_pre, t_post, sr=sr)\n",
    "t_interval = [-np.inf, 0]\n",
    "\n",
    "pupil_correct = baseline_normalize(splits[was_odd], t_axis, t_interval, method=norm_type)\n",
    "pupil_incorrect = baseline_normalize(splits[~was_odd], t_axis, t_interval, method=norm_type)\n",
    "\n",
    "corr_mean = np.nanmean(pupil_correct, 0)\n",
    "inc_mean = np.nanmean(pupil_incorrect, 0)\n",
    "\n",
    "corr_sem = np.nanstd(pupil_correct, 0)/np.sqrt(pupil_correct.shape[0])\n",
    "inc_sem = np.nanstd(pupil_incorrect, 0)/np.sqrt(pupil_incorrect.shape[0])\n",
    "\n",
    "sns.set_context('poster')\n",
    "plt.figure(figsize=(10, 6))\n",
    "plt.fill_between(t_axis, corr_mean + corr_sem, corr_mean + corr_sem, alpha=0.5)\n",
    "plt.fill_between(t_axis, inc_mean - inc_sem, inc_mean + inc_sem, alpha=0.5)\n",
    "plt.plot(t_axis, corr_mean)\n",
    "plt.plot(t_axis, inc_mean)\n",
    "plt.title('Pupillary response to oddball')\n",
    "plt.xlabel('Time from sound (seconds)')\n",
    "plt.ylabel('Normalized pupil size (a.u.)')\n",
    "plt.legend(['Oddball', 'Standard']);"
   ]
  },
  {
   "attachments": {},
   "cell_type": "markdown",
   "metadata": {},
   "source": [
    "## Solution:"
   ]
  },
  {
   "attachments": {},
   "cell_type": "markdown",
   "metadata": {},
   "source": [
    "```{toggle}\n",
    "1. In the second cell, `dat['pupil']` needs to be `squeeze`d before constructing the DataFrame.\n",
    "1. In the same cell, the post-event time is wrong. It should be 8 to match the figure.\n",
    "1. In `evtsplit`, last line: The returned time axis should be a shifted `np.arange(nstart, nend + 1)`.\n",
    "1. In `baseline_normalize`, the `mean` should exclude `nan` (i.e., `nanmean`).\n",
    "1. In the plotting code, first `fill_between`, the first `+` should be `-`.\n",
    "```"
   ]
  },
  {
   "cell_type": "code",
   "execution_count": null,
   "metadata": {
    "tags": [
     "hide-cell"
    ]
   },
   "outputs": [],
   "source": [
    "dat = loadmat('pupil.mat', struct_as_record=False)\n",
    "\n",
    "# make a dataframe\n",
    "eye_df = pd.DataFrame({'pupil': dat['pupil'].squeeze(), \n",
    "                      }, index=dat['taxis'].squeeze())\n",
    "\n",
    "evt_times = dat['evttimes'].squeeze()\n",
    "was_odd = dat['trialvec'].squeeze() == 1\n",
    "\n",
    "sr = 60  # sampling rate (samples/sec)\n",
    "t_pre = -0.3  # time before event to grab (sec)\n",
    "t_post = 8  # time after event to grab (sec)\n",
    "norm_type = 'subtract'  # 'subtract' or 'divide'\n",
    "\n",
    "series = eye_df.pupil.values\n",
    "\n"
   ]
  },
  {
   "cell_type": "code",
   "execution_count": null,
   "metadata": {
    "tags": [
     "hide-cell"
    ]
   },
   "outputs": [],
   "source": [
    "def evtsplit(series, events, t_start, t_end, sr=1, t0=0):\n",
    "    # splits a time series around given events\n",
    "    # series: time series to split\n",
    "    # events: times around which to split\n",
    "    # t_start: time before event to grab (< 0 for times before)\n",
    "    # t_end: time after event to grab\n",
    "    # sr: sampling rate\n",
    "    # t0: time at which to begin splitting\n",
    "    #\n",
    "    # returns: \n",
    "    # outdat: split time series, one row per event\n",
    "    # time: time axis relative to event\n",
    "    \n",
    "    num_evt = len(events)  # number of event timestamps\n",
    "    dt = 1/sr  # time bin size\n",
    "    nstart = int(np.ceil(t_start * sr))  # number of bins to grab before\n",
    "    nend = int(np.ceil(t_end * sr))  # number of bins to grab after\n",
    "\n",
    "    evt_rel = events - t0  # relative event time\n",
    "\n",
    "    # preallocate output matrix\n",
    "    outdat = np.empty((num_evt, np.abs(nstart) + np.abs(nend) + 1))  # npre + npost + (0 bin)\n",
    "    outdat[:] = np.nan\n",
    "\n",
    "    for ind in range(num_evt):\n",
    "        bins_to_grab = np.arange(nstart, nend + 1) + int(np.around(evt_rel[ind]/dt));\n",
    "\n",
    "        # now take care of ends of time series\n",
    "        if bins_to_grab[0] < 1:   # if we're at the start of series...\n",
    "            bins_to_grab = bins_to_grab[bins_to_grab >= 1]  # truncate\n",
    "            outdat[ind, -len(bins_to_grab):] = series[bins_to_grab]\n",
    "        elif bins_to_grab[-1] > len(series):\n",
    "            bins_to_grab = bins_to_grab[bins_to_grab < len(series)]\n",
    "            outdat[ind, :len(bins_to_grab)] = series[bins_to_grab]\n",
    "        else:\n",
    "            outdat[ind] = series[bins_to_grab]\n",
    "    \n",
    "    return outdat, np.arange(nstart, nend + 1) * dt\n",
    "\n",
    "\n",
    "def baseline_normalize(series, t_axis, norm_interval, method='subtract'):\n",
    "    # given a numpy array, series, each row of which is a time series\n",
    "    # and a time axis t_axis\n",
    "    # and an interval of times [norm_interval[0], norm_interval[1]) \n",
    "    # over which to normalize, normalize according to a baseline calculated in that interval\n",
    "    # method: \n",
    "    #    'subtract': subtract baseline\n",
    "    #    'divide': divide by baseline\n",
    "    \n",
    "    bool_interval = (t_axis >= norm_interval[0]) & (t_axis < norm_interval[1])\n",
    "    outdata = np.full_like(series, np.nan)\n",
    "    \n",
    "    for row in range(outdata.shape[0]):\n",
    "        if method == 'subtract':\n",
    "            outdata[row] = series[row] - np.nanmean(series[row, bool_interval])\n",
    "        elif method == 'divide':\n",
    "            outdata[row] = series[row] / np.nanmean(series[row, bool_interval])\n",
    "        else:\n",
    "            raise ValueError(\"method must be one of {'subtract', 'divide}'\")\n",
    "            \n",
    "    return outdata"
   ]
  },
  {
   "cell_type": "code",
   "execution_count": null,
   "metadata": {
    "tags": [
     "hide-input"
    ]
   },
   "outputs": [],
   "source": [
    "splits, t_axis = evtsplit(series, evt_times, t_pre, t_post, sr=sr)\n",
    "t_interval = [-np.inf, 0]\n",
    "\n",
    "pupil_correct = baseline_normalize(splits[was_odd], t_axis, t_interval, method=norm_type)\n",
    "pupil_incorrect = baseline_normalize(splits[~was_odd], t_axis, t_interval, method=norm_type)\n",
    "\n",
    "corr_mean = np.nanmean(pupil_correct, 0)\n",
    "inc_mean = np.nanmean(pupil_incorrect, 0)\n",
    "\n",
    "corr_sem = np.nanstd(pupil_correct, 0)/np.sqrt(pupil_correct.shape[0])\n",
    "inc_sem = np.nanstd(pupil_incorrect, 0)/np.sqrt(pupil_incorrect.shape[0])\n",
    "\n",
    "sns.set_context('poster')\n",
    "plt.figure(figsize=(10, 6))\n",
    "plt.fill_between(t_axis, corr_mean - corr_sem, corr_mean + corr_sem, alpha=0.5)\n",
    "plt.fill_between(t_axis, inc_mean - inc_sem, inc_mean + inc_sem, alpha=0.5)\n",
    "plt.plot(t_axis, corr_mean)\n",
    "plt.plot(t_axis, inc_mean)\n",
    "plt.title('Pupillary response to oddball')\n",
    "plt.xlabel('Time from sound (seconds)')\n",
    "plt.ylabel('Normalized pupil size (a.u.)')\n",
    "plt.legend(['Oddball', 'Standard']);"
   ]
  },
  {
   "cell_type": "markdown",
   "metadata": {},
   "source": []
  }
 ],
 "metadata": {
  "kernelspec": {
   "display_name": "book",
   "language": "python",
   "name": "python3"
  },
  "language_info": {
   "codemirror_mode": {
    "name": "ipython",
    "version": 3
   },
   "file_extension": ".py",
   "mimetype": "text/x-python",
   "name": "python",
   "nbconvert_exporter": "python",
   "pygments_lexer": "ipython3",
   "version": "3.11.0"
  },
  "orig_nbformat": 4,
  "vscode": {
   "interpreter": {
    "hash": "a97c0be00662db3bed8fe12bace3dd68dcba4f9aa04406cb661d7504ba5e85ce"
   }
  }
 },
 "nbformat": 4,
 "nbformat_minor": 2
}
