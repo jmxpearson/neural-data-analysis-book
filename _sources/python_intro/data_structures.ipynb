{
  "cells": [
    {
      "cell_type": "code",
      "execution_count": null,
      "metadata": {
        "tags": [
          "remove-cell"
        ]
      },
      "outputs": [],
      "source": [
        "from myst_nb import glue"
      ]
    },
    {
      "cell_type": "markdown",
      "metadata": {
        "id": "FaXiAYDq9_Tq"
      },
      "source": [
        "# Basic Programming in Python: Data Structures"
      ]
    },
    {
      "cell_type": "markdown",
      "metadata": {
        "id": "32ydDeVb9_Ts"
      },
      "source": [
        "At the core of understanding Python programming is effectively using Python's built-in data types. Today, we're going to focus on the most important cases: lists, dictionaries, tuples, and strings. Each has its own important uses, but thankfully, Python prizes consistency in its interfaces: knowing how to use one will give good intuition for how to use the others.\n",
        "\n",
        "Today, we're going to cover the basics of data types in Python and use simple programming structures to repeat an analysis on multiple data sets. Lastly, we will learn about refactoring our code to make it easier to read and more reusable."
      ]
    },
    {
      "attachments": {},
      "cell_type": "markdown",
      "metadata": {
        "id": "wKzzzIF-9_Tt"
      },
      "source": [
        "## Lists"
      ]
    },
    {
      "cell_type": "markdown",
      "metadata": {
        "id": "dhxbarcr9_Tt"
      },
      "source": [
        "Lists are one of the fundamental data types in Python. A list is, well, a list of objects:"
      ]
    },
    {
      "cell_type": "code",
      "execution_count": null,
      "metadata": {
        "id": "ZtcqSaCR9_Tt",
        "jupyter": {
          "outputs_hidden": false
        }
      },
      "outputs": [],
      "source": [
        "a = 1.5\n",
        "b = 'spam'\n",
        "mylist = [2, 7, a, 'eggs', b]\n",
        "print(mylist)"
      ]
    },
    {
      "cell_type": "markdown",
      "metadata": {
        "id": "K_amsqlp9_Tu"
      },
      "source": [
        "Lists are defined with using square brackets, and can contain variables of any type, separated by commas. If you're used to Matlab, lists are like cell arrays, but a lot more flexible. In the R world, lists are, well, lists.\n",
        "\n",
        "Again, elements of a list can be anything even other lists:"
      ]
    },
    {
      "cell_type": "code",
      "execution_count": null,
      "metadata": {
        "id": "PDtWiPjE9_Tv",
        "jupyter": {
          "outputs_hidden": false
        }
      },
      "outputs": [],
      "source": [
        "another_list = ['pooh', 'piglet']\n",
        "mylist.append(another_list)  # we can use this to append to a list (in-place)\n",
        "print(mylist)\n",
        "print(len(mylist))\n",
        "\n",
        "mylist = mylist + [1, 1.7, -2]  # concatenation is easy!\n",
        "print(mylist)"
      ]
    },
    {
      "cell_type": "markdown",
      "metadata": {
        "id": "n41Hpdj89_Tv"
      },
      "source": [
        "We can access the elements of a list using square brackets. Python is a very consistent language, so the pattern \"get an item using square brackets\" will show up over and over again."
      ]
    },
    {
      "cell_type": "code",
      "execution_count": null,
      "metadata": {
        "id": "Wwriq2CO9_Tv",
        "jupyter": {
          "outputs_hidden": false
        }
      },
      "outputs": [],
      "source": [
        "print(mylist[0])  # first element\n",
        "print(mylist[2])  # third element\n",
        "print(mylist[-1])  # last element\n",
        "print(mylist[-2])  # penultimate element"
      ]
    },
    {
      "cell_type": "markdown",
      "metadata": {
        "id": "FgxXcEsk9_Tw"
      },
      "source": [
        "We can also use a technique called slicing to get subsequences from the list:"
      ]
    },
    {
      "cell_type": "code",
      "execution_count": null,
      "metadata": {
        "id": "8Owf6og09_Tw",
        "jupyter": {
          "outputs_hidden": false
        }
      },
      "outputs": [],
      "source": [
        "print(mylist[:])  # all elements\n",
        "print(mylist[1:3])  # elements >= 1 and < 3 (note that element 3 is *not* included)\n",
        "print(mylist[:-1])  # all but last element\n",
        "print(mylist[3:])  # elements 3 to end\n",
        "print(mylist[::2])  # every other element"
      ]
    },
    {
      "cell_type": "markdown",
      "metadata": {
        "id": "thiP-qZy9_Tw"
      },
      "source": [
        "Note that we can use a *slice* object inside the brackets. This object is of the form `start:stop:step`. Note that the `start` element is included, but the `stop` element is not. Any of these arguments can be omitted, in which case \n",
        "* `start` is assumed to be 0\n",
        "* `stop` is assumed to be `len(mylist)`\n",
        "* `step` is assumed to be 1"
      ]
    },
    {
      "cell_type": "markdown",
      "metadata": {
        "id": "CA4o3C-_9_Tw"
      },
      "source": [
        "**Note:** If you're coming from Matlab or R, you have to keep in mind that _indexing in Python is 0-based, not 1-based_. Which is better is a sort of holy war in programming languages. R, Matlab, and Julia are all 1-based. Everything else is 0. Zero-based indexing makes some kinds of expressions easier to write, but there's no difference in what you can accomplish with the language."
      ]
    },
    {
      "attachments": {},
      "cell_type": "markdown",
      "metadata": {
        "id": "WI1-VvHz9_Tx"
      },
      "source": [
        "```{admonition} Exercises\n",
        "(Some of this is just self-study Googling)\n",
        "1. Can you think of a way to reverse a list using slicing (i.e., not using the `reverse` method or `reversed` command)?\n",
        "1. If `mylist` is a list, what's the difference between `mylist.append` and `mylist.extend`? (Hint: what if the argument to these functions is another list?) \n",
        "```"
      ]
    },
    {
      "attachments": {},
      "cell_type": "markdown",
      "metadata": {
        "id": "K6UB85No9_Tx"
      },
      "source": [
        "## Tuples: Lists that refuse to change"
      ]
    },
    {
      "cell_type": "markdown",
      "metadata": {
        "id": "5pUHeL9W9_Tx"
      },
      "source": [
        "A **tuple**, looks a lot like a list without the square brackets:"
      ]
    },
    {
      "cell_type": "code",
      "execution_count": null,
      "metadata": {
        "id": "IX58zGRV9_Tx",
        "jupyter": {
          "outputs_hidden": false
        }
      },
      "outputs": [],
      "source": [
        "mylist = ['a', 'b', 'c', 'd', 'e']\n",
        "mytup = 'a', 'b', 'c', 'd', 'e'\n",
        "\n",
        "print(mylist)\n",
        "print(mytup)"
      ]
    },
    {
      "cell_type": "markdown",
      "metadata": {
        "id": "K0uxH2zt9_Ty"
      },
      "source": [
        "You can see that tuples are printed with parentheses, which are not required, but make the syntax easier to read. In fact, we will often define tuples this way:"
      ]
    },
    {
      "cell_type": "code",
      "execution_count": null,
      "metadata": {
        "id": "6zO12l4i9_Ty",
        "jupyter": {
          "outputs_hidden": false
        }
      },
      "outputs": [],
      "source": [
        "another_tup = (1, 2, 3)\n",
        "one_element_tuple = 'a',\n",
        "\n",
        "print(another_tup)\n",
        "print(one_element_tuple)"
      ]
    },
    {
      "cell_type": "markdown",
      "metadata": {
        "id": "UeMgZ2uL9_Ty"
      },
      "source": [
        "Lists and tuples behave a lot alike:"
      ]
    },
    {
      "cell_type": "code",
      "execution_count": null,
      "metadata": {
        "id": "lw6Kv_T99_Ty",
        "jupyter": {
          "outputs_hidden": false
        }
      },
      "outputs": [],
      "source": [
        "print(len(mylist))\n",
        "print(len(mytup))"
      ]
    },
    {
      "cell_type": "code",
      "execution_count": null,
      "metadata": {
        "id": "nHaA0tBM9_Ty",
        "jupyter": {
          "outputs_hidden": false
        }
      },
      "outputs": [],
      "source": [
        "print(mylist[1])\n",
        "print(mytup[1])\n",
        "\n",
        "mylist[1] == mytup[1]"
      ]
    },
    {
      "cell_type": "code",
      "execution_count": null,
      "metadata": {
        "id": "TXh3zBV-9_Tz",
        "jupyter": {
          "outputs_hidden": false
        }
      },
      "outputs": [],
      "source": [
        "print(mylist[2:])\n",
        "print(mytup[2:])"
      ]
    },
    {
      "cell_type": "markdown",
      "metadata": {
        "id": "tPzaq4zw9_Tz"
      },
      "source": [
        "But there is one important way in which tuples and lists differ: **tuples are immutable**. This means that you cannot add to, delete from, or change a tuple. Once created, its contents cannot be altered."
      ]
    },
    {
      "cell_type": "code",
      "execution_count": null,
      "metadata": {
        "id": "J-WUtlJQ9_Tz",
        "jupyter": {
          "outputs_hidden": false
        },
        "tags": [
          "raises-exception"
        ]
      },
      "outputs": [],
      "source": [
        "mylist[-1] = 'egg'\n",
        "print(mylist)\n",
        "\n",
        "mytup[-1] = 'egg'\n",
        "print(mytup)"
      ]
    },
    {
      "cell_type": "markdown",
      "metadata": {
        "id": "sgCK5nzr9_Tz"
      },
      "source": [
        "Among other things, this means that tuples cannot be sorted or reversed, though using the ```+``` operator still works, since it creates a new tuple:"
      ]
    },
    {
      "cell_type": "code",
      "execution_count": null,
      "metadata": {
        "id": "qfhR43E59_T0",
        "jupyter": {
          "outputs_hidden": false
        },
        "tags": [
          "raises-exception"
        ]
      },
      "outputs": [],
      "source": [
        "print(mylist + ['f', 'g', 'h'])\n",
        "print(mytup + ['f', 'g', 'h'])"
      ]
    },
    {
      "cell_type": "markdown",
      "metadata": {
        "id": "ofdODUbV9_T0"
      },
      "source": [
        "Of course, we can't add lists and tuples! Python wouldn't know what we wanted the result to be. But since lists and tuples are so similar, we can convert them to one another using their *constructors*:"
      ]
    },
    {
      "cell_type": "code",
      "execution_count": null,
      "metadata": {
        "id": "I-198NWm9_T0",
        "jupyter": {
          "outputs_hidden": false
        }
      },
      "outputs": [],
      "source": [
        "print(list(mytup))\n",
        "print(tuple(mylist))\n",
        "\n",
        "print(mytup + tuple(['f', 'g', 'h']))"
      ]
    },
    {
      "cell_type": "markdown",
      "metadata": {
        "id": "o52K3vha9_T0"
      },
      "source": [
        "This will often be handy when we have some type of data that are a *sequence* (an ordered collection that we can iterate over (more on that below))."
      ]
    },
    {
      "attachments": {},
      "cell_type": "markdown",
      "metadata": {
        "id": "rg-2Vd879_T0"
      },
      "source": [
        "```{admonition} Exercise\n",
        "1. Really a conceptual question: Lists seem pretty good. Why do we even need tuples?\n",
        "```"
      ]
    },
    {
      "attachments": {},
      "cell_type": "markdown",
      "metadata": {
        "id": "3KPrB8HF9_T1"
      },
      "source": [
        "## Strings"
      ]
    },
    {
      "cell_type": "markdown",
      "metadata": {
        "id": "8ikVL1Ii9_T1"
      },
      "source": [
        "Believe it or not, strings are also sequences in Python. They are a lot like both lists and tuples:"
      ]
    },
    {
      "cell_type": "code",
      "execution_count": null,
      "metadata": {
        "id": "K5WaDqfw9_T1",
        "jupyter": {
          "outputs_hidden": false
        }
      },
      "outputs": [],
      "source": [
        "mystr = 'like a sir'\n",
        "print(mystr)"
      ]
    },
    {
      "cell_type": "code",
      "execution_count": null,
      "metadata": {
        "id": "xeA5gONm9_T1",
        "jupyter": {
          "outputs_hidden": false
        }
      },
      "outputs": [],
      "source": [
        "print(mystr[5:])\n",
        "print(list(mystr))"
      ]
    },
    {
      "cell_type": "markdown",
      "metadata": {
        "id": "UEyzKIuG9_T2"
      },
      "source": [
        "In fact, we can think of a string as just like a list or tuple with some special functions attached that are particularly useful for strings:"
      ]
    },
    {
      "cell_type": "code",
      "execution_count": null,
      "metadata": {
        "id": "GawuU-pN9_T2",
        "jupyter": {
          "outputs_hidden": false
        }
      },
      "outputs": [],
      "source": [
        "print(mystr.upper())\n",
        "print(mystr.capitalize())\n",
        "print(mystr.split(' '))  # that is, split the string on the spaces"
      ]
    },
    {
      "cell_type": "markdown",
      "metadata": {
        "id": "BydovCDy9_T2"
      },
      "source": [
        "But strings, like tuples, are immutable."
      ]
    },
    {
      "cell_type": "code",
      "execution_count": null,
      "metadata": {
        "id": "bz9A2Elc9_T2",
        "jupyter": {
          "outputs_hidden": false
        },
        "tags": [
          "raises-exception"
        ]
      },
      "outputs": [],
      "source": [
        "mystr[-1] = 'n'"
      ]
    },
    {
      "cell_type": "markdown",
      "metadata": {
        "id": "YcW9hAoV9_T2"
      },
      "source": [
        "Even so, operations like reversing and sorting are supported (they just return a new string, leaving the old alone):"
      ]
    },
    {
      "cell_type": "code",
      "execution_count": null,
      "metadata": {
        "id": "BbH7_OUg9_T3",
        "jupyter": {
          "outputs_hidden": false
        }
      },
      "outputs": [],
      "source": [
        "print(mystr[::-1])\n",
        "print(sorted(mystr))\n",
        "print(''.join(sorted(mystr)))"
      ]
    },
    {
      "cell_type": "code",
      "execution_count": null,
      "metadata": {
        "tags": [
          "remove-cell"
        ]
      },
      "outputs": [],
      "source": [
        "join_str = '-'.join(['trick', 'or', 'treaters'])\n",
        "glue(\"join_str\", join_str)"
      ]
    },
    {
      "attachments": {},
      "cell_type": "markdown",
      "metadata": {
        "id": "vK5_X1YZ9_T3"
      },
      "source": [
        "````{note}\n",
        "If the ```join``` syntax looks funky to you, you're not alone. We might like to write\n",
        "\n",
        "```python\n",
        "print(sorted(mystr).join(''))\n",
        "```\n",
        "\n",
        "meaning we want to join the elements of the list with no space in between, but remember that we called \n",
        "\n",
        "```python\n",
        "mystr.split(' ')\n",
        "```\n",
        "\n",
        "and since ```split``` is a thing we do to strings, ```join``` must be a thing we do to strings, not lists. As a result, the pattern for merging a list of strings is to call ```join``` on the string we want *in between* the elements of the list:\n",
        "```python\n",
        "print('-'.join(['trick', 'or', 'treaters']))\n",
        "```\n",
        "```{glue:} join_str\n",
        "```\n",
        "\n",
        "Go figure.\n",
        "````"
      ]
    },
    {
      "cell_type": "code",
      "execution_count": null,
      "metadata": {
        "tags": [
          "remove-cell"
        ]
      },
      "outputs": [],
      "source": [
        "thumbs_up = \"\\U0001F44D\\U0001F3FF\"  # Note *two* code points: one for thumbs up, one for skin tone\n",
        "glue(\"thumbs_up\",thumbs_up)"
      ]
    },
    {
      "attachments": {},
      "cell_type": "markdown",
      "metadata": {
        "id": "mdloIB5q9_T3"
      },
      "source": [
        "````{tip}\n",
        "If you use Python to deal with non-Latin character sets (e.g., Arabic, Korean), handling strings gets more complex, because some characters take more bytes than others to specify. Rest assured, Python has full support for Unicode:\n",
        "```python\n",
        "# Note *two* code points: one for thumbs up, one for skin tone\n",
        "print(\"\\U0001F44D\\U0001F3FF\")  \n",
        "```\n",
        "```{glue:} thumbs_up\n",
        "```\n",
        "But the moral is that if you need this complexity, better [read up](https://docs.python.org/3/howto/unicode.html).\n",
        "````"
      ]
    },
    {
      "attachments": {},
      "cell_type": "markdown",
      "metadata": {
        "id": "2wuTQJMw9_T4"
      },
      "source": [
        "```{admonition} Exercises\n",
        "1. Take the string `\"Stu should mind Stu's own business\"` and replace `Stu` with `John`. Your answer should work no matter how many times the name appears in the string, but there are many ways to do this. Some internet searching may be in order.\n",
        "1. Say we run an experiment with variables `day` (2 digits), `month` (2 digits), `year` (4 digits), and `subject` (5 digits). Can you write a line of code that turns these into a unique string separated by underscores (`_`)? Note that none of the variables above are strings.\n",
        "```"
      ]
    },
    {
      "attachments": {},
      "cell_type": "markdown",
      "metadata": {
        "id": "HsiJHBvL9_T4"
      },
      "source": [
        "## Dictionaries"
      ]
    },
    {
      "cell_type": "markdown",
      "metadata": {
        "id": "lqCy9Xyd9_T4"
      },
      "source": [
        "There are times when we might want to store a collection of variables together, but there is no natural ordering for the variables. For instance, a row in a spreadsheet might be converted to a list, but it would be more helpful to have the column name associated with each variable than to get the entries in any particular order. We would much prefer to get the value by the column name than by an index.\n",
        "\n",
        "This concept of storing not just values (as in a list or tuple), but as key-value *pairs* is realized by the Python dictionary variable type. Dictionaries in Python are the basis for objects, and so they are very efficient. As opposed to lists, **dicts** use curly braces:"
      ]
    },
    {
      "cell_type": "code",
      "execution_count": null,
      "metadata": {
        "id": "kpOXGLZ89_T5",
        "jupyter": {
          "outputs_hidden": false
        }
      },
      "outputs": [],
      "source": [
        "mydict = {'a': 5, 'b': 7}\n",
        "print(mydict)"
      ]
    },
    {
      "cell_type": "markdown",
      "metadata": {
        "id": "v6I79Tl99_T5"
      },
      "source": [
        "Note that the order in which the dictionary is printed is _not the same_ as the order in which we specified it. Dictionaries are not ordered. This makes them more computationally efficient. If you absolutely need an ordered dictionary, there's [this](https://docs.python.org/3/library/collections.html#collections.OrderedDict), but it often means that a dictionary is not the right data type for your problem."
      ]
    },
    {
      "cell_type": "markdown",
      "metadata": {
        "id": "YVeGM63e9_T5"
      },
      "source": [
        "Unlike lists or tuples, we get elements from a dictionary by providing a *key*, which returns the corresponding *value*:"
      ]
    },
    {
      "cell_type": "code",
      "execution_count": null,
      "metadata": {
        "id": "jtS2kq1u9_T5",
        "jupyter": {
          "outputs_hidden": false
        }
      },
      "outputs": [],
      "source": [
        "print(mydict['a'])\n",
        "print(mydict['b'])"
      ]
    },
    {
      "cell_type": "markdown",
      "metadata": {
        "id": "3TEw8h1k9_T5"
      },
      "source": [
        "Like lists, we can add to dictionaries. A dictionary key can be any object that cannot change (technically it must be \"hashable\"), and its corresponding value can be anything:"
      ]
    },
    {
      "cell_type": "code",
      "execution_count": null,
      "metadata": {
        "id": "z1YQDtwv9_T6",
        "jupyter": {
          "outputs_hidden": false
        }
      },
      "outputs": [],
      "source": [
        "# we can add a key, value pair \n",
        "mydict[101] = ['a', 0.1, [4, 5, 7]]\n",
        "mydict[(1, 2)] = 10\n",
        "print(mydict)\n",
        "print(len(mydict))"
      ]
    },
    {
      "cell_type": "markdown",
      "metadata": {
        "id": "rZrj7IOz9_T6"
      },
      "source": [
        "And because dicts are key, value pairs, we can make dicts from a tuple or list of 2-tuples:"
      ]
    },
    {
      "cell_type": "code",
      "execution_count": null,
      "metadata": {
        "id": "dL7EmOIY9_T6",
        "jupyter": {
          "outputs_hidden": false
        }
      },
      "outputs": [],
      "source": [
        "print(dict([('a', 0), ('b', 1), ('last', 'foo')]))"
      ]
    },
    {
      "attachments": {},
      "cell_type": "markdown",
      "metadata": {
        "id": "MPZ6Asy19_T6"
      },
      "source": [
        "```{warning}\n",
        "- **Dicts are not ordered** (I'm saying this again because it's important)\n",
        "- as a result, dicts can't be sliced, and we can't get an element by index\n",
        "- we can iterate over a dict (see below), but there are no guarantees about which keys come first or last\n",
        "```"
      ]
    },
    {
      "attachments": {},
      "cell_type": "markdown",
      "metadata": {
        "id": "bxt2BKd59_T7"
      },
      "source": [
        "```{admonition} Exercises\n",
        "1. How do we reverse a Python dictionary? That is, how do we get a \"reverse lookup\" where the values become the keys and vice versa? When is this idea well-defined? (That is, what could go wrong with the process?)\n",
        "1. How do we merge two dictionaries? What could go wrong?\n",
        "```"
      ]
    },
    {
      "cell_type": "markdown",
      "metadata": {
        "id": "BaH98FC-9_T7"
      },
      "source": [
        "## Containers and Iteration"
      ]
    },
    {
      "cell_type": "markdown",
      "metadata": {
        "id": "u8Mn7KkS9_T7"
      },
      "source": [
        "Among the most important commonalities that lists, strings, tuples, and dicts all have (and share with data frames and numpy arrays) are *containment* and *iteration*. This is one of the best examples of how very different data types in Python can behave very similarly, lessening our need to learn unique syntax for every type of data. "
      ]
    },
    {
      "cell_type": "markdown",
      "metadata": {
        "id": "i4VRYEeE9_T7"
      },
      "source": [
        "### Containment\n",
        "In Python, we can check whether an element is in a collection with the ```in``` keyword:"
      ]
    },
    {
      "cell_type": "code",
      "execution_count": null,
      "metadata": {
        "id": "qIVROfOW9_T8",
        "jupyter": {
          "outputs_hidden": false
        }
      },
      "outputs": [],
      "source": [
        "print(mytup)\n",
        "print(mylist)\n",
        "print(mystr)\n",
        "print(mydict)"
      ]
    },
    {
      "cell_type": "code",
      "execution_count": null,
      "metadata": {
        "id": "pjKGghbi9_T8",
        "jupyter": {
          "outputs_hidden": false
        }
      },
      "outputs": [],
      "source": [
        "print('b' in mytup)\n",
        "print('egg' in mylist)\n",
        "print('sir' in mystr)\n",
        "print('ik' in mystr)\n",
        "print(101 in mydict)\n",
        "print('a' in mydict)"
      ]
    },
    {
      "cell_type": "markdown",
      "metadata": {
        "id": "X1RCEBvK9_T8"
      },
      "source": [
        "Note that for dicts, containment checks for *keys* not values. That is, we can find out whether an entry is in the dictionary, but not its value."
      ]
    },
    {
      "cell_type": "markdown",
      "metadata": {
        "id": "wWe6xxGH9_T9"
      },
      "source": [
        "### Iteration\n",
        "\n",
        "In many cases, we want to perform some logic for every element in a collection. To do so, we need a way of stepping through that collection, looking at one element at a time. In Python, this is done with the ```for``` keyword:"
      ]
    },
    {
      "cell_type": "code",
      "execution_count": null,
      "metadata": {
        "id": "tHZFlsI99_T9",
        "jupyter": {
          "outputs_hidden": false
        }
      },
      "outputs": [],
      "source": [
        "for elem in mylist:   # note: this line must end in a colon\n",
        "    print(elem)        # this line must be indented"
      ]
    },
    {
      "cell_type": "code",
      "execution_count": null,
      "metadata": {
        "id": "8A0IdgWX9_T9",
        "jupyter": {
          "outputs_hidden": false
        }
      },
      "outputs": [],
      "source": [
        "for char in mystr:    # char is the variable name we give to each element as we step through\n",
        "    print(char + '-letter')"
      ]
    },
    {
      "cell_type": "code",
      "execution_count": null,
      "metadata": {
        "id": "8J9lxU439_T9",
        "jupyter": {
          "outputs_hidden": false
        }
      },
      "outputs": [],
      "source": [
        "for key in mydict:       # note: iterating over a dict gives us keys\n",
        "    print(mydict[key])    # every indented line gets repeated\n",
        "    print('--------')\n",
        "print(len(mydict))        # this line is not indented, so doesn't get repeated"
      ]
    },
    {
      "cell_type": "markdown",
      "metadata": {
        "id": "3EtDoO4O9_T-"
      },
      "source": [
        "Almost every data structure in Python can be iterated over, and the ability to do this will allow us to repeat a block of code for each element of a collection. This ability to build code that works for a single element of a collection and easily repeat it is part of the essence of programming."
      ]
    },
    {
      "cell_type": "markdown",
      "metadata": {
        "id": "tWrM30RO9_T-"
      },
      "source": [
        "## Using Logic:"
      ]
    },
    {
      "cell_type": "markdown",
      "metadata": {
        "id": "pLAlu1Mg9_T-"
      },
      "source": [
        "It's pretty typical that we might want to decide whether or not to run a block of code based on some logical condition. The most basic conditional in Python is the ```if``` statement:"
      ]
    },
    {
      "cell_type": "code",
      "execution_count": null,
      "metadata": {
        "id": "uRH9KWeg9_T-",
        "jupyter": {
          "outputs_hidden": false
        }
      },
      "outputs": [],
      "source": [
        "if len(mylist) > 2:\n",
        "    print(mylist[2])"
      ]
    },
    {
      "cell_type": "code",
      "execution_count": null,
      "metadata": {
        "id": "uD9m0l-79_T-",
        "jupyter": {
          "outputs_hidden": false
        }
      },
      "outputs": [],
      "source": [
        "testvar = mytup\n",
        "\n",
        "if isinstance(testvar, list):\n",
        "    print(\"variable is a list\")\n",
        "elif isinstance(testvar, tuple):\n",
        "    print(\"variable is a tuple\")\n",
        "else:\n",
        "    print(\"variable is neither list nor tuple\")"
      ]
    },
    {
      "cell_type": "markdown",
      "metadata": {
        "id": "8WQYNCI09_T_"
      },
      "source": [
        "And we can combine conditions with logical operations:"
      ]
    },
    {
      "cell_type": "code",
      "execution_count": null,
      "metadata": {
        "id": "L36VHm3L9_T_",
        "jupyter": {
          "outputs_hidden": false
        }
      },
      "outputs": [],
      "source": [
        "vowels = 'aeiou'\n",
        "sentence = 'it was the best of times, it was the worst of times'.split(' ')\n",
        "print(sentence)\n",
        "\n",
        "for word in sentence:\n",
        "    firstletter = word[0]\n",
        "    if firstletter in vowels or (len(word) > 4):\n",
        "        print(word.upper())"
      ]
    },
    {
      "attachments": {},
      "cell_type": "markdown",
      "metadata": {
        "id": "nOtzpKNd9_T_",
        "jupyter": {
          "outputs_hidden": false
        }
      },
      "source": [
        "```{admonition} Exercise\n",
        "Write a block of code that filters a dictionary to create a new one with a subset of keys. The new dictionary should contain only those entries from the old dictionary where the key is a string and starts with a vowel.\n",
        "```"
      ]
    }
  ],
  "metadata": {
    "anaconda-cloud": {},
    "colab": {
      "provenance": []
    },
    "kernelspec": {
      "display_name": "base",
      "language": "python",
      "name": "python3"
    },
    "language_info": {
      "codemirror_mode": {
        "name": "ipython",
        "version": 3
      },
      "file_extension": ".py",
      "mimetype": "text/x-python",
      "name": "python",
      "nbconvert_exporter": "python",
      "pygments_lexer": "ipython3",
      "version": "3.8.10"
    },
    "vscode": {
      "interpreter": {
        "hash": "f9e02e0b94c2bdff7abf49239ef598c5e519e47cb46f883733d825e84045e64b"
      }
    }
  },
  "nbformat": 4,
  "nbformat_minor": 0
}
