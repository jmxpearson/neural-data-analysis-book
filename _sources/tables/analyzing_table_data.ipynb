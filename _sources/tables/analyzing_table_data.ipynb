{
 "cells": [
  {
   "attachments": {},
   "cell_type": "markdown",
   "metadata": {},
   "source": [
    "(analyzing-table-data)=\n",
    "# Analyzing table data\n",
    "\n",
    "Last time, we practiced loading, recoding, and tidying an example dataset. We also worked on a very limited example of exploratory analysis, constructing summary statistics and plots. Today, we'll push that analysis further, using Pandas to filter our data and ask whether some of our variables make a statistical difference to the outcomes we care about."
   ]
  },
  {
   "attachments": {},
   "cell_type": "markdown",
   "metadata": {},
   "source": [
    "## From last time: loading and merging data\n",
    "To begin follow the same approach as [last time](exploring-table-data) to download the data, load it, and combine it. This time, you _will not_ need to add the cumulative reward or cumulative trial variables. Instead, our goal will be to create a data frame that will allow us to model how total rewards earned vary across sexes as a function of behavioral state. These behavioral states are not observed but determined by using a [Hidden Markov Model](https://en.wikipedia.org/wiki/Hidden_Markov_model) (not as difficult as Wikipedia makes it look) to model behavior. That's a bit much for us to bite off at this point, but thanfully, the authors have already assigned each trial to either:\n",
    "1. explore\n",
    "2. exploit (left)\n",
    "3. exploit (right)"
   ]
  },
  {
   "attachments": {},
   "cell_type": "markdown",
   "metadata": {},
   "source": [
    "```{admonition} Exercise\n",
    "1. Use the split-apply-combine method to calculate total rewards earned for each animal for each session in each state.\n",
    "\n",
    "2. Add `sex` back in as a column to the resulting data frame. There are multiple ways to do this, but a solution that works well in more complicated examples is to `merge` the resulting data frame from the previous question with a subset of columns from the original data and drop duplicate rows.\n",
    "```"
   ]
  },
  {
   "attachments": {},
   "cell_type": "markdown",
   "metadata": {},
   "source": [
    "### Solution:"
   ]
  },
  {
   "cell_type": "code",
   "execution_count": null,
   "metadata": {
    "tags": [
     "remove-cell"
    ]
   },
   "outputs": [],
   "source": [
    "%%bash\n",
    "# recap what we did last time\n",
    "\n",
    "curl --output tmp.zip -L -X GET \"https://datadryad.org/api/v2/datasets/doi%3A10.5061%2Fdryad.z612jm6c0/download\" -H \"accept: application/zip\"\n",
    "unzip tmp.zip\n",
    "unzip cleaned_up_restless_final_data.zip\n",
    "rm tmp.zip\n",
    "rm README.txt\n",
    "rm cleaned_up_restless_final_data.zip\n",
    "chmod -R u+wx cleaned\\ up\\ restless\\ final\\ data\n",
    "mv cleaned\\ up\\ restless\\ final\\ data data"
   ]
  },
  {
   "cell_type": "code",
   "execution_count": null,
   "metadata": {
    "tags": [
     "remove-cell"
    ]
   },
   "outputs": [],
   "source": [
    "import os\n",
    "import pandas as pd\n",
    "\n",
    "data_path = 'data/'\n",
    "\n",
    "chunk_list = []\n",
    "for (dirname, _, files) in list(os.walk(data_path)):\n",
    "  folder = dirname.split('/')[-1]\n",
    "  if 'session' in folder:\n",
    "    session = int(folder[7:])  # make it an integer\n",
    "    for fname in files:\n",
    "      if fname.endswith('.csv'):\n",
    "        sub = int(fname.split('.')[0])  # make it an integer\n",
    "        chunk = pd.read_csv(dirname + '/' + fname, index_col=0)\n",
    "\n",
    "        # add columns for session and subject\n",
    "        chunk['session'] = session\n",
    "        chunk['subject'] = sub\n",
    "        if sub <= 16:\n",
    "          chunk['sex'] = 'M'\n",
    "        else:\n",
    "          chunk['sex'] = 'F'\n",
    "        \n",
    "        # make a trial column by resetting the current index and renaming to trial\n",
    "        chunk = chunk.reset_index()\n",
    "        chunk = chunk.rename(columns={\"index\": \"trial\"})\n",
    "        \n",
    "        chunk_list.append(chunk)\n",
    "\n",
    "\n",
    "\n",
    "# concatenate all data frames together\n",
    "\n",
    "dat = pd.concat(chunk_list).reset_index(drop=True)  # overwrites our old dat variable!"
   ]
  },
  {
   "cell_type": "code",
   "execution_count": null,
   "metadata": {
    "tags": [
     "hide-cell"
    ]
   },
   "outputs": [],
   "source": [
    "# total reward in each state\n",
    "rwd_by_state = dat.groupby(['subject', 'session', 'state']).reward.sum().reset_index()\n",
    "\n",
    "# add sex back in by merging\n",
    "rwd_by_state = rwd_by_state.merge(dat[['subject', 'sex']].drop_duplicates())\n",
    "\n",
    "rwd_by_state"
   ]
  },
  {
   "attachments": {},
   "cell_type": "markdown",
   "metadata": {},
   "source": [
    "Now, let's make a couple of plots to see how dividing trials by state suggests effects that might be present in the data:\n",
    "\n",
    "```{admonition} Exercise\n",
    "1. Using the data frame you just made, make a box plot that shows the distribution of rewards earned for each animal across sessions. Color the boxes by sex.\n",
    "\n",
    "1. Aggregating across individuals and sessions, make a box plot that compares the distribution of rewards earned in each state by sex. Color the boxes by sex.\n",
    "\n",
    "1. What patterns do you see in the results? Does sex appear to make a difference?\n",
    "```\n",
    "\n",
    "### Solution"
   ]
  },
  {
   "cell_type": "code",
   "execution_count": null,
   "metadata": {
    "tags": [
     "hide-cell"
    ]
   },
   "outputs": [],
   "source": [
    "# make box plot\n",
    "import matplotlib.pyplot as plt\n",
    "%config InlineBackend.figure_formats = ['svg']\n",
    "import seaborn as sns\n",
    "\n",
    "fig, ax = plt.subplots(1, 2, figsize=(8, 3))\n",
    "sns.boxplot(ax=ax[0], data=rwd_by_state, x='subject', y='reward', hue='sex')\n",
    "sns.boxplot(ax=ax[1], data=rwd_by_state, x='state', y='reward', hue='sex')\n",
    "ax[0].legend([], frameon=False)\n",
    "ax[0].set_xticks([])\n",
    "ax[1].set_xticklabels(['explore', 'exploit (L)', 'exploit (R)'])\n",
    "plt.tight_layout()"
   ]
  },
  {
   "attachments": {},
   "cell_type": "markdown",
   "metadata": {},
   "source": [
    "## Statistical modeling\n",
    "Of course, eyeballing our plots will only get us so far. Eventually, we will want to produce some kind of statistical model that helps us determine whether the results we see could be due to chance. Note that I'm speaking in terms of statistical _modeling_ because rather than just trying to run a test, we want to think in terms of what kind of process might have generated the data and build in our assumptions about that. Even very simple statistical tests are built on models that encapsulate our assumptions. For example, [every ANOVA is just a linear model](https://stats.stackexchange.com/questions/175246/why-is-anova-equivalent-to-linear-regression), and the class of linear models (and their cousins) are much more flexible and powerful.\n",
    "\n",
    "So let's build a linear model.\n",
    "\n",
    "Our goal is to model the reward as a function of state and sex. In R's formula notation, this regression would be \n",
    "\n",
    "$$\n",
    "reward \\sim state + sex\n",
    "$$\n",
    "\n",
    "which adds an intercept plus a linear term for each variable. But of course the plots appear to indicate that reward might depend on an _interaction_ between state and sex, which we would code as\n",
    "\n",
    "$$\n",
    "reward \\sim state * sex\n",
    "$$\n",
    "\n",
    "which adds an intercept, a main effect for each variable, _and_ the interaction.\n",
    "\n",
    "````{admonition} Exercise\n",
    "1. Using `statsmodels`\n",
    "    ```python\n",
    "    import statsmodels\n",
    "    import statsmodels.formula.api as smf\n",
    "    ```\n",
    "    fit the two regressions described above. You'll want the `smf.ols` command (ordinary least squares) for regression. You'll also need to tell `statsmodels` that `session` is a [categorical variable](https://www.statsmodels.org/dev/example_formulas.html#categorical-variables).\n",
    "\n",
    "1. What do you find? Is there an effect of sex?\n",
    "````\n",
    "\n",
    "### Solution:"
   ]
  },
  {
   "cell_type": "code",
   "execution_count": null,
   "metadata": {
    "tags": [
     "hide-cell"
    ]
   },
   "outputs": [],
   "source": [
    "import statsmodels\n",
    "import statsmodels.formula.api as smf\n",
    "\n",
    "# main effects only\n",
    "md = smf.ols(\"reward ~ C(state) + sex\", rwd_by_state)\n",
    "mdf = md.fit()\n",
    "print(mdf.summary())\n"
   ]
  },
  {
   "cell_type": "code",
   "execution_count": null,
   "metadata": {
    "tags": [
     "hide-cell"
    ]
   },
   "outputs": [],
   "source": [
    "# model with interaction term\n",
    "\n",
    "md = smf.ols(\"reward ~ C(state) * sex\", rwd_by_state)\n",
    "mdf = md.fit()\n",
    "print(mdf.summary())"
   ]
  },
  {
   "attachments": {},
   "cell_type": "markdown",
   "metadata": {},
   "source": [
    "## Mixed effects modeling\n",
    "Of course, something about the above models stinks. If you've done any amount of regression, you know that standard linear models assume that the errors are independent and identically distributed. This means that once we specify the sex of the animal and its behavioral state, all the deviations of the data from the model's prediction are drawn from the same normal distribution.\n",
    "\n",
    "But this obviously ignores two extremely important sources of variation in the real data&mdash;subject and session&mdash;and as we showed above, these sources of variation are _not_ negligible. One (bad) attempt at solving this problem is to simply do a separate regression for each animal (and perhaps each session), but in that case, we have very few data points to go on. Another (also bad) solution is to try fitting separate parameters for, e.g., each session's mean rewards, but that drastically increases the number of parameters we have to fit. Instead we'll assume the following:\n",
    "1. We start by using state and sex to make a (linear) prediction for the total reward obtained. These are called our _fixed effects_. \n",
    "1. But we assume that every subject's individual prediction is jittered around this value. Some subjects, even accounting for state and sex, earn a little more or a little less. \n",
    "1. In addition, we assume that every session is distributed around the subject's mean performance. Again, some are a little better, some a little worse.\n",
    "\n",
    "These latter two additions are called _random effects_, and models that include both fixed and random effects are known as _mixed effects models_. In math form, this is\n",
    "\n",
    "$$\n",
    "reward = \\beta_0 + \\beta_{sex} * sex + \\beta_{state} * state + \\beta_{int} sex * state + \\eta + \\delta + \\varepsilon\n",
    "$$\n",
    "\n",
    "where $\\eta$ is the subject random effect (normally distributed with mean 0), $\\delta$ is the session effect, and $\\varepsilon$ is the unnaccounted-for (residual) error. Rather than estimating these values individually, we focus on estimating their _variance_.\n",
    "\n",
    "In `statsmodels`, we use `mixedlm` to do mixed effects modeling. Here, I'll be honest: [it's easier in R](https://cran.r-project.org/web/packages/lme4/vignettes/lmer.pdf). In our case, it's particularly tricky because session is \"nested\" within subject. In R, we'd do this with\n",
    "```R\n",
    "lmer(\"reward ~ sex * state + (1|subject/session)\", \n",
    "     data=rwd_by_state)\n",
    "```\n",
    "but in Python, we need \n",
    "```python\n",
    "md = smf.mixedlm(\"reward ~ C(state) * sex\", rwd_by_state, \n",
    "                 groups='subject',\n",
    "                 re_formula=\"1\",\n",
    "                 vc_formula={'session': \"0 + C(session)\"}\n",
    "                 )\n",
    "```\n",
    "That last bit, the `vc_formula` tells us that `session` is nested inside the grouping variable (`subject`).\n",
    "\n",
    "````{admonition} Exercise\n",
    "1. Fit this model. I suggest \n",
    "    ```python\n",
    "    md.fit(method='lbfgs', maxiter=1000) \n",
    "    ```\n",
    "to avoid some numerical instabilities.\n",
    "\n",
    "1. What do you find? Is there an effect of sex? Do the variance parameters for the random effects have the right sizes based on your plot of all subjects earlier? \n",
    "````\n"
   ]
  },
  {
   "cell_type": "code",
   "execution_count": null,
   "metadata": {
    "tags": [
     "hide-cell"
    ]
   },
   "outputs": [],
   "source": [
    "md = smf.mixedlm(\"reward ~ C(state) * sex\", rwd_by_state, \n",
    "                 groups='subject',\n",
    "                 re_formula=\"1\",\n",
    "                 vc_formula={'session': \"0 + C(session)\"}\n",
    "                 )\n",
    "mdf = md.fit(method='lbfgs', maxiter=1000)\n",
    "print(mdf.summary())"
   ]
  },
  {
   "cell_type": "code",
   "execution_count": null,
   "metadata": {
    "tags": [
     "remove-cell"
    ]
   },
   "outputs": [],
   "source": [
    "import shutil\n",
    "shutil.rmtree('data')"
   ]
  },
  {
   "cell_type": "code",
   "execution_count": null,
   "metadata": {},
   "outputs": [],
   "source": []
  }
 ],
 "metadata": {
  "kernelspec": {
   "display_name": "book",
   "language": "python",
   "name": "python3"
  },
  "language_info": {
   "codemirror_mode": {
    "name": "ipython",
    "version": 3
   },
   "file_extension": ".py",
   "mimetype": "text/x-python",
   "name": "python",
   "nbconvert_exporter": "python",
   "pygments_lexer": "ipython3",
   "version": "3.10.8"
  },
  "orig_nbformat": 4,
  "vscode": {
   "interpreter": {
    "hash": "a97c0be00662db3bed8fe12bace3dd68dcba4f9aa04406cb661d7504ba5e85ce"
   }
  }
 },
 "nbformat": 4,
 "nbformat_minor": 2
}
