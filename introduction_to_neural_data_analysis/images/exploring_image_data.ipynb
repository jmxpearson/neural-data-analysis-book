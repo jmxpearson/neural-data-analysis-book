{
 "cells": [
  {
   "attachments": {},
   "cell_type": "markdown",
   "metadata": {},
   "source": [
    "# Exploring Image data\n",
    "Image data in neurobiology can be broadly divided into two types:\n",
    "\n",
    "- **Static images**, including histology, gene expression maps, and other 2 and 3-d images. These represent data at a single time point.\n",
    "- **Dynamic images**, including calcium and fMRI imaging. These represent data as a sequence of images, with a collection of images at each time.\n",
    "\n",
    "## Loading the data\n",
    "This week's data are available for download <a href=\"{{ site.dataurl }}/week3/DirectionTuning_V1_dec.mat\">here</a> (right click and \"save as\"), or can be downloaded from Google Drive via\n",
    "```\n",
    "!gdown 10mbjgJIkyaczKs47_f4es0M3AI7gqTy3\n",
    "```\n",
    "on Colab or in the notebook. The data are recordings of calcium imaging experiments in mouse V1 that come to us courtesy of Ashley Wilson in Lindsey Glickfeld's lab. The data are once again in `.mat` format. This week, they are large by the standards of what we've been working with (~200MB), though far smaller than such datasets are for real experiments. In the actual experiments, images are taken at 30 Hz (30 images per second), whereas the sample data are downsampled to 3 Hz.\n",
    "\n",
    "In the experiment that generated these data, the mice were exposed to a series of drifting grating stimuli, and recorded responses were images reflecting calcium fluorescence levels. The stimuli consisted of drifting gratings at a variety of orientations, probing the sensitivity of cells in V1 to both orientation and motion direction.\n",
    "\n",
    "The variables in the data file are:\n",
    "\n",
    "- `data`: This week, it will be up to you to determine what dimensions correspond to what variables.\n",
    "- `dirTuningExp`: A structure containing metadata about the experiment. In particular:\n",
    "    - `nTrials`: Number of trials in the data.\n",
    "    - `stimOffFrames`: Number of frames during which no stimulus was presented.\n",
    "    - `stimOnFrames`: Number of frames during which each stimulus was presented.\n",
    "    - `tGratingDirectionDeg`: Direction of drift of the moving grating on each trial.\n",
    "\n",
    "Each trial (and thus the dataset) *began* with the stimulus off and then switched it on.\n",
    "\n",
    "```{admonition} Exercise\n",
    "1. Load the data. What is its shape? \n",
    "1. Based on principles of memory layout we've discussed, which dimension of the array *should* be time, if we're mostly interested in performing analysis on the individual images?\n",
    "1. Plot sections of the data (as images) to determine which dimension of the `data` array *is* time.\n",
    "```\n"
   ]
  },
  {
   "cell_type": "code",
   "execution_count": null,
   "metadata": {
    "tags": [
     "remove-cell"
    ]
   },
   "outputs": [],
   "source": [
    "!gdown 10mbjgJIkyaczKs47_f4es0M3AI7gqTy3"
   ]
  },
  {
   "attachments": {},
   "cell_type": "markdown",
   "metadata": {},
   "source": [
    "### Solution:"
   ]
  },
  {
   "cell_type": "code",
   "execution_count": null,
   "metadata": {
    "tags": [
     "hide-cell"
    ]
   },
   "outputs": [],
   "source": [
    "# Load data\n",
    "import scipy.io as sci\n",
    "vars = sci.loadmat('DirectionTuning_V1_dec.mat')\n",
    "\n",
    "data = vars['data']\n",
    "dirTuningExp = vars['dirTuningExp']\n",
    "\n",
    "## shape of the data\n",
    "Nvert, Nhorz, Nframes = data.shape\n",
    "print(f\"Data are {Nvert} x {Nhorz} x {Nframes}\")"
   ]
  },
  {
   "attachments": {},
   "cell_type": "markdown",
   "metadata": {},
   "source": [
    "```{toggle}\n",
    "If we're using C memory layout (\"row-major order,\" with consecutive data in rows), then index 0 should be time, since that is the index that advances slowest. In Matlab or Julia (with FORTRAN or column-major order), time would need to be the _last_ index, since that's the one that changes slowest. We want the slowest changing index to be time because all points at the same time are then consecutive in memory, and grabbing them for further manipulation and calculation will be faster.\n",
    "```"
   ]
  },
  {
   "cell_type": "code",
   "execution_count": null,
   "metadata": {
    "tags": [
     "hide-cell"
    ]
   },
   "outputs": [],
   "source": [
    "import matplotlib.pyplot as plt\n",
    "%config InlineBackend.figure_formats = ['svg']\n",
    "\n",
    "plt.imshow(data[:, :, 1], aspect='auto')\n",
    "plt.colorbar()\n",
    "plt.show()\n",
    "\n",
    "plt.imshow(data[:, :, 5], aspect='auto')\n",
    "plt.colorbar()\n",
    "plt.show()"
   ]
  },
  {
   "attachments": {},
   "cell_type": "markdown",
   "metadata": {},
   "source": [
    "## Converting from images to time series\n",
    "In addition to a sequence of images, we can also think of these data as a collection of time series, one per pixel.\n",
    "\n",
    "```{admonition} Exercise\n",
    "1. Extract the calcium time series for a few representative pixels. Plot them. Be sure your x-axis reflects the actual time between images/samples.\n",
    "```\n",
    "\n",
    "### Solution:"
   ]
  },
  {
   "cell_type": "code",
   "execution_count": null,
   "metadata": {
    "tags": [
     "hide-cell"
    ]
   },
   "outputs": [],
   "source": [
    "# let's look at a time series\n",
    "import numpy as np\n",
    "\n",
    "## take (55, 125) and (75, 180) as examples\n",
    "dt = 1/3  # 3 Hz sampling \n",
    "taxis = np.arange(0, Nframes) * dt\n",
    "\n",
    "plt.plot(taxis, data[55, 125, :])\n",
    "plt.plot(taxis, data[75, 180, :])\n",
    "plt.xlabel('Time [s]')\n",
    "plt.ylabel('Pixel Intensity')\n",
    "plt.show()"
   ]
  },
  {
   "cell_type": "code",
   "execution_count": null,
   "metadata": {},
   "outputs": [],
   "source": []
  },
  {
   "cell_type": "code",
   "execution_count": null,
   "metadata": {
    "tags": [
     "remove-cell"
    ]
   },
   "outputs": [],
   "source": [
    "import os\n",
    "os.remove('DirectionTuning_V1_dec.mat')"
   ]
  }
 ],
 "metadata": {
  "kernelspec": {
   "display_name": "book",
   "language": "python",
   "name": "python3"
  },
  "language_info": {
   "codemirror_mode": {
    "name": "ipython",
    "version": 3
   },
   "file_extension": ".py",
   "mimetype": "text/x-python",
   "name": "python",
   "nbconvert_exporter": "python",
   "pygments_lexer": "ipython3",
   "version": "3.10.8"
  },
  "orig_nbformat": 4,
  "vscode": {
   "interpreter": {
    "hash": "a97c0be00662db3bed8fe12bace3dd68dcba4f9aa04406cb661d7504ba5e85ce"
   }
  }
 },
 "nbformat": 4,
 "nbformat_minor": 2
}
