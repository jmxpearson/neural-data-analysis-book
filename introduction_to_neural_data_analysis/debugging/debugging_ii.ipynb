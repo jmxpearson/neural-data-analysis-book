{
 "cells": [
  {
   "attachments": {},
   "cell_type": "markdown",
   "metadata": {},
   "source": [
    "# Debugging Practicum II\n",
    "Once again, we'll be spending time debugging example code. In this case, we're performing a statistical power analysis by simulating data from idealized experiments. Below, you are given two functions:\n",
    "\n",
    "1. `run_expt`: generates synthetic data for the idealized experiment and performs a statistical hypothesis test.\n",
    "4. `calc_power`: calculates the power of the statistical procedure defined by a function passed to it.\n",
    "\n",
    "## Model\n",
    "Our idealized experiment works as follows: assume\n",
    "\n",
    "- a spiking single unit described as a Poisson process with baseline rate $\\lambda_0$\n",
    "- observed for a duration $T_0$\n",
    "- when presented with a stimulus, the unit increases its firing rate to $\\alpha \\lambda_0$\n",
    "- and is observed for a duration $T$\n",
    "- from one trial to the next, log firing rates vary based on a percentage of the mean value:\n",
    "\n",
    "  $$ \n",
    "  \\log \\lambda_i = \\log \\lambda + \\epsilon \\log \\lambda\n",
    "  $$\n",
    "\n",
    "  with $\\epsilon$ normally distributed with mean 0, standard deviation $\\sigma$ and $\\lambda$ equal to either the baseline or stimulus rate, as appropriate\n",
    "\n",
    "Then, given observed spike counts generated from Poisson distributions based on these rates and observation durations, we calculate (empirical) firing rates for the stimulus $\\hat{\\lambda}_i$ and baseline $\\hat{\\lambda}_{0i}$  for each trial and perform a paired t-test of the hypothesis that they are the same.\n",
    "\n",
    "```{admonition} Exercise\n",
    "Fix the code. Three strategies I recommend:\n",
    "  1. Pick (multiple sets of) input values with obvious correct answers and use these for testing.\n",
    "  1. Using sensible values, break apart the functions to see how pieces of them should work. This way, you can plot as you go, and it's a little easier than using the debugger.\n",
    "  1. Use the debugger to step into the code and plot the calculated quantities at each stage of the code. Do they make sense?\n",
    "```\n",
    "\n",
    "## Code listing:"
   ]
  },
  {
   "cell_type": "code",
   "execution_count": null,
   "metadata": {},
   "outputs": [],
   "source": [
    "import numpy as np\n",
    "import scipy.stats as stats\n",
    "import matplotlib.pyplot as plt\n",
    "%config InlineBackend.figure_formats = ['svg']\n",
    "import seaborn as sns\n",
    "np.random.seed(12345)  # for reproducibility"
   ]
  },
  {
   "cell_type": "code",
   "execution_count": null,
   "metadata": {},
   "outputs": [],
   "source": [
    "def run_expt(baseline, effect, Tbaseline, Tstim, trial_noise_std, Ntrials):\n",
    "    # run a single synthetic experiment, return p-value for paired t-test\n",
    "    # of baseline vs stim spike rate\n",
    "    \n",
    "    # random rates\n",
    "    baseline_rates = np.exp(np.log(baseline) * \n",
    "                    (trial_noise_std * np.random.randn(Ntrials)))\n",
    "    stim_rates = np.exp(np.log(effect * baseline) * \n",
    "                    (1 + trial_noise_std * np.random.rand(Ntrials)))\n",
    "    \n",
    "    # random counts\n",
    "    baseline_counts = stats.poisson.rvs(baseline_rates)\n",
    "    stim_counts = stats.poisson.rvs(stim_rates)\n",
    "    \n",
    "    # observed rates\n",
    "    obs_baseline_rates = baseline_counts / Tbaseline\n",
    "    obs_stim_rates = stim_counts / Tbaseline\n",
    "    \n",
    "    # test\n",
    "    return stats.ttest_rel(obs_baseline_rates, obs_stim_rates)"
   ]
  },
  {
   "cell_type": "code",
   "execution_count": null,
   "metadata": {},
   "outputs": [],
   "source": [
    "def calc_power(alpha, Nexpt, exptfun, *args):\n",
    "    # calculate power for an experiment defined by false positive rate alpha and repeated Nexpt times\n",
    "    # exptfun returns an object with a pvalue\n",
    "    # args are passed on to exptfun\n",
    "    \n",
    "    pvals = np.array([exptfun(*args).pvalue for _ in range(Nexpt)])\n",
    "    \n",
    "    return np.mean(pvals < alpha)"
   ]
  },
  {
   "attachments": {},
   "cell_type": "markdown",
   "metadata": {},
   "source": [
    "## Solution:\n",
    "\n",
    "```{toggle}\n",
    "1. In `run_expt`, the calculation of `baseline_rates` should use `1 +` in the second factor, as in the line below.\n",
    "1. The calculation of `stim_rates` in `run_expt` should use `randn`, not `rand`\n",
    "1. In `run_expt`, the calculation of `baseline_counts` and `stim_counts` should use Poisson parameters proportional to observation times `Tbaseline` and `Tstim`, respectively.\n",
    "1. The calculation of `obs_stim_rates` in `run_expt` should use `Tstim` rather than `Tbaseline`.\n",
    "```"
   ]
  },
  {
   "attachments": {},
   "cell_type": "markdown",
   "metadata": {},
   "source": [
    "### Example strategy: break apart functions:\n",
    "Here, we can pick some sensible numbers and show how sections of the code should work."
   ]
  },
  {
   "cell_type": "code",
   "execution_count": null,
   "metadata": {
    "tags": [
     "hide-cell"
    ]
   },
   "outputs": [],
   "source": [
    "# define some numbers\n",
    "baseline = 20.  # firing rate in Hz\n",
    "Tbaseline = 1.\n",
    "Tstim = 1.\n",
    "effect = 2  # fractional change from baseline\n",
    "trial_noise_std = 0.0  # trial-to-trial noise as a percentage\n",
    "Ntrials = 500  # number of trials for each stimulus\n",
    "Nexpt = 1000  # number of synthetic experiments to conduct\n",
    "alpha = 0.05  # nominal false positive rate"
   ]
  },
  {
   "cell_type": "code",
   "execution_count": null,
   "metadata": {
    "tags": [
     "hide-cell"
    ]
   },
   "outputs": [],
   "source": [
    "baseline_rates = np.exp(np.log(baseline) * \n",
    "                (1 + trial_noise_std * np.random.randn(Ntrials)))\n",
    "stim_rates = np.exp(np.log(effect * baseline) * \n",
    "                (1 + trial_noise_std * np.random.randn(Ntrials)))\n",
    "\n",
    "plt.hist(baseline_rates, label='baseline');\n",
    "plt.hist(stim_rates, label='stim');\n",
    "plt.legend();\n",
    "plt.title('Single trial firing rates');"
   ]
  },
  {
   "cell_type": "code",
   "execution_count": null,
   "metadata": {
    "tags": [
     "hide-cell"
    ]
   },
   "outputs": [],
   "source": [
    "baseline_counts = stats.poisson.rvs(baseline_rates * Tbaseline)\n",
    "stim_counts = stats.poisson.rvs(stim_rates * Tstim)\n",
    "\n",
    "plt.hist(baseline_counts, label='baseline');\n",
    "plt.hist(stim_counts, label='stim');\n",
    "plt.legend();\n",
    "plt.title('Single trial spike counts');"
   ]
  },
  {
   "cell_type": "code",
   "execution_count": null,
   "metadata": {
    "tags": [
     "hide-cell"
    ]
   },
   "outputs": [],
   "source": [
    "obs_baseline_rates = baseline_counts / Tbaseline\n",
    "obs_stim_rates = stim_counts / Tstim\n",
    "\n",
    "tstat, pval = stats.ttest_rel(obs_baseline_rates, obs_stim_rates)\n",
    "print(tstat, pval)\n",
    "print(pval < alpha)"
   ]
  },
  {
   "attachments": {},
   "cell_type": "markdown",
   "metadata": {},
   "source": [
    "### Corrected functions"
   ]
  },
  {
   "cell_type": "code",
   "execution_count": null,
   "metadata": {
    "tags": [
     "hide-cell"
    ]
   },
   "outputs": [],
   "source": [
    "def run_expt(baseline, effect, Tbaseline, Tstim, trial_noise_std, Ntrials):\n",
    "    # run a single synthetic experiment, return p-value for paired t-test\n",
    "    # of baseline vs stim spike rate\n",
    "    \n",
    "    # random rates\n",
    "    baseline_rates = np.exp(np.log(baseline) * (1 + trial_noise_std * np.random.randn(Ntrials)))\n",
    "    stim_rates = np.exp(np.log(effect * baseline) * (1 + trial_noise_std * np.random.randn(Ntrials)))\n",
    "    \n",
    "    # random counts\n",
    "    baseline_counts = stats.poisson.rvs(baseline_rates * Tbaseline)\n",
    "    stim_counts = stats.poisson.rvs(stim_rates * Tstim)\n",
    "    \n",
    "    # observed rates\n",
    "    obs_baseline_rates = baseline_counts / Tbaseline\n",
    "    obs_stim_rates = stim_counts / Tstim\n",
    "    \n",
    "    # test\n",
    "    return stats.ttest_rel(obs_baseline_rates, obs_stim_rates)\n",
    "\n",
    "\n",
    "def calc_power(alpha, Nexpt, exptfun, *args):\n",
    "    # calculate power for an experiment defined by false positive rate alpha and repeated Nexpt times\n",
    "    # exptfun returns an object with a pvalue\n",
    "    # args are passed on to exptfun\n",
    "    \n",
    "    pvals = np.array([exptfun(*args).pvalue for _ in range(Nexpt)])\n",
    "    \n",
    "    return np.mean(pvals < alpha)"
   ]
  },
  {
   "attachments": {},
   "cell_type": "markdown",
   "metadata": {},
   "source": [
    "### Test case:"
   ]
  },
  {
   "cell_type": "code",
   "execution_count": null,
   "metadata": {
    "tags": [
     "hide-cell"
    ]
   },
   "outputs": [],
   "source": [
    "alpha = 0.05\n",
    "Nexpt = 1000\n",
    "baseline = 20.  # firing rate in Hz\n",
    "Tbaseline = 1.\n",
    "Tstim = 1.\n",
    "effect = 1.2  # fractional change from baseline\n",
    "trial_noise_std = 0.10  # trial-to-trial noise as a percentage\n",
    "Ntrials = 50  # number of trials for each stimulus\n",
    "\n",
    "calc_power(alpha, Nexpt, run_expt, baseline, effect, Tbaseline, Tstim, trial_noise_std, Ntrials)"
   ]
  },
  {
   "cell_type": "code",
   "execution_count": null,
   "metadata": {},
   "outputs": [],
   "source": []
  }
 ],
 "metadata": {
  "kernelspec": {
   "display_name": "book",
   "language": "python",
   "name": "python3"
  },
  "language_info": {
   "codemirror_mode": {
    "name": "ipython",
    "version": 3
   },
   "file_extension": ".py",
   "mimetype": "text/x-python",
   "name": "python",
   "nbconvert_exporter": "python",
   "pygments_lexer": "ipython3",
   "version": "3.11.0"
  },
  "orig_nbformat": 4,
  "vscode": {
   "interpreter": {
    "hash": "a97c0be00662db3bed8fe12bace3dd68dcba4f9aa04406cb661d7504ba5e85ce"
   }
  }
 },
 "nbformat": 4,
 "nbformat_minor": 2
}
