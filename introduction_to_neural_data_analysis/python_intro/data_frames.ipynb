{
  "cells": [
    {
      "cell_type": "code",
      "execution_count": 1,
      "metadata": {
        "tags": [
          "remove-cell"
        ]
      },
      "outputs": [],
      "source": [
        "%config InlineBackend.figure_formats = ['svg']\n",
        "\n",
        "# make sure png plots are high-quality\n",
        "import matplotlib.pyplot as plt\n",
        "plt.rcParams['figure.dpi'] = 300"
      ]
    },
    {
      "cell_type": "markdown",
      "metadata": {
        "id": "rka2kMwikjGY"
      },
      "source": [
        "# Introduction to Data Frames\n",
        "\n",
        "## Case Study: Diamonds"
      ]
    },
    {
      "cell_type": "markdown",
      "metadata": {
        "id": "ves9S_zdkjGZ"
      },
      "source": [
        "In this lesson, we're going to do some basic data analyses on a set of diamond characteristics and prices. First, we'll download the data:"
      ]
    },
    {
      "cell_type": "code",
      "execution_count": null,
      "metadata": {
        "colab": {
          "base_uri": "https://localhost:8080/"
        },
        "id": "5XB6c-Ffk5_A",
        "outputId": "e5bddfc7-c5c9-48cf-c467-850e1e090d18",
        "tags": [
          "remove-output"
        ]
      },
      "outputs": [],
      "source": [
        "!gdown 1Q2saE5Wjis_4Hc3V5MBzAh3ei_bF2Q9M"
      ]
    },
    {
      "cell_type": "markdown",
      "metadata": {
        "id": "70Jcc8DXkjGZ"
      },
      "source": [
        "If you open the file in a text editor, you will see that it consists of a bunch of lines, each with a bunch of commas. This is a csv or \"comma-separated value\" file. Every row represents a record (like a row in a spreadsheet), with each cell separated by a comma. The first row has the same format, but the entries are the names of the columns."
      ]
    },
    {
      "attachments": {},
      "cell_type": "markdown",
      "metadata": {
        "id": "FJ2yDgTEkjGa"
      },
      "source": [
        "## Loading the data"
      ]
    },
    {
      "cell_type": "markdown",
      "metadata": {
        "id": "otLYebP5kjGa"
      },
      "source": [
        "We would like to load this data into Python. But to do so, we will need to tell Python that we want to get some tools ready. These tools are located in a library (the Python term is \"module\") called Pandas. So we do this:"
      ]
    },
    {
      "cell_type": "code",
      "execution_count": 3,
      "metadata": {
        "id": "Olro5DtEkjGa",
        "jupyter": {
          "outputs_hidden": false
        }
      },
      "outputs": [],
      "source": [
        "import pandas as pd"
      ]
    },
    {
      "cell_type": "markdown",
      "metadata": {
        "id": "lmlYrjeXkjGb"
      },
      "source": [
        "This tells Python to load the `pandas` module and nickname it `pd`. Then, whenever we want to use functionality from `pandas`, we do so by giving the address of the function we want. In this case, we want to load data from a csv file, so we call the function `read_csv`:"
      ]
    },
    {
      "cell_type": "code",
      "execution_count": 4,
      "metadata": {
        "id": "iwem8m_HkjGb",
        "jupyter": {
          "outputs_hidden": false
        }
      },
      "outputs": [],
      "source": [
        "data = pd.read_csv('minerals.csv')"
      ]
    },
    {
      "cell_type": "markdown",
      "metadata": {},
      "source": []
    },
    {
      "attachments": {},
      "cell_type": "markdown",
      "metadata": {
        "id": "EvezpJ-UkjGc"
      },
      "source": [
        "Let's read from the left:\n",
        "\n",
        "`data =` \n",
        "\n",
        "tells Python that we want to do something (on the right hand side of the equation) and assign its output to a variable called `data`. We could have called it `duck` or `shotput` or `harmony`, but we want to give our variables meaningful names, and in cases where we are only going to be exploring a single dataset, it's convenient to name it the obvious thing.\n",
        "\n",
        "On the right hand side, we're doing several things:\n",
        "- We're telling Python to look in the `pandas` module (nicknamed `pd`)\n",
        "- We telling Python to call a function named `read_csv` that's found there (we will find that looking up functions in modules is a lot like looking up files in directories)\n",
        "- We're giving the function the (local) path to the file in quotes\n",
        "\n",
        "We will see this pattern repeatedly in Python. We use names like `read_csv` to tell Python to perform actions. As we saw [before](patterns:functions) we supply variables or pieces of information (\"arguments\") needed as inputs by Python to perform those actions. "
      ]
    },
    {
      "attachments": {},
      "cell_type": "markdown",
      "metadata": {
        "id": "-_er7xmVkjGc"
      },
      "source": [
        "## Examining the data"
      ]
    },
    {
      "cell_type": "markdown",
      "metadata": {
        "id": "o64Oa4jtkjGc"
      },
      "source": [
        "So what did we accomplish?\n",
        "\n",
        "The easiest way to see is by asking Python to print the variable to the screen. We can do this with"
      ]
    },
    {
      "cell_type": "code",
      "execution_count": null,
      "metadata": {
        "colab": {
          "base_uri": "https://localhost:8080/"
        },
        "id": "0qzDJXEhkjGd",
        "jupyter": {
          "outputs_hidden": false
        },
        "outputId": "dd6b9e0c-3e92-4d94-cb5b-eeca8ac7e3ba",
        "tags": [
          "output_scroll"
        ]
      },
      "outputs": [],
      "source": [
        "print(data)"
      ]
    },
    {
      "cell_type": "markdown",
      "metadata": {
        "id": "0iyVZc6FkjGd"
      },
      "source": [
        "You should be able to see that the data consists of a bunch of rows and columns, and that, at some point in the middle, Python puts a bunch of ...'s, indicating it's not printing all the information. That's good in this case, since the data are pretty big."
      ]
    },
    {
      "cell_type": "markdown",
      "metadata": {
        "id": "4cfx5Oq9kjGd"
      },
      "source": [
        "So how big are the data? We can find this out by typing"
      ]
    },
    {
      "cell_type": "code",
      "execution_count": null,
      "metadata": {
        "colab": {
          "base_uri": "https://localhost:8080/"
        },
        "id": "ipDIfsxUkjGe",
        "jupyter": {
          "outputs_hidden": false
        },
        "outputId": "7fe4df3d-fe36-43b9-f527-09c329b89e5c"
      },
      "outputs": [],
      "source": [
        "data.shape"
      ]
    },
    {
      "attachments": {},
      "cell_type": "markdown",
      "metadata": {
        "id": "PJqa2HHRkjGe"
      },
      "source": [
        "````{note}\n",
        "We could have gotten the same answer by typing\n",
        "\n",
        "```python\n",
        "print(data.shape)\n",
        "```\n",
        "but, as we've seen several times now, when we just type the variable name, Python assumes we mean `print`.\n",
        "````"
      ]
    },
    {
      "attachments": {},
      "cell_type": "markdown",
      "metadata": {
        "id": "HUqjCKeVkjGe"
      },
      "source": [
        "So what does this answer mean? It means that our data set has something like 65,000 rows and 16 columns. Here, the convention is (rows, columns)."
      ]
    },
    {
      "attachments": {},
      "cell_type": "markdown",
      "metadata": {
        "id": "8V9bDwl_kjGf"
      },
      "source": [
        "Notice also that the way we got this piece of information was by typing the variable, followed by `.`, followed by the name of some property of the data (called an \"attribute\"). Again, you can think of this variable as an object having both pieces of information (attributes) and pieces of behavior (functions or methods) tucked inside of it like a file system. The way we access those is by giving a path, except with `.` instead of `/`."
      ]
    },
    {
      "cell_type": "markdown",
      "metadata": {
        "id": "TUaQo0cGkjGf"
      },
      "source": [
        "But there's an even friendlier way to look at our data that's special to the notebook. To look at the first few rows of our data, we can type"
      ]
    },
    {
      "cell_type": "code",
      "execution_count": null,
      "metadata": {
        "colab": {
          "base_uri": "https://localhost:8080/",
          "height": 204
        },
        "id": "hd6-5EHAkjGf",
        "jupyter": {
          "outputs_hidden": false
        },
        "outputId": "a514e324-a65f-40b8-b958-51afa95229e6"
      },
      "outputs": [],
      "source": [
        "data.head()"
      ]
    },
    {
      "cell_type": "markdown",
      "metadata": {
        "id": "y-M4BQjrkjGf"
      },
      "source": [
        "This gives 5 rows by default (**note that counting starts at 0!**), but we can easily ask Python for 10:"
      ]
    },
    {
      "cell_type": "code",
      "execution_count": null,
      "metadata": {
        "colab": {
          "base_uri": "https://localhost:8080/",
          "height": 359
        },
        "id": "NsgRIbchkjGg",
        "jupyter": {
          "outputs_hidden": false
        },
        "outputId": "45d204ea-5c04-467c-cefc-fb149988caa0"
      },
      "outputs": [],
      "source": [
        "data.head(10)"
      ]
    },
    {
      "cell_type": "markdown",
      "metadata": {
        "id": "yNAv7va4kjGg"
      },
      "source": [
        "Here, `head` is a method of the variable `data` (meaning it's a function stored in the data object). In the second case, we explicitly told `head` how many rows we wanted, while in the first, the number defaulted to 5. "
      ]
    },
    {
      "cell_type": "markdown",
      "metadata": {
        "id": "ZnsegYFYkjGg"
      },
      "source": [
        "Likewise, we can ask for the last few rows of the dataset with `tail`:"
      ]
    },
    {
      "cell_type": "code",
      "execution_count": null,
      "metadata": {
        "colab": {
          "base_uri": "https://localhost:8080/",
          "height": 266
        },
        "id": "FuaFqtMikjGg",
        "jupyter": {
          "outputs_hidden": false
        },
        "outputId": "34f5d822-e67e-414d-cb58-2e5e0c2262f3"
      },
      "outputs": [],
      "source": [
        "data.tail(7)"
      ]
    },
    {
      "cell_type": "markdown",
      "metadata": {
        "id": "regxQeTfkjGh"
      },
      "source": [
        "If you look carefully, you might notice that the rows seem to be sorted by the last item, price. The odd characters under delivery data are a result of the process used to download these data from the internet."
      ]
    },
    {
      "cell_type": "markdown",
      "metadata": {
        "id": "UZpzOQv6kjGh"
      },
      "source": [
        "Finally, as a first, pass, we might just want to know some simple summary statistics of our data:"
      ]
    },
    {
      "cell_type": "code",
      "execution_count": null,
      "metadata": {
        "colab": {
          "base_uri": "https://localhost:8080/",
          "height": 297
        },
        "id": "s-88VZwmkjGh",
        "jupyter": {
          "outputs_hidden": false
        },
        "outputId": "de0aa65e-ea82-42b5-84b5-df1de7ba608f"
      },
      "outputs": [],
      "source": [
        "data.describe()"
      ]
    },
    {
      "attachments": {},
      "cell_type": "markdown",
      "metadata": {
        "id": "wS-E9IslkjGh"
      },
      "source": [
        "## The fine art of looking things up"
      ]
    },
    {
      "cell_type": "markdown",
      "metadata": {
        "id": "75EehNlKkjGh"
      },
      "source": [
        "The Python ecosystem is *huge*. Nobody knows all the functions for all the libraries. This means that when you start analyzing data in earnest, you will need to learn the parts important for solving your particular problem. Initially, this will be difficult; everything will be new to you. Eventually, though, you develop a conceptual base that will be easy to add to."
      ]
    },
    {
      "cell_type": "markdown",
      "metadata": {
        "id": "mzcW3LYqkjGi"
      },
      "source": [
        "So what should you do in this case? How do we learn more about the functions we've used so far?\n",
        "\n",
        "First off, let's figure out what type of object `data` is. Every variable in Python is an object (meaning it has both information and behavior stored inside of it), and every object has a type. We can find this by using the `type` function:"
      ]
    },
    {
      "cell_type": "code",
      "execution_count": null,
      "metadata": {
        "colab": {
          "base_uri": "https://localhost:8080/"
        },
        "id": "2FdjMCTPkjGi",
        "jupyter": {
          "outputs_hidden": false
        },
        "outputId": "d7a11640-d811-41f3-b3f5-8d4b7e4cdd1f"
      },
      "outputs": [],
      "source": [
        "type(1)"
      ]
    },
    {
      "cell_type": "markdown",
      "metadata": {
        "id": "YDX3h1cGkjGi"
      },
      "source": [
        "Here, `int` means integer, a number with no decimal part."
      ]
    },
    {
      "cell_type": "code",
      "execution_count": null,
      "metadata": {
        "colab": {
          "base_uri": "https://localhost:8080/"
        },
        "id": "QdWnLZNHkjGi",
        "jupyter": {
          "outputs_hidden": false
        },
        "outputId": "d5ae6970-1909-41af-f48a-0b64423208ec"
      },
      "outputs": [],
      "source": [
        "type(1.5)"
      ]
    },
    {
      "cell_type": "markdown",
      "metadata": {
        "id": "8zCj7chakjGi"
      },
      "source": [
        "Float is anything with a decimal point. Be aware that the precision of `float` variables is limited, and there is the potential for roundoff errors in calculations if you ever start to do serious data crunching (though most of the time you'll be fine)."
      ]
    },
    {
      "cell_type": "code",
      "execution_count": null,
      "metadata": {
        "colab": {
          "base_uri": "https://localhost:8080/"
        },
        "id": "BPla4r_7kjGj",
        "jupyter": {
          "outputs_hidden": false
        },
        "outputId": "6e8f3d71-b78d-4027-fab0-f1d30599cae6"
      },
      "outputs": [],
      "source": [
        "type(data)"
      ]
    },
    {
      "attachments": {},
      "cell_type": "markdown",
      "metadata": {
        "id": "RNkBMSF-kjGj"
      },
      "source": [
        "_So what in the world is this?_\n",
        "\n",
        "Read it like so: the type of object `data` is is defined in the `pandas` module, in the `core` submodule, in the `frame` sub-submodule, and it is `DataFrame`. Again, using our filesystem analogy, the `data` variable has type `DataFrame`, and Python gives us the full path to its definition. As we will see, dataframes are a very convenient type of object in which to store our data, since this type of object carries with it very powerful behaviors (methods) that can be used to clean and analyze data. "
      ]
    },
    {
      "cell_type": "markdown",
      "metadata": {
        "id": "iT9kqMX1kjGj"
      },
      "source": [
        "So if `type` tells us the type of object, how do we find out what's in it?\n",
        "\n",
        "We can do that with the `dir` command. `dir` is short for \"directory,\" and tells us the name of all the attributes (information) and methods (behaviors) associated with an object:"
      ]
    },
    {
      "cell_type": "code",
      "execution_count": null,
      "metadata": {
        "colab": {
          "base_uri": "https://localhost:8080/"
        },
        "id": "QK1JpUnkkjGj",
        "jupyter": {
          "outputs_hidden": false
        },
        "outputId": "6d5a621c-0efc-4444-e6bf-9bdf9a9c61fd",
        "tags": [
          "output_scroll"
        ]
      },
      "outputs": [],
      "source": [
        "dir(data)"
      ]
    },
    {
      "attachments": {},
      "cell_type": "markdown",
      "metadata": {
        "id": "x4eSMPhgkjGj"
      },
      "source": [
        "Whoa!\n",
        "\n",
        "Okay, keep in mind a few things:\n",
        "- One of the sayings in the Python credo is \"We're all adults here.\" Python trusts you as a programmer. Sometimes too much. This means that, in a case like this, you might get more info than you really need or can handle.\n",
        "- Any name in that list (and the output of this function is indeed a Python list &mdash; data structures again!) that begins with `_` or `__` is a _private_ variable (like files beginning with `.` in the shell). You can safely ignore these until you are much more experienced.\n",
        "- I don't know what half of these do, either. If I need to know, I look them up."
      ]
    },
    {
      "cell_type": "markdown",
      "metadata": {
        "id": "TOfFOzXUkjGk"
      },
      "source": [
        "How do we do that?\n",
        "\n",
        "First, IPython has some pretty spiffy things that can help us right from the shell or notebook. For instance, if I want to learn about the `sort_values` item in the list, I can type"
      ]
    },
    {
      "cell_type": "code",
      "execution_count": null,
      "metadata": {
        "id": "qNahL4HMkjGk",
        "jupyter": {
          "outputs_hidden": false
        },
        "tags": [
          "output_scroll"
        ]
      },
      "outputs": [],
      "source": [
        "help(data.sort_values)"
      ]
    },
    {
      "cell_type": "markdown",
      "metadata": {
        "id": "t-1OV_2HkjGk"
      },
      "source": [
        "And IPython will pop up a handy (or cryptic, as you might feel at first) documentation window for the function. At the very least, we are told at the top of the page that the type of `data.sort` is an instancemethod, meaning that it's a behavior and not a piece of information. The help then goes on to tell us what inputs the function takes and what outputs it gives."
      ]
    },
    {
      "attachments": {},
      "cell_type": "markdown",
      "metadata": {
        "id": "X6wir1CFkjGk"
      },
      "source": [
        "More realistically, I would Google\n",
        "\n",
        "`DataFrame.sort_values python`\n",
        "\n",
        "(Remember, DataFrame is the type of the data object, and the internet doesn't know that `data` is a variable name for us. So I ask for the `type.method` and throw in the keyword \"python\" so Google knows what I'm talking about.)\n",
        "\n",
        "The first result that pops up should be [this](https://pandas.pydata.org/pandas-docs/stable/reference/api/pandas.DataFrame.sort_values.html).\n",
        "\n",
        "Good news!\n",
        "- This page is much easier to read.\n",
        "- This page is located on the website for Pandas, the library we're using. Even if we don't understand this particular help page, there's probably a tutorial somewhere nearby that will get us started."
      ]
    },
    {
      "cell_type": "markdown",
      "metadata": {
        "id": "y3uZ4DYWkjGl"
      },
      "source": [
        "As a result of this, if we look carefully, we might be able to puzzle out that if we want to sort the dataset by price per carat, we can do"
      ]
    },
    {
      "cell_type": "code",
      "execution_count": 16,
      "metadata": {
        "id": "Svdy9zkukjGl",
        "jupyter": {
          "outputs_hidden": false
        }
      },
      "outputs": [],
      "source": [
        "data_sorted = data.sort_values(by='price per carat')"
      ]
    },
    {
      "cell_type": "markdown",
      "metadata": {
        "id": "ksfXEEgYkjGl"
      },
      "source": [
        "Notice that we have to save the output of the sort here, since the `sort_values` function doesn't touch the `data` variable. Instead, it returns a new data frame that we need to assign to a new variable name. In other words,"
      ]
    },
    {
      "cell_type": "code",
      "execution_count": null,
      "metadata": {
        "colab": {
          "base_uri": "https://localhost:8080/",
          "height": 359
        },
        "id": "ubGCTFHKkjGl",
        "jupyter": {
          "outputs_hidden": false
        },
        "outputId": "6a1be204-6d5a-4878-88b2-97bb94d3c0e1"
      },
      "outputs": [],
      "source": [
        "data.head(10)"
      ]
    },
    {
      "cell_type": "markdown",
      "metadata": {
        "id": "2l-WWtnWkjGl"
      },
      "source": [
        "looks the same as before, while"
      ]
    },
    {
      "cell_type": "code",
      "execution_count": null,
      "metadata": {
        "colab": {
          "base_uri": "https://localhost:8080/",
          "height": 359
        },
        "id": "8ZnsQSVqkjGm",
        "jupyter": {
          "outputs_hidden": false
        },
        "outputId": "c2801008-9d77-40a5-ef79-d02fa872d850"
      },
      "outputs": [],
      "source": [
        "data_sorted.head(10)"
      ]
    },
    {
      "attachments": {},
      "cell_type": "markdown",
      "metadata": {
        "id": "8du2_UcjkjGm"
      },
      "source": [
        "Has the rows in order. (In fact, you can see the original row numbers at the left.)"
      ]
    },
    {
      "attachments": {},
      "cell_type": "markdown",
      "metadata": {
        "id": "d2k809P4kjGn"
      },
      "source": [
        "```{admonition} Exercises\n",
        "1. By default, the `sort_values` function sorts in ascending order (lowest to highest). Use Google to figure out how to sort the data in descending order by carat.\n",
        "1. What happens if we sort by shape instead? What sort order is used?\n",
        "```"
      ]
    },
    {
      "attachments": {},
      "cell_type": "markdown",
      "metadata": {
        "id": "DxxDNDxHkjGn"
      },
      "source": [
        "## Making the most of data frames"
      ]
    },
    {
      "cell_type": "markdown",
      "metadata": {
        "id": "bzYK1QkAkjGn"
      },
      "source": [
        "So let's get down to some real data analysis.\n",
        "\n",
        "If we want to know what the columns in our data frame are (if, for instance, there are too many to fit onscreen, or we need the list of them to manipulate), we can do"
      ]
    },
    {
      "cell_type": "code",
      "execution_count": null,
      "metadata": {
        "colab": {
          "base_uri": "https://localhost:8080/"
        },
        "id": "mI4E6BXIkjGo",
        "jupyter": {
          "outputs_hidden": false
        },
        "outputId": "e3d27a62-8ad6-4d16-a4c3-a4f77405bdc0"
      },
      "outputs": [],
      "source": [
        "data.columns"
      ]
    },
    {
      "cell_type": "markdown",
      "metadata": {
        "id": "PcrNGTCPkjGo"
      },
      "source": [
        "So we see columns is an attribute, not a method (the giveaway in this case is that we did not have to use parentheses afterward, as we would with a function/method).\n",
        "\n",
        "What type of object is this?"
      ]
    },
    {
      "cell_type": "code",
      "execution_count": null,
      "metadata": {
        "colab": {
          "base_uri": "https://localhost:8080/"
        },
        "id": "JQ1tMS2QkjGo",
        "jupyter": {
          "outputs_hidden": false
        },
        "outputId": "3431d018-6673-4e8d-c2ee-6a5595ffc008"
      },
      "outputs": [],
      "source": [
        "type(data.columns)"
      ]
    },
    {
      "cell_type": "markdown",
      "metadata": {
        "id": "OcM7tpigkjGo"
      },
      "source": [
        "And what can we do with an Index?"
      ]
    },
    {
      "cell_type": "code",
      "execution_count": null,
      "metadata": {
        "colab": {
          "base_uri": "https://localhost:8080/"
        },
        "id": "KcREFjh3kjGo",
        "jupyter": {
          "outputs_hidden": false
        },
        "outputId": "3dcd7710-f845-467a-bee2-86c7eba19960",
        "tags": [
          "output_scroll"
        ]
      },
      "outputs": [],
      "source": [
        "dir(data.columns)"
      ]
    },
    {
      "cell_type": "markdown",
      "metadata": {
        "id": "hwYKjUo4kjGp"
      },
      "source": [
        "Oh, a lot.\n",
        "\n",
        "What will often be very useful to us is to get a single column out of the data frame. We can do this like so:"
      ]
    },
    {
      "cell_type": "code",
      "execution_count": null,
      "metadata": {
        "colab": {
          "base_uri": "https://localhost:8080/"
        },
        "id": "Rh4HjTMtkjGp",
        "jupyter": {
          "outputs_hidden": false
        },
        "outputId": "6a9c337b-10fb-4a4e-98c8-18918e678543"
      },
      "outputs": [],
      "source": [
        "data.price"
      ]
    },
    {
      "cell_type": "markdown",
      "metadata": {
        "id": "RJ611K4ZkjGp"
      },
      "source": [
        "or"
      ]
    },
    {
      "cell_type": "code",
      "execution_count": null,
      "metadata": {
        "colab": {
          "base_uri": "https://localhost:8080/"
        },
        "id": "SlHKbKDPkjGp",
        "jupyter": {
          "outputs_hidden": false
        },
        "outputId": "a180b201-07f3-4244-bf32-a28493a41b7a"
      },
      "outputs": [],
      "source": [
        "data['price']"
      ]
    },
    {
      "cell_type": "markdown",
      "metadata": {
        "id": "GBxMgJeRkjGp"
      },
      "source": [
        "The second method (but not the first) also works when the column name has spaces:"
      ]
    },
    {
      "cell_type": "code",
      "execution_count": null,
      "metadata": {
        "colab": {
          "base_uri": "https://localhost:8080/"
        },
        "id": "zazmdUWTkjGq",
        "jupyter": {
          "outputs_hidden": false
        },
        "outputId": "8af6a50e-7c74-4175-c3dd-91e2c9512f77"
      },
      "outputs": [],
      "source": [
        "data['length to width ratio']"
      ]
    },
    {
      "cell_type": "markdown",
      "metadata": {
        "id": "VOaibM-4kjGq"
      },
      "source": [
        "Note also that this second pattern (i.e, \"get something out of a collection using brackets\") is the same pattern used for lists, dictionaries, tuples, NumPy arrays, etc. This is part of the consistent look and feel of Python."
      ]
    },
    {
      "cell_type": "markdown",
      "metadata": {
        "id": "tEtfDCwCkjGq"
      },
      "source": [
        "Note that the result of this operation doesn't return a 1-column data frame, but a Series:"
      ]
    },
    {
      "cell_type": "code",
      "execution_count": null,
      "metadata": {
        "colab": {
          "base_uri": "https://localhost:8080/"
        },
        "id": "j8maCLCfkjGq",
        "jupyter": {
          "outputs_hidden": false
        },
        "outputId": "071fed2f-bca5-4beb-a53b-706067762df7"
      },
      "outputs": [],
      "source": [
        "type(data['length to width ratio'])"
      ]
    },
    {
      "cell_type": "markdown",
      "metadata": {
        "id": "R10mLu8IkjGr"
      },
      "source": [
        "What you might be able to guess here is that a DataFrame is an object that (more or less) contains a bunch of Series objects named in an Index."
      ]
    },
    {
      "cell_type": "markdown",
      "metadata": {
        "id": "_QO6qQE0kjGr"
      },
      "source": [
        "Finally, we can get multiple columns at once:"
      ]
    },
    {
      "cell_type": "code",
      "execution_count": null,
      "metadata": {
        "colab": {
          "base_uri": "https://localhost:8080/",
          "height": 419
        },
        "id": "SbOZXzDZkjGr",
        "jupyter": {
          "outputs_hidden": false
        },
        "outputId": "756b01f4-0190-4403-bbf0-052c55f4bc82"
      },
      "outputs": [],
      "source": [
        "data[['price', 'price per carat']]"
      ]
    },
    {
      "cell_type": "markdown",
      "metadata": {
        "id": "7Oc-PZBukjGr"
      },
      "source": [
        "This actually does return a data frame. Note that the expression we put between the brackets in this case was a list of strings, each with the name of a column we wanted to pull out."
      ]
    },
    {
      "cell_type": "markdown",
      "metadata": {
        "id": "IAy-lZPOkjGr"
      },
      "source": [
        "Handily, `pandas` has some functions we can use to calculate basic statistics of our data:"
      ]
    },
    {
      "cell_type": "code",
      "execution_count": null,
      "metadata": {
        "colab": {
          "base_uri": "https://localhost:8080/"
        },
        "id": "RWSxjFj_kjGs",
        "jupyter": {
          "outputs_hidden": false
        },
        "outputId": "58379430-b000-49b8-b4ec-ad45a0bcd397"
      },
      "outputs": [],
      "source": [
        "# save outputs to variable names to make the code cleaner\n",
        "ppc_mean = data['price per carat'].mean()\n",
        "ppc_std = data['price per carat'].std()\n",
        "\n",
        "print(f\"The average price per carat is {ppc_mean}.\")\n",
        "print(f\"The standard deviation of price per carat is {ppc_std}.\" + str(ppc_std))\n",
        "print(f\"The coefficient of variation (std / mean) is thus {ppc_mean / ppc_std}.\")"
      ]
    },
    {
      "cell_type": "markdown",
      "metadata": {
        "id": "ziYDOZOQkjGs"
      },
      "source": [
        "In fact, these functions will work column-by-column where appropriate:"
      ]
    },
    {
      "cell_type": "code",
      "execution_count": null,
      "metadata": {
        "colab": {
          "base_uri": "https://localhost:8080/"
        },
        "id": "fjCKIp7TkjGs",
        "jupyter": {
          "outputs_hidden": false
        },
        "outputId": "198211fc-de17-47bb-d088-d0a9f97c91b6"
      },
      "outputs": [],
      "source": [
        "data.max(numeric_only=True)"
      ]
    },
    {
      "attachments": {},
      "cell_type": "markdown",
      "metadata": {
        "id": "oVysJfUnkjGs"
      },
      "source": [
        "Finally, we might eventually want to select subsets of our data, for which there are lots of methods described [here](https://pandas.pydata.org/pandas-docs/stable/user_guide/indexing.html). \n",
        "\n",
        "For example, say we wanted to look only at diamonds between 1 and 2 carats. One of the nicest methods to select these data is to use the `query` method:"
      ]
    },
    {
      "cell_type": "code",
      "execution_count": null,
      "metadata": {
        "colab": {
          "base_uri": "https://localhost:8080/"
        },
        "id": "cdjkDz8gkjGs",
        "jupyter": {
          "outputs_hidden": false
        },
        "outputId": "27cd6cbf-13ab-4517-d390-2b9697cec031"
      },
      "outputs": [],
      "source": [
        "subset = data.query('(carat >= 1) & (carat <= 2)')\n",
        "print(f\"The mean for the whole dataset is {data['price'].mean()}.\")\n",
        "print(f\"The mean for the subset is {subset['price'].mean()}.\")"
      ]
    },
    {
      "attachments": {},
      "cell_type": "markdown",
      "metadata": {},
      "source": [
        "```{admonition} Exercises\n",
        "1. Extract the subset of data with less than 1 carat and cut equal to Very Good (VG). (Hint: the double equals `==` operator tests for equality. The normal equals sign is only for assigning values to variables.)\n",
        "1. Extract the subset of data with color other than J. (Hint, if you have a query that would return all the rows you *don't* want, you can negate that query by putting `~` in front of it.)\n",
        "```"
      ]
    },
    {
      "attachments": {},
      "cell_type": "markdown",
      "metadata": {
        "id": "9haeqPNykjGt"
      },
      "source": [
        "## Plotting"
      ]
    },
    {
      "cell_type": "markdown",
      "metadata": {
        "id": "RfsLmHlSkjGu"
      },
      "source": [
        "Plotting is just fun. It is also, far and away, the best method for exploring your data."
      ]
    },
    {
      "cell_type": "code",
      "execution_count": 31,
      "metadata": {
        "id": "NJHp0hEvkjGu",
        "jupyter": {
          "outputs_hidden": false
        }
      },
      "outputs": [],
      "source": [
        "# this magic -- it's literally called that -- \n",
        "# makes sure our plots appear in the browser\n",
        "%matplotlib inline"
      ]
    },
    {
      "cell_type": "code",
      "execution_count": null,
      "metadata": {
        "colab": {
          "base_uri": "https://localhost:8080/",
          "height": 295
        },
        "id": "46gFecASkjGu",
        "jupyter": {
          "outputs_hidden": false
        },
        "outputId": "b1be3b7b-9b03-4bfc-8a4d-e0e6ed8dca9c"
      },
      "outputs": [],
      "source": [
        "# let's look at some distributions of variables\n",
        "data['price'].plot(kind='hist');"
      ]
    },
    {
      "cell_type": "markdown",
      "metadata": {
        "id": "3S3QqmWskjGu"
      },
      "source": [
        "Hmm. Let's fix two things:\n",
        "1. Let's plot the logarithm of price. That will make the scale more meaningful.\n",
        "2. Let's suppress the matplotlib.axes business (it's reflecting the object our plot command returns). We can do this by ending the line with a semicolon."
      ]
    },
    {
      "cell_type": "code",
      "execution_count": null,
      "metadata": {
        "colab": {
          "base_uri": "https://localhost:8080/",
          "height": 265
        },
        "id": "S1grNgh-kjGu",
        "jupyter": {
          "outputs_hidden": false
        },
        "outputId": "415a837c-64de-480e-b05d-1d7819dcf93c"
      },
      "outputs": [],
      "source": [
        "#first, import numpy, which has the logarithm function. We'll also give it a nickname.\n",
        "import numpy as np\n",
        "\n",
        "# the apply method applies a function to every element of a data frame (or series in this case)\n",
        "# we will use this to create a new column in the data frame called log_price\n",
        "data['log_price'] = data['price'].apply(np.log10)\n",
        "data['log_price'].plot(kind='hist');"
      ]
    },
    {
      "cell_type": "markdown",
      "metadata": {
        "id": "wr0GitVRkjGu"
      },
      "source": [
        "But we can do so much better!"
      ]
    },
    {
      "cell_type": "code",
      "execution_count": null,
      "metadata": {
        "colab": {
          "base_uri": "https://localhost:8080/",
          "height": 280
        },
        "id": "Dmgkee08kjGv",
        "jupyter": {
          "outputs_hidden": false
        },
        "outputId": "0648e339-7198-4254-be69-def4b7db5f38"
      },
      "outputs": [],
      "source": [
        "#let's pull out the big guns\n",
        "import matplotlib.pyplot as plt  \n",
        "# we need this to call the two plt functions below, which allow us to label the axes\n",
        "\n",
        "data['log_price'].plot(kind='hist', bins=100)\n",
        "plt.xlabel('Log_10 price (dollars)')\n",
        "plt.ylabel('Count');"
      ]
    },
    {
      "cell_type": "markdown",
      "metadata": {
        "id": "5ixgwpARkjGv"
      },
      "source": [
        "What about other types of plots?"
      ]
    },
    {
      "cell_type": "code",
      "execution_count": null,
      "metadata": {
        "colab": {
          "base_uri": "https://localhost:8080/",
          "height": 263
        },
        "id": "nfCvndr4kjGv",
        "jupyter": {
          "outputs_hidden": false
        },
        "outputId": "eda8878d-3baa-4fea-a1a6-70f032bacf37"
      },
      "outputs": [],
      "source": [
        "# the value_counts() method counts the number of times each value occurs in the data['color'] series\n",
        "data['color'].value_counts().plot(kind='bar');"
      ]
    },
    {
      "cell_type": "markdown",
      "metadata": {
        "id": "iDBQS7N1kjGv"
      },
      "source": [
        "That's a bit ugly. Let's change plot styles."
      ]
    },
    {
      "cell_type": "code",
      "execution_count": 36,
      "metadata": {
        "id": "PhSMyS_WkjGv",
        "jupyter": {
          "outputs_hidden": false
        }
      },
      "outputs": [],
      "source": [
        "plt.style.use('ggplot')"
      ]
    },
    {
      "cell_type": "code",
      "execution_count": 37,
      "metadata": {
        "tags": [
          "remove-cell"
        ]
      },
      "outputs": [],
      "source": [
        "# the next couple of plots involve huge numbers of points\n",
        "# so we're going to do them as pngs\n",
        "%config InlineBackend.figure_formats = ['png']"
      ]
    },
    {
      "cell_type": "code",
      "execution_count": null,
      "metadata": {
        "colab": {
          "base_uri": "https://localhost:8080/",
          "height": 558
        },
        "id": "dMtvUVUakjGw",
        "jupyter": {
          "outputs_hidden": false
        },
        "outputId": "42609008-6a4c-4be9-dcc5-f49b46822941"
      },
      "outputs": [],
      "source": [
        "# scatter plot the relationship between carat and price\n",
        "data.plot(kind='scatter', x='carat', y='price');\n",
        "\n",
        "# do the same thing, but plot y on a log scale\n",
        "data.plot(kind='scatter', x='carat', y='price', logy=True);"
      ]
    },
    {
      "cell_type": "code",
      "execution_count": null,
      "metadata": {
        "colab": {
          "base_uri": "https://localhost:8080/",
          "height": 679
        },
        "id": "sO4gy0JskjGw",
        "jupyter": {
          "outputs_hidden": false
        },
        "outputId": "b94edefd-405c-4bd9-a6d1-2359a3ba14f5"
      },
      "outputs": [],
      "source": [
        "data.boxplot(column='log_price', by='color');\n",
        "data.boxplot(column='log_price', by='cut');"
      ]
    },
    {
      "attachments": {},
      "cell_type": "markdown",
      "metadata": {
        "id": "Tq1EJ3V7kjGw"
      },
      "source": [
        "```{admonition} Challenge Question:\n",
        "You can see from the above above that color and cut don't seem to matter much to price. Can you think of a reason why this might be?\n",
        "```"
      ]
    },
    {
      "attachments": {},
      "cell_type": "markdown",
      "metadata": {},
      "source": [
        "### Solution"
      ]
    },
    {
      "cell_type": "code",
      "execution_count": null,
      "metadata": {
        "colab": {
          "base_uri": "https://localhost:8080/",
          "height": 679
        },
        "id": "COkQBE0ukjGw",
        "jupyter": {
          "outputs_hidden": false
        },
        "outputId": "7ba56343-024d-447e-bac6-d5c2e259c180",
        "tags": [
          "hide-cell"
        ]
      },
      "outputs": [],
      "source": [
        "data.boxplot(column='carat', by='color');\n",
        "plt.ylim(0, 3);\n",
        "data.boxplot(column='carat', by='cut');\n",
        "plt.ylim(0, 3);\n",
        "\n",
        "from pandas.plotting import scatter_matrix\n",
        "\n",
        "column_list = ['carat', 'price per carat', 'log_price']\n",
        "scatter_matrix(data[column_list]);"
      ]
    },
    {
      "attachments": {},
      "cell_type": "markdown",
      "metadata": {
        "colab": {
          "base_uri": "https://localhost:8080/",
          "height": 304
        },
        "id": "xXljESgfkjGw",
        "jupyter": {
          "outputs_hidden": false
        },
        "outputId": "12b4fcfd-d0d0-4548-98ab-1f809c9a506e",
        "tags": []
      },
      "source": [
        "```{toggle}\n",
        "As we can see, especially in the last plot, size is strongly correlated with price, but size is _inversely_ correlated with other quality measures. That is, if you're going to stock a flawed or off-colored diamond, it is almost certainly a big one!\n",
        "```"
      ]
    },
    {
      "attachments": {},
      "cell_type": "markdown",
      "metadata": {
        "id": "c0M6AVS3kjGx"
      },
      "source": [
        "## Final thoughts:"
      ]
    },
    {
      "attachments": {},
      "cell_type": "markdown",
      "metadata": {
        "id": "8jMiYgFfkjGx"
      },
      "source": [
        "There are lots and lots and lots of plotting libraries out there. \n",
        "- [Matplotlib](http://matplotlib.org/) is the standard (and most full-featured), but it's built to look and work like Matlab, which is not known for the prettiness of its plots. \n",
        "- There is an unofficial port of the excellent [ggplot2](http://ggplot2.org/) library from R to [Python](http://ggplot.yhathq.com/). It lacks some features, but does follow ggplot's unique \"grammar of graphics\" approach.\n",
        "- [Seaborn](http://stanford.edu/~mwaskom/software/seaborn/) has become a pretty standard add-on to Matplotlib. ggplot-quality results, but with a more Python-y syntax. Focus on good-looking defaults relative to Matplotlib with less typing and swap-in stylesheets to give plots a consistent look and feel.\n",
        "- [Bokeh](http://bokeh.pydata.org/en/latest/) has a focus on web output and large or streaming datasets.\n",
        "- [plot.ly](https://plot.ly) has a focus on data sharing and collaboration. May not be best for quick and dirty data exploration, but nice for showing to colleagues.\n",
        "\n",
        "```{warning} \n",
        "**Very important:** Plotting is lots of fun to play around with, but almost no plot is going to be of publication quality without some tweaking. Once you pick a package, you will want to spend time learning how to get labels, spacing, tick marks, etc. right. All of the packages above are very powerful, but inevitably, you will want to do something that seems simple and turns out to be hard.\n",
        "\n",
        "Why not just take the plot that's easy to make and pretty it up in Adobe Illustrator? **Any plot that winds up in a paper will be revised many times in the course of revision and peer review. Learn to let the program do the hard work.** You want code that will get you 90 - 95% of the way to publication quality.\n",
        "\n",
        "Thankfully, it's very, very easy to learn how to do this. Because plotting routines present such nice visual feedback, there are lots and lots of examples on line with code that will show you how to make gorgeous plots. Here again, documentation and StackOverflow are your friends!\n",
        "```"
      ]
    },
    {
      "cell_type": "code",
      "execution_count": 41,
      "metadata": {
        "id": "7boprLxCljqd",
        "tags": [
          "remove-cell"
        ]
      },
      "outputs": [],
      "source": [
        "# cleaning up\n",
        "import os\n",
        "os.remove('minerals.csv')"
      ]
    },
    {
      "cell_type": "code",
      "execution_count": null,
      "metadata": {},
      "outputs": [],
      "source": []
    }
  ],
  "metadata": {
    "anaconda-cloud": {},
    "colab": {
      "collapsed_sections": [
        "r9ZuxLELkjGn",
        "vftSLpD2kjGn",
        "0e4vOs7qkjGt",
        "5JouHcLjkjGt"
      ],
      "provenance": []
    },
    "kernelspec": {
      "display_name": "book",
      "language": "python",
      "name": "python3"
    },
    "language_info": {
      "codemirror_mode": {
        "name": "ipython",
        "version": 3
      },
      "file_extension": ".py",
      "mimetype": "text/x-python",
      "name": "python",
      "nbconvert_exporter": "python",
      "pygments_lexer": "ipython3",
      "version": "3.11.3"
    }
  },
  "nbformat": 4,
  "nbformat_minor": 0
}
