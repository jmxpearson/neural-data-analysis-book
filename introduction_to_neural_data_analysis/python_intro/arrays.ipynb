{
  "cells": [
    {
      "cell_type": "code",
      "execution_count": null,
      "metadata": {},
      "outputs": [],
      "source": [
        "%config InlineBackend.figure_formats = ['svg']"
      ]
    },
    {
      "cell_type": "markdown",
      "metadata": {
        "id": "f92h6W3K2ZS3"
      },
      "source": [
        "# Working with Array Data"
      ]
    },
    {
      "cell_type": "markdown",
      "metadata": {
        "id": "SeHZArxi2ZS4"
      },
      "source": [
        "It shouldn't be hard to make the case to a bunch of scientists that arrays are a natural and important data structure for scientific computing. What we discuss less often is why arrays are actually different from data structures we've already met and why they help us compute efficiently.\n",
        "\n",
        "For these needs the NumPy package provides a general data type, the n-dimensional array or `ndarray`. This data type is so powerful that it forms the basis for most serious numerical processing in Python, including Pandas, SciPy, and image processing packages like scikit-image.\n",
        "\n",
        "That's what we'll get into today. Specifically, we'll focus on the syntax needed to get subsets of data into and out of arrays, as well as on basic math, which is the foundation for using the more powerful features available in SciPy."
      ]
    },
    {
      "attachments": {},
      "cell_type": "markdown",
      "metadata": {
        "id": "tSxhqAz22ZS5"
      },
      "source": [
        "## Warm-up: Lists"
      ]
    },
    {
      "cell_type": "markdown",
      "metadata": {
        "id": "JkYA1jEY2ZS5"
      },
      "source": [
        "Let's review some facts about lists. \n",
        "\n",
        "A list is, well, a list of objects:"
      ]
    },
    {
      "cell_type": "code",
      "execution_count": null,
      "metadata": {
        "colab": {
          "base_uri": "https://localhost:8080/"
        },
        "id": "5ItwUtc52ZS5",
        "jupyter": {
          "outputs_hidden": false
        },
        "outputId": "61bbfa94-aecd-4dde-c77d-8fecf9e2d986"
      },
      "outputs": [],
      "source": [
        "a = 1.5\n",
        "b = 'spam'\n",
        "mylist = [2, 7, a, 'eggs', b]\n",
        "print(mylist)"
      ]
    },
    {
      "cell_type": "markdown",
      "metadata": {
        "id": "6cDQvfTA2ZS6"
      },
      "source": [
        "Lists are defined with using square brackets, and can contain variables of any type, separated by commas. \n",
        "\n",
        "Again, elements of a list can be anything even other lists:"
      ]
    },
    {
      "cell_type": "code",
      "execution_count": null,
      "metadata": {
        "colab": {
          "base_uri": "https://localhost:8080/"
        },
        "id": "7J6evbr92ZS6",
        "jupyter": {
          "outputs_hidden": false
        },
        "outputId": "3910122a-7e48-4c9a-f664-ec821a4278dd"
      },
      "outputs": [],
      "source": [
        "another_list = ['pooh', 'piglet']\n",
        "mylist.append(another_list)  # we can use this to append to a list (in-place)\n",
        "print(mylist)\n",
        "print(len(mylist))\n",
        "\n",
        "mylist = mylist + [1, 1.7, -2]  # concatenation is easy!\n",
        "print(mylist)"
      ]
    },
    {
      "cell_type": "markdown",
      "metadata": {
        "id": "H8DzmSmf2ZS7"
      },
      "source": [
        "We can access the elements of a list using square brackets, just as we did with Pandas. Python is a very consistent language, so the pattern \"get an item using square brackets\" will show up over and over again."
      ]
    },
    {
      "cell_type": "code",
      "execution_count": null,
      "metadata": {
        "colab": {
          "base_uri": "https://localhost:8080/"
        },
        "id": "hGDIq18r2ZS7",
        "jupyter": {
          "outputs_hidden": false
        },
        "outputId": "db1c9849-28d7-4cf3-c04c-a2d99dd38f35"
      },
      "outputs": [],
      "source": [
        "print(mylist[0])  # first element\n",
        "print(mylist[2])  # third element\n",
        "print(mylist[-1])  # last element\n",
        "print(mylist[-2])  # penultimate element"
      ]
    },
    {
      "cell_type": "markdown",
      "metadata": {
        "id": "9zX97kTL2ZS7"
      },
      "source": [
        "We can also use a technique called slicing to get subsequences from the list:"
      ]
    },
    {
      "cell_type": "code",
      "execution_count": null,
      "metadata": {
        "colab": {
          "base_uri": "https://localhost:8080/"
        },
        "id": "886ytKwH2ZS7",
        "jupyter": {
          "outputs_hidden": false
        },
        "outputId": "8a8659be-04b4-4df7-9f70-a4d7ff79126e"
      },
      "outputs": [],
      "source": [
        "print(mylist[:])  # all elements\n",
        "print(mylist[1:3])  # elements >= 1 and < 3 (note that element 3 is *not* included)\n",
        "print(mylist[:-1])  # all but last element\n",
        "print(mylist[3:])  # elements 3 to end\n",
        "print(mylist[::2])  # every other element"
      ]
    },
    {
      "cell_type": "markdown",
      "metadata": {
        "id": "O3-g-r442ZS8"
      },
      "source": [
        "Note that we can use a *slice* object inside the brackets. This object is of the form `start:stop:step`. Note that the `start` element is included, but the `stop` element is not. Any of these arguments can be omitted, in which case \n",
        "* `start` is assumed to be 0\n",
        "* `stop` is assumed to be `len(mylist)`\n",
        "* `step` is assumed to be 1"
      ]
    },
    {
      "attachments": {},
      "cell_type": "markdown",
      "metadata": {
        "id": "4dotR0JT2ZS8"
      },
      "source": [
        "## Warm-up: Lists of lists"
      ]
    },
    {
      "cell_type": "markdown",
      "metadata": {
        "id": "6aeVDWD82ZS8"
      },
      "source": [
        "In cases where we have a matrix of data we want to represent, a natural way to do that is as a list of lists:"
      ]
    },
    {
      "cell_type": "code",
      "execution_count": null,
      "metadata": {
        "colab": {
          "base_uri": "https://localhost:8080/"
        },
        "id": "GedTVhb62ZS8",
        "jupyter": {
          "outputs_hidden": false
        },
        "outputId": "7bf71f34-3104-417d-b069-26fca6807d17"
      },
      "outputs": [],
      "source": [
        "mydata = [[1, 2, 3], [4, 5, 6]]\n",
        "print(mydata)\n",
        "print(len(mydata))"
      ]
    },
    {
      "cell_type": "markdown",
      "metadata": {
        "id": "5PJlH7s32ZS9"
      },
      "source": [
        "This is a nested list. It has two elements:"
      ]
    },
    {
      "cell_type": "code",
      "execution_count": null,
      "metadata": {
        "colab": {
          "base_uri": "https://localhost:8080/"
        },
        "id": "Rn4CfD0A2ZS9",
        "jupyter": {
          "outputs_hidden": false
        },
        "outputId": "8ba8db32-e44b-4eba-c109-9edc8b9a15cb"
      },
      "outputs": [],
      "source": [
        "mydata[0]"
      ]
    },
    {
      "cell_type": "markdown",
      "metadata": {
        "id": "QnTRpclR2ZS9"
      },
      "source": [
        "and we can get individual data by accessing the list inside a list"
      ]
    },
    {
      "cell_type": "code",
      "execution_count": null,
      "metadata": {
        "colab": {
          "base_uri": "https://localhost:8080/"
        },
        "id": "69TpbWIj2ZS9",
        "jupyter": {
          "outputs_hidden": false
        },
        "outputId": "ad06736e-9e02-45bc-baec-67f7032a8bdc"
      },
      "outputs": [],
      "source": [
        "print(mydata[0][1])"
      ]
    },
    {
      "cell_type": "markdown",
      "metadata": {
        "id": "mT0fzTb22ZS-"
      },
      "source": [
        "We can think of this in analogy with a 2 x 3 matrix, where the first index gives the row, and the second index gives the column.\n",
        "\n",
        "In this case, `mydata[0][1]` instructs us to get the 0th element of `mydata` (the first row), and the 1st element from that (the second column)."
      ]
    },
    {
      "cell_type": "markdown",
      "metadata": {
        "id": "2MIiYQ9j2ZS-"
      },
      "source": [
        "However, there are some drawbacks for using lists to represent large arrays of data:\n",
        "- Lists are flexible in that the elements of the list can be of any type, but this makes them slower and less memory-efficient than arrays where all the elements are of the same type (e.g., integer or decimal numbers).\n",
        "- It's pretty clear what `mydata[0][1]` does, but for arrays with many dimensions, we might like to write something simpler, like `mydata[0, 1]`. Doing this with lists gives an error.\n",
        "- We would also like to do math with matrices, but since lists can contain anything, Python lacks a notion of math operations on lists"
      ]
    },
    {
      "cell_type": "markdown",
      "metadata": {
        "id": "Y8etU7gC2ZS-"
      },
      "source": [
        "The NumPy package resolves these issues by defining the `ndarray`..."
      ]
    },
    {
      "attachments": {},
      "cell_type": "markdown",
      "metadata": {
        "id": "NFrZ_Lg_2ZS-"
      },
      "source": [
        "## The NumPy array"
      ]
    },
    {
      "cell_type": "markdown",
      "metadata": {
        "id": "NYdhjkjo2ZS-"
      },
      "source": [
        "If we already have a list of lists, NumPy gives us a clear way to convert it to an array:"
      ]
    },
    {
      "cell_type": "code",
      "execution_count": null,
      "metadata": {
        "id": "aSYXBXSd2ZS_",
        "jupyter": {
          "outputs_hidden": false
        }
      },
      "outputs": [],
      "source": [
        "import numpy as np  # this nickname (numpy = np) is so common as to be ubiquitous"
      ]
    },
    {
      "cell_type": "markdown",
      "metadata": {
        "id": "3DDUBuEi2ZS_"
      },
      "source": [
        "We've not really talked about `import` statements, but I hope you've done enough of the reading that this makes sense. Unlike Matlab (but like R), Python requires you to load packages to get specialized functionality. This serves two purposes:\n",
        "\n",
        "1. It keeps the core language small. Python has to do a lot of tasks, from scientific computing to running on very small computing devices with limited memory, and there are times when it's helpful to not load every possible function.\n",
        "1. Modules (the name for libraries in Python) also have the benefit of creating \"namespaces.\" You can think of these like folders: writing `np.sort` looks in the numpy module for a function called `sort`. This is unambiguous, and therefore won't conflict with any other `sort` function your program has defined. Time and experience have shown that this sort of namespacing, while requiring a few more characters of typing, has a lot of benefits in terms of code readability and sustainability."
      ]
    },
    {
      "cell_type": "code",
      "execution_count": null,
      "metadata": {
        "colab": {
          "base_uri": "https://localhost:8080/"
        },
        "id": "T6a3U2Vk2ZS_",
        "jupyter": {
          "outputs_hidden": false
        },
        "outputId": "16b98801-9f9d-4787-b9ea-7af535318e7f"
      },
      "outputs": [],
      "source": [
        "myarray = np.array(mydata)\n",
        "print(myarray)\n",
        "print(type(myarray))"
      ]
    },
    {
      "cell_type": "markdown",
      "metadata": {
        "id": "87aSNBka2ZS_"
      },
      "source": [
        "Note that the `myarray` variable is a `numpy.ndarray`, and that it prints a little prettier than the list of lists, making clear that it's a 2 x 3 matrix. In fact, we can find out the dimensions of an array with the `shape` attribute. (This will also be true of dataframes. Note again the consistency of syntax across data types in Python.)"
      ]
    },
    {
      "cell_type": "code",
      "execution_count": null,
      "metadata": {
        "colab": {
          "base_uri": "https://localhost:8080/"
        },
        "id": "B9Mt0JjU2ZTA",
        "jupyter": {
          "outputs_hidden": false
        },
        "outputId": "22590d03-4c7c-4acb-e56b-20fc2d2e297e"
      },
      "outputs": [],
      "source": [
        "print(myarray.shape)"
      ]
    },
    {
      "cell_type": "markdown",
      "metadata": {
        "id": "mAv_9zCS2ZTA"
      },
      "source": [
        "We can use some of the same syntax as before:"
      ]
    },
    {
      "cell_type": "code",
      "execution_count": null,
      "metadata": {
        "colab": {
          "base_uri": "https://localhost:8080/"
        },
        "id": "clJEf5ov2ZTA",
        "jupyter": {
          "outputs_hidden": false
        },
        "outputId": "16df5498-a202-4510-c0d3-dafef0fca5bd"
      },
      "outputs": [],
      "source": [
        "print(myarray[0])\n",
        "print(myarray[0].shape)"
      ]
    },
    {
      "cell_type": "markdown",
      "metadata": {
        "id": "WtK-IHtm2ZTA"
      },
      "source": [
        "Just as before, the 0th element is the first row. In this case, however, the 0th element is an array of shape `(3,)`, a vector of length 3. We will see that selecting rows or columns from an array returns a *view* of that array, with dimensions correspondingly reduced.\n",
        "\n",
        "Along the same lines:"
      ]
    },
    {
      "cell_type": "code",
      "execution_count": null,
      "metadata": {
        "colab": {
          "base_uri": "https://localhost:8080/"
        },
        "id": "lZnxmarr2ZTA",
        "jupyter": {
          "outputs_hidden": false
        },
        "outputId": "7640b447-f4a1-461f-ebb9-028c2eea7b52"
      },
      "outputs": [],
      "source": [
        "print(myarray[1])\n",
        "print(myarray[1][0])\n",
        "print(myarray[1][1:])"
      ]
    },
    {
      "cell_type": "markdown",
      "metadata": {
        "id": "zcnUxJQy2ZTB"
      },
      "source": [
        "But we can now use a more natural notation:"
      ]
    },
    {
      "cell_type": "code",
      "execution_count": null,
      "metadata": {
        "colab": {
          "base_uri": "https://localhost:8080/"
        },
        "id": "3g-aNE7w2ZTB",
        "jupyter": {
          "outputs_hidden": false
        },
        "outputId": "f9b60f3a-a88a-47ff-abc1-9e2d20d98e4a"
      },
      "outputs": [],
      "source": [
        "print(myarray[1, 0])\n",
        "print(myarray[1, 1:])\n",
        "print(myarray[:, 0])"
      ]
    },
    {
      "cell_type": "markdown",
      "metadata": {
        "id": "UE6G9PYB2ZTB"
      },
      "source": [
        "And this is just the tip of the iceberg. You can use slicing along any dimension of an array, arrays to index into arrays, and much more. See the [SciPy docs](http://docs.scipy.org/doc/numpy/user/basics.indexing.html) for details."
      ]
    },
    {
      "attachments": {},
      "cell_type": "markdown",
      "metadata": {
        "id": "33RKk47x2ZTB"
      },
      "source": [
        "```{note}\n",
        "From time to time, it helps to think about how computers work to understand why some types of code go faster.\n",
        "\n",
        "For instance, our mental model of a two-dimensional array is as some sort of rectangle with row and column coordinates, but memory on your computer is _linearly_ addressed. That is, the numbers stored in memory are just a big line. Now, for a two-dimensional array, there are two possible (sensible) ways to think about mapping this rectangle to a line:\n",
        "\n",
        "1. **Row-major order:** In this scheme, the elements of the array are listed by going across the first row (index 0), then the second row (index 1), and so on until the matrix is completed. Thus, elements indexed `[0, 0]` and `[0, 1]` are located next to each other in memory, while `[0, 0]` and `[1, 0]` _are not_. This is the convention in C, Python, and R.\n",
        "1. **Column-major order:** This is the other option, where the first _column_ is contiguous in memory. This is the convention in FORTRAN, Matlab, and Julia.\n",
        "\n",
        "Why does this matter? Because operations that pull contiguous chunks from memory will be more efficient than those that have to pull non-contiguous chunks. Thus, for instance, the usual advice in Matlab to put data you want to operate on together in columns. In some cases, this will have very real performance benefits.\n",
        "\n",
        "Note that in Python/NumPy, row-major ordering means that expressions like `myarray[0,:]` or simply `myarray[0]` pull contiguous chunks from the array. Thus, an added benefit of Python syntax is that there's a simple rule for organizing your data in arrays for efficient access: arrange data so that accessing the chunks you need requires the fewest indices.\n",
        "```"
      ]
    },
    {
      "attachments": {},
      "cell_type": "markdown",
      "metadata": {
        "id": "KZo-QQbc2ZTC"
      },
      "source": [
        "## Loading data"
      ]
    },
    {
      "cell_type": "markdown",
      "metadata": {
        "id": "7rWFClxO2ZTC"
      },
      "source": [
        "But let's move on to a real example:"
      ]
    },
    {
      "cell_type": "markdown",
      "metadata": {
        "id": "3_JXcjWg2ZTC"
      },
      "source": [
        "These data are in `.npy` format, which is NumPy's native array format. Numpy is capable of saving arrays in compressed format (`.gz`) or in plain text (`.txt`) if arrays are 2-dimensional. Bear in mind that NumPy and SciPy can also be used to read in data from other common formats including those used by Matlab."
      ]
    },
    {
      "cell_type": "markdown",
      "metadata": {
        "id": "p34F1OOa2ZTC"
      },
      "source": [
        "Now let's load the data"
      ]
    },
    {
      "cell_type": "code",
      "execution_count": null,
      "metadata": {
        "colab": {
          "base_uri": "https://localhost:8080/"
        },
        "id": "mVNxCZiR22KH",
        "outputId": "c1e7db7d-2a82-45e7-ad08-ce105456a482",
        "tags": [
          "remove-output"
        ]
      },
      "outputs": [],
      "source": [
        "!gdown 1hLP90kH74R_bw_cFHtriT7Y3FpCbKmyb"
      ]
    },
    {
      "cell_type": "code",
      "execution_count": null,
      "metadata": {
        "id": "UGhCkq9S2ZTC",
        "jupyter": {
          "outputs_hidden": false
        }
      },
      "outputs": [],
      "source": [
        "arr = np.load('arraydata.npy')"
      ]
    },
    {
      "cell_type": "markdown",
      "metadata": {
        "id": "roJptvcN2ZTC"
      },
      "source": [
        "Well, that was easy!"
      ]
    },
    {
      "cell_type": "markdown",
      "metadata": {
        "id": "l548xd-g2ZTD"
      },
      "source": [
        "Let's see what we can learn about this variable we just loaded data into:"
      ]
    },
    {
      "cell_type": "code",
      "execution_count": null,
      "metadata": {
        "colab": {
          "base_uri": "https://localhost:8080/"
        },
        "id": "Vx8OSjIW2ZTD",
        "jupyter": {
          "outputs_hidden": false
        },
        "outputId": "a029c7f9-f7e8-4c70-ac38-cc9d3213af58"
      },
      "outputs": [],
      "source": [
        "print(type(arr))\n",
        "print(arr.shape)"
      ]
    },
    {
      "cell_type": "markdown",
      "metadata": {
        "id": "_RCJrkYN2ZTD"
      },
      "source": [
        "We see that this type of object is a `numpy.ndarray`, as expected, and that its shape is given by three numbers. That is, it's a *three-dimensional* array!"
      ]
    },
    {
      "cell_type": "markdown",
      "metadata": {
        "id": "Gp0HojV52ZTD"
      },
      "source": [
        "What does it look like?"
      ]
    },
    {
      "cell_type": "code",
      "execution_count": null,
      "metadata": {
        "colab": {
          "base_uri": "https://localhost:8080/"
        },
        "id": "4jF7kvb42ZTD",
        "jupyter": {
          "outputs_hidden": false
        },
        "outputId": "555b6922-7f8a-4fb7-bcb6-c4871d1c5189",
        "tags": [
          "output_scroll"
        ]
      },
      "outputs": [],
      "source": [
        "print(arr)"
      ]
    },
    {
      "cell_type": "markdown",
      "metadata": {
        "id": "p4A_C4ZB2ZTE"
      },
      "source": [
        "That probably doesn't seem very helpful. In general, with large arrays, we simply can't look at all the data. As usual, the way we will address this is by plotting. However, we can't plot all the dimensions of the array at once..."
      ]
    },
    {
      "attachments": {},
      "cell_type": "markdown",
      "metadata": {
        "id": "V5jiQS8D2ZTE"
      },
      "source": [
        "## Plotting array data"
      ]
    },
    {
      "cell_type": "code",
      "execution_count": null,
      "metadata": {
        "id": "DOo0XuVI2ZTE",
        "jupyter": {
          "outputs_hidden": false
        }
      },
      "outputs": [],
      "source": [
        "# this is also common; pyplot contains most of the common functions\n",
        "import matplotlib.pyplot as plt  \n",
        "\n",
        "# this makes sure plots are displayed in the notebook instead of in a pop-up window\n",
        "%matplotlib inline  "
      ]
    },
    {
      "cell_type": "markdown",
      "metadata": {
        "id": "ravTLN_g2ZTE"
      },
      "source": [
        "So we would like to plot our data (to see it better), but first, we need to select a subset of the data we can actually plot. The way we will do this is by taking *slices* through the data. For instance, if we do"
      ]
    },
    {
      "cell_type": "code",
      "execution_count": null,
      "metadata": {
        "colab": {
          "base_uri": "https://localhost:8080/"
        },
        "id": "IuAo7_Qz2ZTE",
        "jupyter": {
          "outputs_hidden": false
        },
        "outputId": "c2889785-abf6-4a86-d942-28bee7ef6ff6"
      },
      "outputs": [],
      "source": [
        "slc = arr[64, :, :]\n",
        "print(slc.shape)"
      ]
    },
    {
      "cell_type": "markdown",
      "metadata": {
        "id": "2lIeXrAj2ZTF"
      },
      "source": [
        "Just as before, we've asked for position 64 along axis 0, with all elements in axes 1 and 2. Just as with a coordinate grid, fixing one coordinate has left us two coordinates unspecified, so the result is a 2d array."
      ]
    },
    {
      "cell_type": "markdown",
      "metadata": {
        "id": "94AWA-kh2ZTF"
      },
      "source": [
        "To view this array, we can think of plotting it as an image, where the value of the array entry becomes an image intensity value:"
      ]
    },
    {
      "cell_type": "code",
      "execution_count": null,
      "metadata": {
        "colab": {
          "base_uri": "https://localhost:8080/",
          "height": 336
        },
        "id": "tvg9wedE2ZTF",
        "jupyter": {
          "outputs_hidden": false
        },
        "outputId": "82a4ab96-e149-4f19-a3b7-5253b789d368"
      },
      "outputs": [],
      "source": [
        "# the matplotlib functiont to show a matrix is matshow\n",
        "plt.matshow(slc)"
      ]
    },
    {
      "cell_type": "markdown",
      "metadata": {
        "id": "RlbV0RNX2ZTF"
      },
      "source": [
        "Hmmmm. What if we instead plotted this as an image? (`matshow` is mostly for looking at matrices. The following command is better for visualizing data that are a gridded version of smooth information, like an image. You may often want to try this both ways.)"
      ]
    },
    {
      "cell_type": "code",
      "execution_count": null,
      "metadata": {
        "colab": {
          "base_uri": "https://localhost:8080/",
          "height": 285
        },
        "id": "tFysViYx2ZTF",
        "jupyter": {
          "outputs_hidden": false
        },
        "outputId": "3e497b18-f142-496f-be46-1c34dad5ed4a"
      },
      "outputs": [],
      "source": [
        "plt.imshow(slc, cmap='gray')  # cmap is for colormap"
      ]
    },
    {
      "cell_type": "markdown",
      "metadata": {
        "id": "825nuTnv2ZTF"
      },
      "source": [
        "Let's take another slice, this time letting axes 0 and 1 vary:"
      ]
    },
    {
      "cell_type": "code",
      "execution_count": null,
      "metadata": {
        "colab": {
          "base_uri": "https://localhost:8080/",
          "height": 285
        },
        "id": "yqWrjJT22ZTG",
        "jupyter": {
          "outputs_hidden": false
        },
        "outputId": "f0029ce7-6c51-4eff-d784-9f06a6c0e96b"
      },
      "outputs": [],
      "source": [
        "plt.imshow(arr[:, 48, :], cmap='gray')"
      ]
    },
    {
      "cell_type": "markdown",
      "metadata": {
        "id": "NTw5Scf32ZTG"
      },
      "source": [
        "And one more..."
      ]
    },
    {
      "cell_type": "code",
      "execution_count": null,
      "metadata": {
        "colab": {
          "base_uri": "https://localhost:8080/",
          "height": 285
        },
        "id": "lsOiREOU2ZTG",
        "jupyter": {
          "outputs_hidden": false
        },
        "outputId": "8bbe0948-e082-4f92-bbe2-39e7bd1a58e6"
      },
      "outputs": [],
      "source": [
        "plt.imshow(arr[:, :, 37], cmap='gray')"
      ]
    },
    {
      "cell_type": "markdown",
      "metadata": {
        "id": "hEYEjHt82ZTG"
      },
      "source": [
        "So the array in question is actually a 3d image! And by fixing one of the coordinate dimensions of the array, we have reduced the 3d image to a 2d image. Note also a few important conventions:\n",
        "- For MRI images, the data array indices correspond to x, y, and z coordinates. These are typically in RAS+ convention, where x increases to the Right, y increases as we move Anterior, and z increases as we move Superior. \n",
        "- Fixing one coordinate (z above) gives a 2d array with x and y coordinates. However, in the image, the x direction (left-right) is plotted up-down, while the y direction (anterior-posterior) is plotted left-right. This is because functions like `matshow` and `imshow` follow the matrix convention, in which the first index is for rows and the second index is for columns. This is typically what we want: the rows of the matrix become the rows of the image.\n",
        "- Along the same lines, the vertical axis increases as one moves *down*, which is the opposite of normal plotting convention but the most sensible for matrices, where row index increases as we move down. When plotting matrices as data, make sure you know which convention is being used.\n"
      ]
    },
    {
      "attachments": {},
      "cell_type": "markdown",
      "metadata": {
        "id": "06vUN0lE2ZTG"
      },
      "source": [
        "## Activity: localizing a structure"
      ]
    },
    {
      "cell_type": "markdown",
      "metadata": {
        "id": "3LO0LXId2ZTH"
      },
      "source": [
        "The orbitofrontal cortex is an area of the brain known to be involved in a large number of cognitive functions, particularly related to reward and decision making. Suppose you perform a study and find a large BOLD (blood oxygenation level-dependent) signal response at coordinates (50, 85, 25). "
      ]
    },
    {
      "attachments": {},
      "cell_type": "markdown",
      "metadata": {
        "id": "hE7lTYQU2ZTH"
      },
      "source": [
        "````{admonition} Exercise\n",
        "Plot three sections through the brain that contain this point, showing the point with a bright red dot in each one.\n",
        "\n",
        "Hints:\n",
        "- Go ahead and issue the command \n",
        "```\n",
        "plt.figure(figsize=(15, 15))\n",
        "```\n",
        "before you plot anything. This will make the figure size bigger and easier to see.\n",
        "- It will be helpful to use the `subplot` command ([example](http://matplotlib.org/examples/pylab_examples/subplot_demo.html)) to arrange the three plots into one. You will need to specify how many rows your images should be arranged into, how many columns, and which image you want (note that, as opposed to typical Python, these indices start at 1).\n",
        "- Use `plt.scatter` ([example](http://matplotlib.org/examples/shapes_and_collections/scatter_demo.html)) to place a single dot on each image.\n",
        "    - You will have to specify only one x and one y, but keep in mind that the first number is horizontal and the second number is vertical, as with standard plotting (but not matrix plotting)!\n",
        "    - You will need to supply both the `color` and `s` (size) arguments.\n",
        "````\n",
        "    \n",
        "    \n",
        "    \n",
        "    \n",
        "    \n",
        "    "
      ]
    },
    {
      "attachments": {},
      "cell_type": "markdown",
      "metadata": {
        "id": "4LARpu9x2ZTI"
      },
      "source": [
        "### Solution:"
      ]
    },
    {
      "cell_type": "code",
      "execution_count": null,
      "metadata": {
        "colab": {
          "base_uri": "https://localhost:8080/",
          "height": 362
        },
        "id": "0sl3l0Pj3h0M",
        "outputId": "6ec27bd6-2399-4c3d-f1ef-c0ece18da5e0",
        "tags": [
          "hide-input",
          "hide-output"
        ]
      },
      "outputs": [],
      "source": [
        "cc = (50, 85, 25)\n",
        "plt.figure(figsize=(15, 15)) \n",
        "plt.subplot(1, 3, 1) \n",
        "plt.imshow(arr[cc[0], :, :], cmap='gray') \n",
        "plt.scatter(cc[2], cc[1], color='r', s=30) \n",
        "plt.subplot(1, 3, 2)\n",
        "plt.imshow(arr[:, cc[1], :], cmap='gray') \n",
        "plt.scatter(cc[2], cc[0], color='r', s=30) \n",
        "plt.subplot(1, 3, 3) \n",
        "plt.imshow(arr[:, :, cc[2]], cmap='gray') \n",
        "plt.scatter(cc[1], cc[0], color='r', s=30)"
      ]
    },
    {
      "attachments": {},
      "cell_type": "markdown",
      "metadata": {
        "id": "LdlE7wam2ZTI"
      },
      "source": [
        "## Array Math"
      ]
    },
    {
      "cell_type": "markdown",
      "metadata": {
        "id": "Jcu2cIsO2ZTI"
      },
      "source": [
        "The benefit of storing data in arrays is not merely that it makes organizing multidimensional data easier. DataFrames have many more advantages in this way and automate many powerful transformations. Instead, arrays are primarily useful to us because they make numerical operations easier.\n",
        "\n",
        "Consider, for example, the following array"
      ]
    },
    {
      "cell_type": "code",
      "execution_count": null,
      "metadata": {
        "colab": {
          "base_uri": "https://localhost:8080/"
        },
        "id": "l8ZTX2hP2ZTI",
        "jupyter": {
          "outputs_hidden": false
        },
        "outputId": "b34f4645-491e-4412-9cfd-8ea7b63946ca"
      },
      "outputs": [],
      "source": [
        "aa = np.array([[5, -7, 3.4], [6, -1, -1]])\n",
        "print(aa)"
      ]
    },
    {
      "cell_type": "markdown",
      "metadata": {
        "id": "-_0a_IdQ2ZTI"
      },
      "source": [
        "If we write something like\n",
        "\n",
        "```\n",
        "aa + 1.1\n",
        "```\n",
        "\n",
        "we typically mean that we want to add 1.1 to each entry, and this is exactly what NumPy does:"
      ]
    },
    {
      "cell_type": "code",
      "execution_count": null,
      "metadata": {
        "colab": {
          "base_uri": "https://localhost:8080/"
        },
        "id": "hPcPLN_y2ZTJ",
        "jupyter": {
          "outputs_hidden": false
        },
        "outputId": "2f434566-311f-433f-e29f-3380b4a8ad6c"
      },
      "outputs": [],
      "source": [
        "aa + 1.1"
      ]
    },
    {
      "cell_type": "markdown",
      "metadata": {
        "id": "6hnj65rz2ZTJ"
      },
      "source": [
        "Note, however, that **multiplication is elementwise by default!** "
      ]
    },
    {
      "cell_type": "code",
      "execution_count": null,
      "metadata": {
        "colab": {
          "base_uri": "https://localhost:8080/"
        },
        "id": "5077OIPz2ZTJ",
        "outputId": "1f3d4493-ccd0-4444-c25c-6839a1eff6ab"
      },
      "outputs": [],
      "source": [
        "A = np.array([[2, -2], [3, 0]])\n",
        "B = np.array([[1, 0], [0, 1]])\n",
        "\n",
        "print(A * B)  # elementwise multiplication\n",
        "print(A @ B)  # matrix multiplication"
      ]
    },
    {
      "cell_type": "markdown",
      "metadata": {
        "id": "g5q0yh5i2ZTJ"
      },
      "source": [
        "## Broadcasting"
      ]
    },
    {
      "cell_type": "markdown",
      "metadata": {
        "id": "AF4op0R22ZTJ"
      },
      "source": [
        "But NumPy is much smarter than that. If we create two more arrays"
      ]
    },
    {
      "cell_type": "code",
      "execution_count": null,
      "metadata": {
        "id": "uuHa0Bwm2ZTJ",
        "jupyter": {
          "outputs_hidden": false
        }
      },
      "outputs": [],
      "source": [
        "bb = np.array([3, -3])\n",
        "cc = np.array([7, 4, 0])"
      ]
    },
    {
      "cell_type": "markdown",
      "metadata": {
        "id": "YpdzMbfj2ZTK"
      },
      "source": [
        "We might want to add them, but addition is typically only defined for matrices of the same shape:"
      ]
    },
    {
      "cell_type": "code",
      "execution_count": null,
      "metadata": {
        "colab": {
          "base_uri": "https://localhost:8080/"
        },
        "id": "AsfxRGJ42ZTK",
        "jupyter": {
          "outputs_hidden": false
        },
        "outputId": "197fbe12-40ba-45c4-a5a3-5e26b0bee8be"
      },
      "outputs": [],
      "source": [
        "print(aa.shape)\n",
        "print(bb.shape)"
      ]
    },
    {
      "cell_type": "markdown",
      "metadata": {
        "id": "h0dETncS2ZTK"
      },
      "source": [
        "Now what we could want in this case is for NumPy to treat `bb` as having shape (2, 1) (a column vector) and simply add this column to *each* column of `aa`. This is mathematically equivalent to creating a new array of shape (2, 3) with one copy of `bb` in each column, which is then the same size as `aa`.\n",
        "\n",
        "That is, we could do"
      ]
    },
    {
      "cell_type": "code",
      "execution_count": null,
      "metadata": {
        "colab": {
          "base_uri": "https://localhost:8080/"
        },
        "id": "1ZPxV0uU2ZTK",
        "jupyter": {
          "outputs_hidden": false
        },
        "outputId": "e360a3fd-d2e2-4ec6-a544-29aeba457822"
      },
      "outputs": [],
      "source": [
        "# make a matrix by repeating the bb column three times\n",
        "bbb = np.c_[bb, bb, bb]  # concatenate along columns\n",
        "print(bbb)\n",
        "print(bbb.shape)\n",
        "\n",
        "print(bbb + aa)"
      ]
    },
    {
      "cell_type": "markdown",
      "metadata": {
        "id": "LFrEg_PL2ZTK"
      },
      "source": [
        "But clearly, this is difficult to type out if `aa` is of shape (2, 5000) and `bb` is of shape (2,). If we ask NumPy to multiply these things, it should make some reasonable guesses as to how to expand the dimensions of the arrays in order to do this and complain if it can't.\n",
        "\n",
        "This feature of NumPy goes under the name of *broadcasting*. There are very detailed rules about how NumPy makes the shapes of different arrays match up, which are detailed [here](https://scipy.github.io/old-wiki/pages/EricsBroadcastingDoc). In the simplest cases this, happens like so:"
      ]
    },
    {
      "cell_type": "code",
      "execution_count": null,
      "metadata": {
        "colab": {
          "base_uri": "https://localhost:8080/"
        },
        "id": "3d48d04o2ZTL",
        "jupyter": {
          "outputs_hidden": false
        },
        "outputId": "7b202d5b-4a01-441b-df59-841244595274"
      },
      "outputs": [],
      "source": [
        "print(bb.shape)\n",
        "print(bb[:, np.newaxis].shape)\n",
        "print(aa + bb[:, np.newaxis])"
      ]
    },
    {
      "cell_type": "markdown",
      "metadata": {
        "id": "iLG3XqMP2ZTL"
      },
      "source": [
        "Basically, we use the `np.newaxis` keyword to add an additional dimension (of size 1) to `bb` in the position we choose, making `bb` of shape (2, 1), and then NumPy sees that `aa` and `bb` share a first dimension and makes a good guess about how to broadcast them together.\n",
        "\n",
        "Similarly, the following also works:"
      ]
    },
    {
      "cell_type": "code",
      "execution_count": null,
      "metadata": {
        "colab": {
          "base_uri": "https://localhost:8080/"
        },
        "id": "WHOZpQkI2ZTL",
        "jupyter": {
          "outputs_hidden": false
        },
        "outputId": "2234dc5f-a022-4ca3-e38e-e63017068087"
      },
      "outputs": [],
      "source": [
        "print(aa + cc[np.newaxis, :])"
      ]
    },
    {
      "cell_type": "markdown",
      "metadata": {
        "id": "SEEb34cj2ZTL"
      },
      "source": [
        "## Altering arrays"
      ]
    },
    {
      "cell_type": "markdown",
      "metadata": {
        "id": "8n1UH-9d2ZTL"
      },
      "source": [
        "Clearly, another thing we might want to do to our arrays is change their entries. In the case of changing single entries, this is pretty easy to do:"
      ]
    },
    {
      "cell_type": "code",
      "execution_count": null,
      "metadata": {
        "colab": {
          "base_uri": "https://localhost:8080/"
        },
        "id": "8g8SU4rS2ZTL",
        "jupyter": {
          "outputs_hidden": false
        },
        "outputId": "a2102eb9-a585-4d3e-d9e4-7feda1906d42"
      },
      "outputs": [],
      "source": [
        "print(aa)\n",
        "print('-----------------')\n",
        "aa[0][1] = 5\n",
        "print(aa)"
      ]
    },
    {
      "cell_type": "markdown",
      "metadata": {
        "id": "34GBfNdX2ZTM"
      },
      "source": [
        "But we can assign slices as well:"
      ]
    },
    {
      "cell_type": "code",
      "execution_count": null,
      "metadata": {
        "colab": {
          "base_uri": "https://localhost:8080/"
        },
        "id": "4houe1It2ZTM",
        "jupyter": {
          "outputs_hidden": false
        },
        "outputId": "f68f846d-e1b7-4e17-9206-f6c1d4ee8bf7"
      },
      "outputs": [],
      "source": [
        "print(aa)\n",
        "print('-----------------')\n",
        "aa[1] = 0.1\n",
        "print(aa)"
      ]
    },
    {
      "cell_type": "code",
      "execution_count": null,
      "metadata": {
        "colab": {
          "base_uri": "https://localhost:8080/"
        },
        "id": "P-xTBpSU2ZTM",
        "jupyter": {
          "outputs_hidden": false
        },
        "outputId": "7c36a444-ed38-4f1e-889e-ec339dd99877"
      },
      "outputs": [],
      "source": [
        "print(aa)\n",
        "print('-----------------')\n",
        "aa[1] = [1, 2, 3]\n",
        "print(aa)"
      ]
    },
    {
      "cell_type": "markdown",
      "metadata": {
        "id": "LiJQCgM32ZTM"
      },
      "source": [
        "Note that in the latter case, we've actually assigned a *list*, not an array, to the slice `aa[1]`, but NumPy is smart enough to convert it to an array before assigning it."
      ]
    },
    {
      "cell_type": "markdown",
      "metadata": {
        "id": "W1NFo1lm2ZTM"
      },
      "source": [
        "**Important**: Notice how each time we perform an assignment above, we altered the original array, `aa`. This is almost always what we want. Often, our arrays are very large, and it costs less memory to only have one copy of a giant array, with different variables referring to slices of that array (like addresses). In NumPy parlance, we say that indexing or slicing returns a *view* of the array, not a *copy*.\n",
        "\n",
        "Be careful this distinction doesn't bite you. For instance"
      ]
    },
    {
      "cell_type": "code",
      "execution_count": null,
      "metadata": {
        "colab": {
          "base_uri": "https://localhost:8080/"
        },
        "id": "ciAj_5x32ZTM",
        "jupyter": {
          "outputs_hidden": false
        },
        "outputId": "716b4676-5e23-49d2-9489-da1cf727cf29"
      },
      "outputs": [],
      "source": [
        "aaa = aa[0]\n",
        "print(aa)\n",
        "print('-----------------')\n",
        "print(aaa)\n",
        "print('-----------------')\n",
        "aaa[2] = -100\n",
        "print(aa)\n",
        "print('-----------------')\n",
        "print(aaa)"
      ]
    },
    {
      "cell_type": "markdown",
      "metadata": {
        "id": "hBY35Oie2ZTN"
      },
      "source": [
        "Here, we simply assigned the **_name_** `aaa` to a view of `aa`; both variables still pointed to the same place in memory, so when we changed its value, it changed for both variables.\n",
        "\n",
        "Often, this is what we want. When we don't it's best to make a copy:"
      ]
    },
    {
      "cell_type": "code",
      "execution_count": null,
      "metadata": {
        "colab": {
          "base_uri": "https://localhost:8080/"
        },
        "id": "f3ncDenq2ZTN",
        "jupyter": {
          "outputs_hidden": false
        },
        "outputId": "d1902c71-419a-48c5-e2dd-de3e614bb6e6"
      },
      "outputs": [],
      "source": [
        "aaa = aa[0].copy()\n",
        "print(aa) \n",
        "print('-----------------')\n",
        "print(aaa)\n",
        "print('-----------------')\n",
        "aaa[2] = 501\n",
        "print(aa)\n",
        "print('-----------------')\n",
        "print(aaa)"
      ]
    },
    {
      "cell_type": "markdown",
      "metadata": {
        "id": "fDZ5ynHi2ZTN"
      },
      "source": [
        "## Changing dimensions"
      ]
    },
    {
      "cell_type": "markdown",
      "metadata": {
        "id": "4flEJZ3z2ZTN"
      },
      "source": [
        "Finally, there are times when you would like to change which dimension corresponds to rows and which to columns (for instance, flipping an image around the diagonal). In the 2d case, this is equivalent to matrix transposition:"
      ]
    },
    {
      "cell_type": "code",
      "execution_count": null,
      "metadata": {
        "colab": {
          "base_uri": "https://localhost:8080/"
        },
        "id": "GK0Eq7CM2ZTN",
        "jupyter": {
          "outputs_hidden": false
        },
        "outputId": "d66d6354-8eb2-4d7a-c013-c24ea6615ba5"
      },
      "outputs": [],
      "source": [
        "print(aa)\n",
        "print('-----------------')\n",
        "print(aa.T)\n",
        "print('-----------------')\n",
        "print(aa.shape, aa.T.shape)"
      ]
    },
    {
      "cell_type": "markdown",
      "metadata": {
        "id": "MCXqPGko2ZTO"
      },
      "source": [
        "For a matrix with more than two dimensions, transposition reverses the list of dimensions, so that the last becomes first, first becomes last, etc. You can also specify a custom reordering (see [here](http://docs.scipy.org/doc/numpy/reference/generated/numpy.transpose.html))."
      ]
    },
    {
      "cell_type": "code",
      "execution_count": null,
      "metadata": {
        "colab": {
          "base_uri": "https://localhost:8080/"
        },
        "id": "IV0i9ME42ZTO",
        "jupyter": {
          "outputs_hidden": false
        },
        "outputId": "c8d9611a-4d78-421f-98c7-50018d5c0e0e"
      },
      "outputs": [],
      "source": [
        "randarr = np.random.rand(5, 3, 7, 2, 6)  # a 5 x 3 x 7 array of random numbers\n",
        "print(randarr.shape, randarr.T.shape)"
      ]
    },
    {
      "attachments": {},
      "cell_type": "markdown",
      "metadata": {
        "id": "nxklsir92ZTO"
      },
      "source": [
        "## Activity: Color Images"
      ]
    },
    {
      "cell_type": "markdown",
      "metadata": {
        "id": "wRuZbOcS2ZTO"
      },
      "source": [
        "On computers, the simplest type of color image encoding is an M x N x 3 array. This represents an M x N image where each of the final dimensions represents a unique color channel (red, green, and blue). Matplotlib understands this, and will handle this automatically."
      ]
    },
    {
      "attachments": {},
      "cell_type": "markdown",
      "metadata": {
        "id": "hx0VOUm-2ZTO"
      },
      "source": [
        "To start, download any png file from the internet and save it to your working directory. (You may try using a `.jpg` or other file formats, but they are not guaranteed to work.) Then use `imread` and `imshow` to display it in the notebook like so:"
      ]
    },
    {
      "cell_type": "code",
      "execution_count": null,
      "metadata": {
        "colab": {
          "base_uri": "https://localhost:8080/"
        },
        "id": "QoPSBjU34Nxd",
        "outputId": "9e892a76-f24f-4ba9-cfd5-3a9bfab683fa",
        "tags": [
          "remove-output"
        ]
      },
      "outputs": [],
      "source": [
        "!gdown --id 1yYXD1wIVS3sv_0CXr5KoSrHprqUbJCyP"
      ]
    },
    {
      "cell_type": "code",
      "execution_count": null,
      "metadata": {
        "colab": {
          "base_uri": "https://localhost:8080/",
          "height": 303
        },
        "id": "Syvn1bT52ZTP",
        "jupyter": {
          "outputs_hidden": false
        },
        "outputId": "9bce657b-e280-4806-9110-f50c7d0ee359"
      },
      "outputs": [],
      "source": [
        "img = plt.imread('marmoset.jpg')\n",
        "print(img.shape)\n",
        "plt.imshow(img);"
      ]
    },
    {
      "cell_type": "markdown",
      "metadata": {
        "id": "dJwWzeta2ZTP"
      },
      "source": [
        "Now use what you've learned about arrays to adjust the red-green-blue color balance of the image."
      ]
    },
    {
      "cell_type": "code",
      "execution_count": null,
      "metadata": {
        "colab": {
          "base_uri": "https://localhost:8080/",
          "height": 286
        },
        "id": "zhbgFyPQ2ZTP",
        "jupyter": {
          "outputs_hidden": false
        },
        "outputId": "13ce40a5-10e9-472a-9442-5cfd7dcbf3fb"
      },
      "outputs": [],
      "source": [
        "img2 = img.copy()\n",
        "img2[:, :, 2] = 0\n",
        "plt.imshow(img2);"
      ]
    },
    {
      "cell_type": "code",
      "execution_count": null,
      "metadata": {
        "colab": {
          "base_uri": "https://localhost:8080/",
          "height": 286
        },
        "id": "ybNUGfMW2ZTP",
        "jupyter": {
          "outputs_hidden": false
        },
        "outputId": "4984fed0-0685-47bc-d8c8-8426ce1ff0d4"
      },
      "outputs": [],
      "source": [
        "img3 = img.copy()\n",
        "img3[:, :, 0] = img3[:, :, 0] * 1.3\n",
        "plt.imshow(img3);"
      ]
    },
    {
      "cell_type": "code",
      "execution_count": null,
      "metadata": {
        "colab": {
          "base_uri": "https://localhost:8080/",
          "height": 286
        },
        "id": "iNRwTACr2ZTP",
        "jupyter": {
          "outputs_hidden": false
        },
        "outputId": "9aa5065a-991f-4f7c-927a-279b9a813290"
      },
      "outputs": [],
      "source": [
        "plt.imshow(img);"
      ]
    },
    {
      "cell_type": "markdown",
      "metadata": {
        "id": "cLwD-1IQ2ZTP"
      },
      "source": [
        "I used to have an example where we assigned, e.g.,\n",
        "```python\n",
        "img3 = img\n",
        "```\n",
        "assigned as in the cell above, and showed that the original image changed. Apparently [you can no longer do that](https://stackoverflow.com/questions/39554660/np-arrays-being-immutable-assignment-destination-is-read-only)."
      ]
    },
    {
      "attachments": {},
      "cell_type": "markdown",
      "metadata": {
        "id": "TFZQUMFj2ZTQ"
      },
      "source": [
        "```{admonition} Bonus Exercises\n",
        "1. Can you flip the image horizontally?\n",
        "1. Can you rotate the image $90^\\circ$?\n",
        "```"
      ]
    },
    {
      "cell_type": "markdown",
      "metadata": {
        "id": "6UGygANO2ZTQ"
      },
      "source": [
        "If you're interested in learning more about images in Matplotlib, you can read the tutorial [here](http://matplotlib.org/users/image_tutorial.html). "
      ]
    },
    {
      "attachments": {},
      "cell_type": "markdown",
      "metadata": {
        "id": "MehIoL0H2ZTQ"
      },
      "source": [
        "## Learning More"
      ]
    },
    {
      "cell_type": "markdown",
      "metadata": {
        "id": "PfOGUkvx2ZTQ"
      },
      "source": [
        "NumPy is a powerful library, with incredibly flexible syntax, but for beginners, the code can be a little cryptic. Some suggested reading:\n",
        "\n",
        "- An extensive tutorial on NumPy is available [here](https://scipy.github.io/old-wiki/pages/Tentative_NumPy_Tutorial). \n",
        "- Once you're familiar with basic Python, [Python for Data Analysis](https://www.oreilly.com/library/view/python-for-data/9781491957653/) is a good book, covering some NumPy and SciPy, but particularly focused on Pandas (Wes McKinney, the author, was also the creator and lead developer of Pandas)."
      ]
    },
    {
      "attachments": {},
      "cell_type": "markdown",
      "metadata": {
        "id": "OsmoWAoW2ZTQ"
      },
      "source": [
        "## Bonus: NaN and missing data"
      ]
    },
    {
      "cell_type": "markdown",
      "metadata": {
        "id": "YPr94PaA2ZTQ"
      },
      "source": [
        "If you analyze data for any amount of time, you will have to deal with missing data. Sometimes data are lost &mdash; subjects withdraw, files are lost, or a given condition was not run for a particular session &mdash; and in that case, we would like a way to indicate that a matrix of data has missing entries.\n",
        "\n",
        "Other times, we have data, but some quantity we calculate turns out to be ill-defined. For instance, we might want to standardize our data, subtracting the mean and dividing by the standard deviation (this results in data with mean 0 and standard deviation 1 &mdash; a convenient thing to have). \n",
        "\n",
        "But what if we only have one data point? In this case the standard deviation of that data set is 0, and division by 0 is undefined.\n",
        "\n",
        "Clearly these are different types of situations. In the R language, the first case of missing data is coded `NA` (not available), while the second case is coded `NaN` (not a number). \n",
        "\n",
        "Python handles the second case in exactly the same way (`NaN` is an international standard), whereas the second case is handled with masking, in the form of NumPy's masked arrays."
      ]
    },
    {
      "cell_type": "code",
      "execution_count": null,
      "metadata": {
        "colab": {
          "base_uri": "https://localhost:8080/"
        },
        "id": "CEK5f9th2ZTR",
        "jupyter": {
          "outputs_hidden": false
        },
        "outputId": "bfca9a77-1f50-48cb-f51a-a27fe1f3f667",
        "tags": []
      },
      "outputs": [],
      "source": [
        "print(np.array([1., np.inf, -7, 0]) / 0.0)\n",
        "print(np.inf / np.inf)"
      ]
    },
    {
      "cell_type": "markdown",
      "metadata": {
        "id": "4_n6XqrR2ZTR"
      },
      "source": [
        "Note that some constants like $\\infty$ and `NaN` are accessible within the NumPy package as `np.inf`, `np.nan`."
      ]
    },
    {
      "cell_type": "code",
      "execution_count": null,
      "metadata": {
        "colab": {
          "base_uri": "https://localhost:8080/"
        },
        "id": "nwSX_YP22ZTR",
        "jupyter": {
          "outputs_hidden": false
        },
        "outputId": "4c30156a-e83f-4fda-e765-fe6af3ec3bd9"
      },
      "outputs": [],
      "source": [
        "# we can test for nan:\n",
        "myarr = np.array([1, -3, np.nan, 8, np.nan])\n",
        "np.isnan(myarr)"
      ]
    },
    {
      "cell_type": "markdown",
      "metadata": {
        "id": "iZm8Ymog2ZTR"
      },
      "source": [
        "We can use a boolean (True/False) array to index into a data array of the same size. When the index array is true, we pull out the corresponding elements of the data array:"
      ]
    },
    {
      "cell_type": "code",
      "execution_count": null,
      "metadata": {
        "colab": {
          "base_uri": "https://localhost:8080/"
        },
        "id": "DtDZwBDK2ZTR",
        "jupyter": {
          "outputs_hidden": false
        },
        "outputId": "a8356fb2-347b-4ab9-c51a-f5db3cb7861a"
      },
      "outputs": [],
      "source": [
        "nan_arr = np.isnan(myarr)\n",
        "\n",
        "# get entries that are not NaN (~ is negation)\n",
        "myarr[~nan_arr]"
      ]
    },
    {
      "attachments": {},
      "cell_type": "markdown",
      "metadata": {
        "id": "Yetopr2m2ZTS"
      },
      "source": [
        "### Ignoring NaNs"
      ]
    },
    {
      "cell_type": "markdown",
      "metadata": {
        "id": "MH-dtEeW2ZTS"
      },
      "source": [
        "Something that often happens is that we want to ignore `NaN`s in our data. Perhaps we want to take a mean that does not take into account any of these undefined entries:"
      ]
    },
    {
      "cell_type": "code",
      "execution_count": null,
      "metadata": {
        "colab": {
          "base_uri": "https://localhost:8080/"
        },
        "id": "giZ6YzYJ2ZTS",
        "jupyter": {
          "outputs_hidden": false
        },
        "outputId": "371e633c-cae9-406a-a0ef-e0dc8162975f"
      },
      "outputs": [],
      "source": [
        "print(myarr.mean())\n",
        "print(np.nanmean(myarr))"
      ]
    },
    {
      "cell_type": "markdown",
      "metadata": {
        "id": "w11ReoXR2ZTS"
      },
      "source": [
        "In addition, Matplotlib ignores `NaN` entries when plotting:"
      ]
    },
    {
      "cell_type": "code",
      "execution_count": null,
      "metadata": {
        "colab": {
          "base_uri": "https://localhost:8080/",
          "height": 282
        },
        "id": "k7v6BWyf2ZTS",
        "jupyter": {
          "outputs_hidden": false
        },
        "outputId": "d6ce4c93-5b51-4b8d-f549-5cbed6e8e792"
      },
      "outputs": [],
      "source": [
        "xx = np.linspace(0, 10, 500)  # make 500 uniformly spaced points between 0 and 10\n",
        "yy = 1.5 * xx - 2\n",
        "plt.plot(xx, yy);"
      ]
    },
    {
      "cell_type": "code",
      "execution_count": null,
      "metadata": {
        "colab": {
          "base_uri": "https://localhost:8080/",
          "height": 282
        },
        "id": "tm-u9SSp2ZTT",
        "jupyter": {
          "outputs_hidden": false
        },
        "outputId": "e46c098a-e179-4ae5-b6cd-9b3c75629c7e"
      },
      "outputs": [],
      "source": [
        "yy[240:300] = np.nan\n",
        "plt.plot(xx, yy);"
      ]
    },
    {
      "attachments": {},
      "cell_type": "markdown",
      "metadata": {
        "id": "OCTPHJJx2ZTT"
      },
      "source": [
        "### Masking Data"
      ]
    },
    {
      "cell_type": "markdown",
      "metadata": {
        "id": "9vYVxOtY2ZTU"
      },
      "source": [
        "Masking is a way of adding additional information to an `ndarray` to tell Python that a given entry is missing or otherwise invalid. We might want to do this for several reasons:\n",
        "\n",
        "- The data are legitimately missing, as in the examples above.\n",
        "- The data are censored. That is, the reading from our sensor is pegged at some maximum value, $M$, and so all we know is that $x \\ge M$.\n",
        "- The measurement is somehow invalid. For instance, a negative number for a length.\n",
        "\n",
        "In all of these cases, we might want to mask the invalid data.\n",
        "\n",
        "For example:"
      ]
    },
    {
      "cell_type": "code",
      "execution_count": null,
      "metadata": {
        "colab": {
          "base_uri": "https://localhost:8080/",
          "height": 282
        },
        "id": "Fzae6ALk2ZTU",
        "jupyter": {
          "outputs_hidden": false
        },
        "outputId": "f7a5cbce-bc64-4571-832f-7f4bf104d3cd"
      },
      "outputs": [],
      "source": [
        "npts = 500\n",
        "xx = np.linspace(0, 10, npts)\n",
        "yy = np.sin(xx) + 0.8\n",
        "\n",
        "plt.plot(xx, yy);"
      ]
    },
    {
      "cell_type": "markdown",
      "metadata": {
        "id": "ajWgHZ-c2ZTV"
      },
      "source": [
        "Let's say all the readings below 0 are invalid. We can fix this. The [`numpy.ma` module](http://docs.scipy.org/doc/numpy/reference/maskedarray.html) contains functions relating to masked arrays, including functions to mask data inside a range, greater or less than a given value, or where a particular truth condition is met:"
      ]
    },
    {
      "cell_type": "code",
      "execution_count": null,
      "metadata": {
        "id": "x3JgZXuI2ZTV",
        "jupyter": {
          "outputs_hidden": false
        }
      },
      "outputs": [],
      "source": [
        "masked_yy = np.ma.masked_less(yy, 0)  # mask where yy < 0"
      ]
    },
    {
      "cell_type": "code",
      "execution_count": null,
      "metadata": {
        "colab": {
          "base_uri": "https://localhost:8080/"
        },
        "id": "KATzLd0e2ZTV",
        "jupyter": {
          "outputs_hidden": false
        },
        "outputId": "07c5dcb0-18dd-4e02-9c35-0bd11c98c0b6"
      },
      "outputs": [],
      "source": [
        "print(yy.mean())\n",
        "print(masked_yy.mean())"
      ]
    },
    {
      "cell_type": "markdown",
      "metadata": {
        "id": "VVRGyQCG2ZTV"
      },
      "source": [
        "Clearly, the second average is higher. This is because it excludes all the negative numbers.\n",
        "\n",
        "Similarly, plots exclude masked values:"
      ]
    },
    {
      "cell_type": "code",
      "execution_count": null,
      "metadata": {
        "colab": {
          "base_uri": "https://localhost:8080/",
          "height": 282
        },
        "id": "FwiarALg2ZTV",
        "jupyter": {
          "outputs_hidden": false
        },
        "outputId": "ab31963b-e6cf-486b-e539-b1aa820a528f"
      },
      "outputs": [],
      "source": [
        "plt.plot(xx, masked_yy);"
      ]
    },
    {
      "cell_type": "markdown",
      "metadata": {
        "id": "l_n9iGb12ZTW"
      },
      "source": [
        "This is potentially most useful with images. For instance, we can mask our brain images from earlier by constructing the mask ourselves:"
      ]
    },
    {
      "cell_type": "code",
      "execution_count": null,
      "metadata": {
        "id": "Bd1UAH372ZTW",
        "jupyter": {
          "outputs_hidden": false
        }
      },
      "outputs": [],
      "source": [
        "# the mask should be logical and of the same size as arr\n",
        "# here, we set all entries to True, which masks all data by default\n",
        "mask = np.ones(arr.shape, dtype='bool')"
      ]
    },
    {
      "cell_type": "code",
      "execution_count": null,
      "metadata": {
        "id": "Y3ngH_VQ2ZTX",
        "jupyter": {
          "outputs_hidden": false
        }
      },
      "outputs": [],
      "source": [
        "# the mask should be true for the data we *don't* want to use\n",
        "# unmask the window: x in [60, 75), y in [50, 90), z in [20, 60)\n",
        "mask[60:75, 50:90, 20:60] = False"
      ]
    },
    {
      "cell_type": "code",
      "execution_count": null,
      "metadata": {
        "id": "8CJkPFsP2ZTX",
        "jupyter": {
          "outputs_hidden": false
        }
      },
      "outputs": [],
      "source": [
        "masked_arr = np.ma.masked_array(arr, mask=mask)"
      ]
    },
    {
      "cell_type": "code",
      "execution_count": null,
      "metadata": {
        "colab": {
          "base_uri": "https://localhost:8080/",
          "height": 362
        },
        "id": "W24kIzRb2ZTX",
        "jupyter": {
          "outputs_hidden": false
        },
        "outputId": "235c9baf-837b-47db-b539-c904753215f7"
      },
      "outputs": [],
      "source": [
        "cc = (65, 85, 25)\n",
        "\n",
        "plt.figure(figsize=(15, 15))\n",
        "plt.subplot(1, 3, 1)\n",
        "plt.imshow(masked_arr[cc[0], :, :], cmap='gray')\n",
        "plt.subplot(1, 3, 2)\n",
        "plt.imshow(masked_arr[:, cc[1], :], cmap='gray')\n",
        "plt.subplot(1, 3, 3)\n",
        "plt.imshow(masked_arr[:, :, cc[2]], cmap='gray');"
      ]
    },
    {
      "cell_type": "markdown",
      "metadata": {
        "id": "IovnI-Bn2ZTX"
      },
      "source": [
        "In this way, we can restrict our analysis to a particular region of interest inside the image; all other data will be ignored. In real MRI analysis, the mask is often based on anatomy, so that we restrict our data to a particular brain structure or structures. "
      ]
    },
    {
      "cell_type": "code",
      "execution_count": null,
      "metadata": {
        "tags": [
          "remove-cell"
        ]
      },
      "outputs": [],
      "source": [
        "# cleaning up\n",
        "import os\n",
        "os.remove('arraydata.npy')\n",
        "os.remove('marmoset.jpg')"
      ]
    }
  ],
  "metadata": {
    "anaconda-cloud": {},
    "colab": {
      "provenance": []
    },
    "kernelspec": {
      "display_name": "book",
      "language": "python",
      "name": "python3"
    },
    "language_info": {
      "codemirror_mode": {
        "name": "ipython",
        "version": 3
      },
      "file_extension": ".py",
      "mimetype": "text/x-python",
      "name": "python",
      "nbconvert_exporter": "python",
      "pygments_lexer": "ipython3",
      "version": "3.11.0"
    },
    "vscode": {
      "interpreter": {
        "hash": "a97c0be00662db3bed8fe12bace3dd68dcba4f9aa04406cb661d7504ba5e85ce"
      }
    }
  },
  "nbformat": 4,
  "nbformat_minor": 0
}
