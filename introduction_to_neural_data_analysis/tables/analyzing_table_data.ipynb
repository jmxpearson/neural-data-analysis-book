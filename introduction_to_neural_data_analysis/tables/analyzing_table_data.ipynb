{
 "cells": [
  {
   "attachments": {},
   "cell_type": "markdown",
   "metadata": {},
   "source": [
    "(analyzing-table-data)=\n",
    "# Analyzing table data\n",
    "\n",
    "Last time, we practiced loading, recoding, and tidying an example dataset. We also worked on a very limited example of exploratory analysis, constructing summary statistics and plots. Today, we'll push that analysis further, using Pandas to filter our data and ask whether some of our variables make a statistical difference to the outcomes we care about."
   ]
  },
  {
   "attachments": {},
   "cell_type": "markdown",
   "metadata": {},
   "source": [
    "## From last time: loading and merging data\n",
    "To begin follow the same approach as [last time](exploring-table-data) to download the data, load it, and combine it. This time, you _will not_ need to add the cumulative reward or cumulative trial variables. Instead, our goal will be to create a data frame that will allow us to model how total rewards earned vary across sexes as a function of behavioral state. These behavioral states are not observed but determined by using a [Hidden Markov Model](https://en.wikipedia.org/wiki/Hidden_Markov_model) (not as difficult as Wikipedia makes it look) to model behavior. That's a bit much for us to bite off at this point, but thanfully, the authors have already assigned each trial to either:\n",
    "1. explore\n",
    "2. exploit (left)\n",
    "3. exploit (right)"
   ]
  },
  {
   "attachments": {},
   "cell_type": "markdown",
   "metadata": {},
   "source": [
    "```{admonition} Exercise\n",
    "1. Use the split-apply-combine method to calculate total rewards earned for each animal for each session in each state.\n",
    "\n",
    "2. Add `sex` back in as a column to the resulting data frame. There are multiple ways to do this, but a solution that works well in more complicated examples is to `merge` the resulting data frame from the previous question with a subset of columns from the original data and drop duplicate rows.\n",
    "```"
   ]
  },
  {
   "attachments": {},
   "cell_type": "markdown",
   "metadata": {},
   "source": [
    "### Solution:"
   ]
  },
  {
   "cell_type": "code",
   "execution_count": null,
   "metadata": {
    "tags": [
     "remove-cell"
    ]
   },
   "outputs": [],
   "source": [
    "%%bash\n",
    "# recap what we did last time\n",
    "\n",
    "curl --output tmp.zip -L -X GET \"https://datadryad.org/api/v2/datasets/doi%3A10.5061%2Fdryad.z612jm6c0/download\" -H \"accept: application/zip\"\n",
    "unzip tmp.zip\n",
    "unzip cleaned_up_restless_final_data.zip\n",
    "rm tmp.zip\n",
    "rm README.txt\n",
    "rm cleaned_up_restless_final_data.zip\n",
    "chmod -R u+wx cleaned\\ up\\ restless\\ final\\ data\n",
    "mv cleaned\\ up\\ restless\\ final\\ data data"
   ]
  },
  {
   "cell_type": "code",
   "execution_count": null,
   "metadata": {
    "tags": [
     "remove-cell"
    ]
   },
   "outputs": [],
   "source": [
    "import os\n",
    "import pandas as pd\n",
    "\n",
    "data_path = 'data/'\n",
    "\n",
    "chunk_list = []\n",
    "for (dirname, _, files) in list(os.walk(data_path)):\n",
    "  folder = dirname.split('/')[-1]\n",
    "  if 'session' in folder:\n",
    "    session = int(folder[7:])  # make it an integer\n",
    "    for fname in files:\n",
    "      if fname.endswith('.csv'):\n",
    "        sub = int(fname.split('.')[0])  # make it an integer\n",
    "        chunk = pd.read_csv(dirname + '/' + fname, index_col=0)\n",
    "\n",
    "        # add columns for session and subject\n",
    "        chunk['session'] = session\n",
    "        chunk['subject'] = sub\n",
    "        if sub <= 16:\n",
    "          chunk['sex'] = 'M'\n",
    "        else:\n",
    "          chunk['sex'] = 'F'\n",
    "        \n",
    "        # make a trial column by resetting the current index and renaming to trial\n",
    "        chunk = chunk.reset_index()\n",
    "        chunk = chunk.rename(columns={\"index\": \"trial\"})\n",
    "        \n",
    "        chunk_list.append(chunk)\n",
    "\n",
    "\n",
    "\n",
    "# concatenate all data frames together\n",
    "\n",
    "dat = pd.concat(chunk_list).reset_index(drop=True)  # overwrites our old dat variable!"
   ]
  },
  {
   "cell_type": "code",
   "execution_count": null,
   "metadata": {
    "tags": [
     "remove-cell"
    ]
   },
   "outputs": [],
   "source": [
    "import shutil\n",
    "shutil.rmtree('data')"
   ]
  },
  {
   "cell_type": "code",
   "execution_count": null,
   "metadata": {},
   "outputs": [],
   "source": []
  }
 ],
 "metadata": {
  "kernelspec": {
   "display_name": "book",
   "language": "python",
   "name": "python3"
  },
  "language_info": {
   "codemirror_mode": {
    "name": "ipython",
    "version": 3
   },
   "file_extension": ".py",
   "mimetype": "text/x-python",
   "name": "python",
   "nbconvert_exporter": "python",
   "pygments_lexer": "ipython3",
   "version": "3.10.8"
  },
  "orig_nbformat": 4,
  "vscode": {
   "interpreter": {
    "hash": "a97c0be00662db3bed8fe12bace3dd68dcba4f9aa04406cb661d7504ba5e85ce"
   }
  }
 },
 "nbformat": 4,
 "nbformat_minor": 2
}
