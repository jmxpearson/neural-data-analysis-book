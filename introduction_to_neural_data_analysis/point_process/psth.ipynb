{
 "cells": [
  {
   "cell_type": "code",
   "execution_count": null,
   "metadata": {
    "tags": [
     "remove-cell"
    ]
   },
   "outputs": [],
   "source": [
    "import scipy.stats as stats\n",
    "from myst_nb import glue\n",
    "import scipy.stats as stats\n",
    "%config InlineBackend.figure_formats = ['svg']"
   ]
  },
  {
   "attachments": {},
   "cell_type": "markdown",
   "metadata": {},
   "source": [
    "(psth-section)=\n",
    "# The peri-stimulus time histogram\n",
    "\n",
    "\n",
    "The peri-stimulus (or peri-event) time histogram (PSTH/PETH) is one of the most prevalent analyses in systems neuroscience. Its original usage was in identifying responses of single neurons to specific events in time (where the events were action potentials), but it can also be used to analyze time series of specific behaviors, estimate connected cell pairs, and analyze any number of other ways in which streams of events might relate to other events in time.\n",
    "\n",
    "Here, we're going to work through the process of creating a simple PSTH using Python, noting along the way how various parameter choices capture relevant statistical assumptions and tradeoffs as well as affecting the look and feel of the resulting plots.\n",
    "\n",
    "We'll start with some sample data, shown in the raster plot below:"
   ]
  },
  {
   "cell_type": "code",
   "execution_count": null,
   "metadata": {
    "tags": [
     "remove-cell"
    ]
   },
   "outputs": [],
   "source": [
    "import numpy as np\n",
    "import matplotlib.pyplot as plt\n",
    "\n",
    "#set random seed\n",
    "np.random.seed(12345)"
   ]
  },
  {
   "cell_type": "code",
   "execution_count": null,
   "metadata": {
    "tags": [
     "remove-cell"
    ]
   },
   "outputs": [],
   "source": [
    "# time axis: \n",
    "dt = 0.001\n",
    "taxis = np.arange(-0.5, 1.5, dt)\n",
    "rate = dt * np.ones_like(taxis)\n",
    "\n",
    "# in [0, 1] rate is 10Hz\n",
    "up_rate = 10 * dt\n",
    "rate[(0 < taxis) & (taxis < 1)] = up_rate\n",
    "\n",
    "# generate counts\n",
    "ntrials = 50\n",
    "counts = stats.poisson.rvs(rate, size=(ntrials, len(rate)))\n",
    "\n",
    "# convert to event times\n",
    "trials, time_inds = counts.nonzero()\n",
    "times = taxis[time_inds]"
   ]
  },
  {
   "cell_type": "code",
   "execution_count": null,
   "metadata": {
    "tags": [
     "remove-input"
    ]
   },
   "outputs": [],
   "source": [
    "# raster plot\n",
    "plt.scatter(times, trials, s=10, color='k')\n",
    "plt.ylabel('trial')\n",
    "plt.xlabel('time (s)');"
   ]
  },
  {
   "attachments": {},
   "cell_type": "markdown",
   "metadata": {},
   "source": [
    "It should be obvious from this representation of the data that the firing rate goes up around 0 and down around 1 second later. In fact, these are artificial data generated from the methods of the last section by assuming that the firing rate is 1 Hz at baseline, increases to 10 Hz at 0.0, and falls again to baseline at 1.0 s. This highly contrived example &mdash; real data rarely look this clean &mdash; will allow us to examine the tradeoffs endemic in constructing the PSTH in a case where we know the ground truth."
   ]
  },
  {
   "cell_type": "markdown",
   "metadata": {},
   "source": [
    "## Binning"
   ]
  },
  {
   "attachments": {},
   "cell_type": "markdown",
   "metadata": {},
   "source": [
    "In the following sections, we'll assume we have our data in the form of two vectors, `times`, which contains the times of all the spikes, and `trials`, a vector of the same length that indicates the trial to which each spike belongs. \n",
    "\n",
    "```{admonition} Question\n",
    "It is more typical that data would be given as a list of lists, with each sub-list containing the spike times for that trial. How would you convert those data into the form we assume here?\n",
    "\n",
    "What if the times were given relative to a wall clock time (not trial onset), but you were given the start time of each trial?\n",
    "```"
   ]
  },
  {
   "attachments": {},
   "cell_type": "markdown",
   "metadata": {},
   "source": [
    "Given these data, we want to construct a histogram, in which the heights of histogram bars indicate _counts_. But in order to turn spike times into counts, we need to decide what time intervals will define our discrete bins. There are two ways to get these counts: \n",
    "1. We can use [`np.histogram`](https://numpy.org/doc/stable/reference/generated/numpy.histogram.html) to get them, specifying either the number of bins (as an integer) or the bin edges (as a vector).\n",
    "1. We can use [`plt.hist`](https://matplotlib.org/stable/gallery/statistics/hist.html#histograms) to make a bar plot of the result (which calls `np.histogram` under the hood).\n",
    "\n",
    "Here, we'll use the slightly more cumbersome method of specifying bin edges, since in neural data analysis we are typically more interested in specifying bin size than the number of bins."
   ]
  },
  {
   "cell_type": "code",
   "execution_count": null,
   "metadata": {},
   "outputs": [],
   "source": [
    "#specify a set of bin sizes (in s)\n",
    "bin_sizes = [0.005, 0.01, 0.02, 0.05] \n",
    "\n",
    "# make a 2 x 2 grid of plots\n",
    "fig, axes = plt.subplots(2, 2, sharey=True, sharex=True, tight_layout=True)\n",
    "\n",
    "# loop over bin sizes\n",
    "# make a PSTH for each one\n",
    "# zip pairs up the lists of bin sizes and axes\n",
    "for b, ax in zip(bin_sizes, axes.flatten()):\n",
    "    # make bins spaced b apart\n",
    "    bin_edges = np.arange(-0.5, 1.5, b)\n",
    "    ax.hist(times, bins=bin_edges)\n",
    "    ax.set_title(f\"Bin size = {b * 1000:.0f} ms\")\n",
    "    ax.set_ylabel(\"Count\")\n"
   ]
  },
  {
   "attachments": {},
   "cell_type": "markdown",
   "metadata": {},
   "source": [
    "A few things should stick out to you about the effects bin size has on the PSTH:\n",
    "- The smaller the bins, the fewer events in each bin. As a result, smaller bins lead to less (visually) apparent increases in firing.\n",
    "- Smaller bins result in \"spikier\" estimates of firing rate during the 1 s period of elevated firing. This is true despite the fact that we know that the firing rate during this period is _constant_. Conversely, larger bin sizes lead to _relatively_ less variance in bin counts. (The absolute variance is higher, since the Poisson distribution has a variance that scales as its mean.)\n",
    "- If we were concerned with estimating the onset and offset times of the elevated firing rate, larger bins would make this harder to estimate, since we would only be able to localize this event to within a time comparable to the bin size. That is, as we'll more clearly below, larger bins act as _smoothers_ of firing rate estimates.\n",
    "\n",
    "In effect, each of these phenomena are a result of the same concept, known in statistics as the **bias-variance tradeoff**: attempts to reduce the variance of an estimate (e.g., by using a larger bin size), often come at the cost of less accurate estimates (e.g., less precise onset times). Here, we know that firing rates in the middle 1 s period are constant, but if they were changing, smaller bins would allow us to better track those small changes. But the (relative) variance of those estimates would be much higher than if we used larger bins."
   ]
  },
  {
   "attachments": {},
   "cell_type": "markdown",
   "metadata": {},
   "source": [
    "## Firing rates and smoothing\n",
    "\n",
    "What we have constructed above is the classic PSTH: a histogram of spike counts across all trials. It is what you will see in many older physiology papers. It does, however, have a couple of shortcomings:\n",
    "- The quantity plotted on the y axis is spike counts, which depends on the number of trials we observe; it's not really a biological quantity of interest.\n",
    "- The estimates of firing rate are specific to each bin, but if we believe firing rates vary smoothly, we might want to lower the variance in these estimates by \"sharing\" some statistical power across bins.\n",
    "\n",
    "In response to these concerns, we will introduce two additional steps our analysis that are common features of more \"modern\" PSTHs:\n",
    "- Instead of summing across trials to get counts, we will _average_ them to get estimates of _firing rate_ as in [](psth_estimator).\n",
    "- We will then _smooth_ these firing rate estimates in time to trade temporal precision for a reduction in the variance of our estimates."
   ]
  },
  {
   "cell_type": "code",
   "execution_count": null,
   "metadata": {
    "tags": [
     "remove-cell"
    ]
   },
   "outputs": [],
   "source": [
    "fig, axes = plt.subplots(1, 2, sharey=True, tight_layout=True,\n",
    "                figsize=(10, 3))\n",
    "\n",
    "spk_times = np.array([0.1, 0.11, .120, .122])\n",
    "xmin = 0\n",
    "xmax = .15\n",
    "t_axis = np.arange(xmin, xmax, dt)\n",
    "ymin = 0\n",
    "ymax = 1.1\n",
    "spk_bin = np.histogram(spk_times, bins=t_axis)[0]\n",
    "\n",
    "plt.ylim(ymin, ymax)\n",
    "plt.yticks([])\n",
    "axes[0].set_xlim(-11, 11)\n",
    "axes[1].set_xlim(0.09, 0.14)\n",
    "axes[0].set_xlabel('time (ms)')\n",
    "filter_len = 100\n",
    "mini_t_axis = np.arange(-filter_len/2 + 0.5, filter_len/2 + 0.5, 1)\n",
    "spk_filter = np.zeros(filter_len)\n",
    "spk_filter[filter_len//2 - 1] = 1\n",
    "axes[0].stem(0, 1, markerfmt='none')\n",
    "axes[1].stem(spk_times + dt, np.ones_like(spk_times), markerfmt='none')\n",
    "\n",
    "# hacky: advance the color cycle\n",
    "axes[0].plot([], [])\n",
    "axes[1].plot([], [])\n",
    "\n",
    "plt.xticks([])\n",
    "wid = 20  # width in ms\n",
    "pad = 40\n",
    "boxcar_filter = np.pad(np.ones(wid)/wid, (pad, pad))\n",
    "axes[0].plot(mini_t_axis, boxcar_filter, label='boxcar')\n",
    "axes[1].plot(t_axis[1:], np.convolve(spk_bin, boxcar_filter, 'same'))\n",
    "\n",
    "gaussian_filter = stats.norm.pdf(np.arange(-.05, .05, dt), scale=.005)\n",
    "gaussian_filter /= np.sum(gaussian_filter)\n",
    "axes[0].plot(mini_t_axis - 0.5, gaussian_filter, label='Gaussian')\n",
    "axes[1].plot(t_axis[1:], np.convolve(spk_bin, gaussian_filter, 'same'))\n",
    "\n",
    "exponential_filter = stats.expon.pdf(np.arange(0, 0.05, dt), scale=0.002)\n",
    "exponential_filter /= np.sum(exponential_filter)\n",
    "exponential_filter = np.flip(exponential_filter)\n",
    "exponential_filter = np.pad(exponential_filter, (0, len(exponential_filter)))\n",
    "axes[0].plot(mini_t_axis + 0.5, exponential_filter, label='exponential')\n",
    "axes[1].plot(t_axis[1:], np.convolve(spk_bin, exponential_filter, 'same'))\n",
    "\n",
    "axes[0].legend();\n",
    "\n",
    "glue(\"filter_illustration\", fig, display=False);\n"
   ]
  },
  {
   "attachments": {},
   "cell_type": "markdown",
   "metadata": {},
   "source": [
    "```{glue:figure} filter_illustration\n",
    ":name: \"filter-illustration\"\n",
    "\n",
    "Effects of filter shape and width on spike rate estimation. **(Left)** A single spike (blue) and the same spike as smoothed (convolved) with a boxcar (orange), Gaussian (green), and causal exponential (red) filter. **(Right)** An example spike train smoothed using the same filters. Note that a trial-averaged PSTH is comparable to a boxcar filter with width equal to the bin width, and that the boxcar and Gaussian filters spread the influence of a spike into the both the past and the future.\n",
    "```"
   ]
  },
  {
   "attachments": {},
   "cell_type": "markdown",
   "metadata": {},
   "source": [
    "{numref}`filter-illustration` illustrates this smoothing strategy on a simple example data set of four spikes. In each case, we have replaced a single spike with the filter itself (equivalent to a [convolution](https://en.wikipedia.org/wiki/Convolution) operation). This operation spreads the influence of the single spike in time, increasing firing rate estimates nearby while lowering them at the time of the spike itself. Note also that, except for the case of the exponential filter, this smoothing spreads firing rate estimates into the future, which means that estimated firing rates will increase _before_ the first spikes actually arrive. Thus, for cases in which latencies and onsets are important, causal filters (which only spread into the past) should always be used."
   ]
  },
  {
   "attachments": {},
   "cell_type": "markdown",
   "metadata": {},
   "source": [
    "## Estimating trial-averaged firing\n",
    "\n",
    "So let's return to our example data set and try using what we've learned to estimate firing as a function of time in trial. As with the PSTH, our first step will be to bin the data, but this time, since we'll want access to the counts, not just the plot, we'll use the `np.histogram` function. Since we're eventually going to smooth with filters of various widths, we can start by using a very fine bin size of 1 ms."
   ]
  },
  {
   "cell_type": "code",
   "execution_count": null,
   "metadata": {},
   "outputs": [],
   "source": [
    "bin_size = 0.001 \n",
    "\n",
    "edges = np.arange(-0.5, 1.5, bin_size)\n",
    "\n",
    "# histogram returns a tuple (counts, edges), so take \n",
    "# only the first of these\n",
    "counts = np.histogram(times, bins=edges)[0]"
   ]
  },
  {
   "attachments": {},
   "cell_type": "markdown",
   "metadata": {},
   "source": [
    "The next step is to smooth the counts using a filter. For this example, we'll use a Gaussian filter, though the principles remain the same for other shapes. Our strategy will be to first define a filter that has a Gaussian shape (using the Gaussian probability density function in `scipy.stats`) and then to normalize that filter so that its sum is 1."
   ]
  },
  {
   "cell_type": "code",
   "execution_count": null,
   "metadata": {},
   "outputs": [],
   "source": [
    "import scipy.stats as stats\n",
    "\n",
    "# standard deviation of smoothing filter\n",
    "smooth_widths = [0.02, 0.050, 0.100, 0.2]\n",
    "\n",
    "filters = []\n",
    "# now for each bin size\n",
    "for s in smooth_widths:\n",
    "    # make a time axis for the filter (3 std before and after)\n",
    "    t_axis = np.arange(-3 * s, 3 * s, bin_size)\n",
    "\n",
    "    # make Gaussian filter \n",
    "    gaussian_filter = stats.norm.pdf(t_axis, scale=s)\n",
    "\n",
    "    # normalize its sum to 1\n",
    "    gaussian_filter /= np.sum(gaussian_filter)\n",
    "\n",
    "    filters.append(gaussian_filter)"
   ]
  },
  {
   "attachments": {},
   "cell_type": "markdown",
   "metadata": {},
   "source": [
    "Now, just as we did with our four-spike data set, we're going to use convolution to smooth the data. You can read more [here](https://en.wikipedia.org/wiki/Convolution#Visual_explanation), but the basic idea is that convolution moves the filter along the data, creating a summary of the nearby data at each stop. That is, it replaces the data value at a particular point with a weighted sum of data in the local neighborhood. In our case, we can create a plot that illustrates the effects of smoothing width on our firing rate estimate:"
   ]
  },
  {
   "cell_type": "code",
   "execution_count": null,
   "metadata": {},
   "outputs": [],
   "source": [
    "# include the ground truth rate for plotting\n",
    "true_rate = np.ones_like(edges)\n",
    "# in [0, 1] rate is 10Hz\n",
    "true_rate[(0 < edges) & (edges < 1)] = 10\n",
    "\n",
    "ntrials = 50\n",
    "\n",
    "# plot ground truth rate\n",
    "plt.plot(edges, true_rate, label='true')\n",
    "\n",
    "# enumerate gives us both indices and values in a tuple\n",
    "for idx, s in enumerate(smooth_widths):\n",
    "    # since the smoothed data is an estimate of spikes per bin,\n",
    "    # we need to divide by bin size and number of trials \n",
    "    # to get an estimate of rate\n",
    "    rate_estimate = (counts/bin_size)/ntrials\n",
    "\n",
    "    # convolve to get filtered data\n",
    "    # 'same' returns data of the same length\n",
    "    smoothed_data = np.convolve(rate_estimate, filters[idx], 'same')\n",
    "\n",
    "    # since there are one fewer bins than edges, we use edges[1:]\n",
    "    plt.plot(edges[1:], smoothed_data, label=f\"{s / bin_size:.0f} ms\")\n",
    "\n",
    "plt.xlabel('time (s)')\n",
    "plt.ylabel('firing rate (spks/s)')\n",
    "plt.legend();"
   ]
  },
  {
   "attachments": {},
   "cell_type": "markdown",
   "metadata": {},
   "source": [
    "Note that the smaller-width filters are more variable but still centered around the true data, so our estimates pick up on smaller fluctuations in local spike counts while being less reliable at each point. By contrast, the larger smoothing widths are less variable but are badly biased around firing rate changes. In effect, when smoothing with a filter of width $T$, it is hard to detect changes in firing rate on scales $< T$."
   ]
  },
  {
   "attachments": {},
   "cell_type": "markdown",
   "metadata": {},
   "source": [
    "```{admonition} Question\n",
    "In our above analysis, we binned spikes on a very fine time scale and used smoothing to get firing rate estimates. What would happen if we had used bigger bin sizes to start? Would this have affected our final rate estimates?\n",
    "```"
   ]
  },
  {
   "attachments": {},
   "cell_type": "markdown",
   "metadata": {},
   "source": [
    "## Beyond spikes\n",
    "\n",
    "Though the analyses we've done here are very simple, they apply to many different types of data. For example, many experiments generate time stamps of short behaviors that can be viewed as realizations of a point process, and we are often interested in the (average) rate of such a process around sets of other events. In such cases, the PSTH is often the method of choice. Along different lines, for continuously recorded data, we may also be interested in the average time trace of the data across repetitions of the same experimental condition, again aligned to select moments in time (e.g., trial start, movement or stimulus onset, reward delivery). In this case, the PSTH is also a useful analysis (without the hassle of binning). Implicitly, the PSTH assumes that the data have a characteristic time course of interest, and this pattern repeats around some class of events whose locations we know in time. Aligning the data to these events and then averaging thus produces an estimate of this \"typical\" time course."
   ]
  },
  {
   "cell_type": "markdown",
   "metadata": {},
   "source": []
  }
 ],
 "metadata": {
  "kernelspec": {
   "display_name": "base",
   "language": "python",
   "name": "python3"
  },
  "language_info": {
   "codemirror_mode": {
    "name": "ipython",
    "version": 3
   },
   "file_extension": ".py",
   "mimetype": "text/x-python",
   "name": "python",
   "nbconvert_exporter": "python",
   "pygments_lexer": "ipython3",
   "version": "3.8.10 (default, May 19 2021, 11:01:55) \n[Clang 10.0.0 ]"
  },
  "orig_nbformat": 4,
  "vscode": {
   "interpreter": {
    "hash": "f9e02e0b94c2bdff7abf49239ef598c5e519e47cb46f883733d825e84045e64b"
   }
  }
 },
 "nbformat": 4,
 "nbformat_minor": 2
}
